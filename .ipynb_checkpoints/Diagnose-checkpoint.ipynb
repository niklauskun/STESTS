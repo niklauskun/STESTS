{
 "cells": [
  {
   "cell_type": "code",
   "execution_count": 1,
   "id": "32711b55",
   "metadata": {},
   "outputs": [],
   "source": [
    "import pandas as pd\n",
    "import numpy as np\n",
    "import matplotlib.pyplot as plt\n"
   ]
  },
  {
   "cell_type": "markdown",
   "id": "6fe38fb3",
   "metadata": {},
   "source": [
    "### Storage Parameters"
   ]
  },
  {
   "cell_type": "code",
   "execution_count": 2,
   "id": "082e37e0",
   "metadata": {},
   "outputs": [],
   "source": [
    "Ts = 1/12\n",
    "c = 20\n",
    "eta = 0.9\n",
    "### For Intelligent Storage Ratio\n",
    "# case_template = 'Strategic/VOLL5GWQuad/2022/UC25ED1_Strategic_true_ratio{}_Seg1_BAW0_MC20.0_hetefalse'\n",
    "# case_template = 'Strategic/VOLL5GWLinear/2022/UC25ED1_Strategic_true_ratio{}_Seg1_BAW0_MC20.0_hetefalse'\n",
    "case_template = 'Strategic/PriceCap/2022_ED1_Strategic_true_FORB_true_ratio{}_Seg1_BAW0_Fuel2.0_NLC1.2_Error0.25NegativeRenew_1.0-2.0-2.0-2.0-2.0'\n",
    "\n",
    "ratios = [round(i * 0.1, 1) for i in range(11)]\n",
    "\n",
    "### For random bidding model seletction\n",
    "# case_template = 'Strategic/2022/UC25ED{}_Strategic_true_ratio1.0_Seg1_BAW0_MC20.0_hetefalse'\n",
    "# ratios = [1, 6, 13]\n",
    "\n",
    "### For Future Cases\n",
    "# case_template = 'Strategic/{}/UC25ED1_Strategic_true_ratio1.0_Seg1_BAW0_MC20.0_hetefalse'\n",
    "# ratios = [2022, 2030, 2040, 2050]\n",
    "\n",
    "# case = 'Strategic/MC20/Strategic/UC25ED1_Strategic_true_ratio0.3_Seg1_BAW0_MC20.0'\n",
    "# case = 'Strategic/UC25ED1_Strategic_true_Seg1_Load1.0_Fuel1.2_Error0.25_ratio1.0_MIP0.1_DARTDP_Hete'\n",
    "# case = 'Strategic/BidAhead/UC25ED1_Strategic_true_Seg1_Load1.0_Fuel1.2_Error0.25_ratio1.0_MIP0.1_DARTDP_BAW36'"
   ]
  },
  {
   "cell_type": "markdown",
   "id": "52c36b38",
   "metadata": {},
   "source": [
    "### Price Stats"
   ]
  },
  {
   "cell_type": "code",
   "execution_count": 3,
   "id": "d500f916",
   "metadata": {},
   "outputs": [],
   "source": [
    "# Initialize lists to hold DataFrames\n",
    "mean_prices_dfs = []\n",
    "std_prices_dfs = []"
   ]
  },
  {
   "cell_type": "code",
   "execution_count": 4,
   "id": "743caf0b",
   "metadata": {},
   "outputs": [
    {
     "name": "stdout",
     "output_type": "stream",
     "text": [
      "File for case Strategic/PriceCap/2022_ED1_Strategic_true_FORB_true_ratio0.2_Seg1_BAW0_Fuel2.0_NLC1.2_Error0.25NegativeRenew_1.0-2.0-2.0-2.0-2.0 not found.\n",
      "File for case Strategic/PriceCap/2022_ED1_Strategic_true_FORB_true_ratio0.4_Seg1_BAW0_Fuel2.0_NLC1.2_Error0.25NegativeRenew_1.0-2.0-2.0-2.0-2.0 not found.\n",
      "File for case Strategic/PriceCap/2022_ED1_Strategic_true_FORB_true_ratio0.7_Seg1_BAW0_Fuel2.0_NLC1.2_Error0.25NegativeRenew_1.0-2.0-2.0-2.0-2.0 not found.\n"
     ]
    }
   ],
   "source": [
    "# Loop over ratios from 0.0 to 1.0 (assuming increment by 0.1)\n",
    "for ratio in ratios:\n",
    "    case = case_template.format(ratio)\n",
    "    try:\n",
    "        # Try to read the CSV file for the current case\n",
    "        price = pd.read_csv('output/'+case+'/EDprice.csv', header=None)\n",
    "    except FileNotFoundError:\n",
    "        print(f\"File for case {case} not found.\")\n",
    "        continue\n",
    "\n",
    "    # Calculate stats and transpose\n",
    "    pricestats = pd.concat([price.mean()*12, (price*12).std()], axis=1).T\n",
    "\n",
    "    # Now, instead of appending Series objects, you create DataFrame slices for each and append them\n",
    "    mean_prices_dfs.append(pricestats.iloc[[0]])\n",
    "    std_prices_dfs.append(pricestats.iloc[[1]])"
   ]
  },
  {
   "cell_type": "code",
   "execution_count": 5,
   "id": "05ee5aac",
   "metadata": {},
   "outputs": [
    {
     "ename": "ValueError",
     "evalue": "Length mismatch: Expected axis has 8 elements, new values have 11 elements",
     "output_type": "error",
     "traceback": [
      "\u001b[0;31m---------------------------------------------------------------------------\u001b[0m",
      "\u001b[0;31mValueError\u001b[0m                                Traceback (most recent call last)",
      "Cell \u001b[0;32mIn[5], line 4\u001b[0m\n\u001b[1;32m      2\u001b[0m mean_prices_df \u001b[38;5;241m=\u001b[39m pd\u001b[38;5;241m.\u001b[39mconcat(mean_prices_dfs)\u001b[38;5;241m.\u001b[39mreset_index(drop\u001b[38;5;241m=\u001b[39m\u001b[38;5;28;01mTrue\u001b[39;00m)\n\u001b[1;32m      3\u001b[0m std_prices_df \u001b[38;5;241m=\u001b[39m pd\u001b[38;5;241m.\u001b[39mconcat(std_prices_dfs)\u001b[38;5;241m.\u001b[39mreset_index(drop\u001b[38;5;241m=\u001b[39m\u001b[38;5;28;01mTrue\u001b[39;00m)\n\u001b[0;32m----> 4\u001b[0m \u001b[43mmean_prices_df\u001b[49m\u001b[38;5;241;43m.\u001b[39;49m\u001b[43mindex\u001b[49m \u001b[38;5;241m=\u001b[39m ratios\n\u001b[1;32m      5\u001b[0m std_prices_df\u001b[38;5;241m.\u001b[39mindex \u001b[38;5;241m=\u001b[39m ratios\n",
      "File \u001b[0;32m~/opt/anaconda3/envs/STESTS/lib/python3.11/site-packages/pandas/core/generic.py:6002\u001b[0m, in \u001b[0;36mNDFrame.__setattr__\u001b[0;34m(self, name, value)\u001b[0m\n\u001b[1;32m   6000\u001b[0m \u001b[38;5;28;01mtry\u001b[39;00m:\n\u001b[1;32m   6001\u001b[0m     \u001b[38;5;28mobject\u001b[39m\u001b[38;5;241m.\u001b[39m\u001b[38;5;21m__getattribute__\u001b[39m(\u001b[38;5;28mself\u001b[39m, name)\n\u001b[0;32m-> 6002\u001b[0m     \u001b[38;5;28;01mreturn\u001b[39;00m \u001b[38;5;28;43mobject\u001b[39;49m\u001b[38;5;241;43m.\u001b[39;49m\u001b[38;5;21;43m__setattr__\u001b[39;49m\u001b[43m(\u001b[49m\u001b[38;5;28;43mself\u001b[39;49m\u001b[43m,\u001b[49m\u001b[43m \u001b[49m\u001b[43mname\u001b[49m\u001b[43m,\u001b[49m\u001b[43m \u001b[49m\u001b[43mvalue\u001b[49m\u001b[43m)\u001b[49m\n\u001b[1;32m   6003\u001b[0m \u001b[38;5;28;01mexcept\u001b[39;00m \u001b[38;5;167;01mAttributeError\u001b[39;00m:\n\u001b[1;32m   6004\u001b[0m     \u001b[38;5;28;01mpass\u001b[39;00m\n",
      "File \u001b[0;32m~/opt/anaconda3/envs/STESTS/lib/python3.11/site-packages/pandas/_libs/properties.pyx:69\u001b[0m, in \u001b[0;36mpandas._libs.properties.AxisProperty.__set__\u001b[0;34m()\u001b[0m\n",
      "File \u001b[0;32m~/opt/anaconda3/envs/STESTS/lib/python3.11/site-packages/pandas/core/generic.py:730\u001b[0m, in \u001b[0;36mNDFrame._set_axis\u001b[0;34m(self, axis, labels)\u001b[0m\n\u001b[1;32m    725\u001b[0m \u001b[38;5;250m\u001b[39m\u001b[38;5;124;03m\"\"\"\u001b[39;00m\n\u001b[1;32m    726\u001b[0m \u001b[38;5;124;03mThis is called from the cython code when we set the `index` attribute\u001b[39;00m\n\u001b[1;32m    727\u001b[0m \u001b[38;5;124;03mdirectly, e.g. `series.index = [1, 2, 3]`.\u001b[39;00m\n\u001b[1;32m    728\u001b[0m \u001b[38;5;124;03m\"\"\"\u001b[39;00m\n\u001b[1;32m    729\u001b[0m labels \u001b[38;5;241m=\u001b[39m ensure_index(labels)\n\u001b[0;32m--> 730\u001b[0m \u001b[38;5;28;43mself\u001b[39;49m\u001b[38;5;241;43m.\u001b[39;49m\u001b[43m_mgr\u001b[49m\u001b[38;5;241;43m.\u001b[39;49m\u001b[43mset_axis\u001b[49m\u001b[43m(\u001b[49m\u001b[43maxis\u001b[49m\u001b[43m,\u001b[49m\u001b[43m \u001b[49m\u001b[43mlabels\u001b[49m\u001b[43m)\u001b[49m\n\u001b[1;32m    731\u001b[0m \u001b[38;5;28mself\u001b[39m\u001b[38;5;241m.\u001b[39m_clear_item_cache()\n",
      "File \u001b[0;32m~/opt/anaconda3/envs/STESTS/lib/python3.11/site-packages/pandas/core/internals/managers.py:225\u001b[0m, in \u001b[0;36mBaseBlockManager.set_axis\u001b[0;34m(self, axis, new_labels)\u001b[0m\n\u001b[1;32m    223\u001b[0m \u001b[38;5;28;01mdef\u001b[39;00m \u001b[38;5;21mset_axis\u001b[39m(\u001b[38;5;28mself\u001b[39m, axis: AxisInt, new_labels: Index) \u001b[38;5;241m-\u001b[39m\u001b[38;5;241m>\u001b[39m \u001b[38;5;28;01mNone\u001b[39;00m:\n\u001b[1;32m    224\u001b[0m     \u001b[38;5;66;03m# Caller is responsible for ensuring we have an Index object.\u001b[39;00m\n\u001b[0;32m--> 225\u001b[0m     \u001b[38;5;28;43mself\u001b[39;49m\u001b[38;5;241;43m.\u001b[39;49m\u001b[43m_validate_set_axis\u001b[49m\u001b[43m(\u001b[49m\u001b[43maxis\u001b[49m\u001b[43m,\u001b[49m\u001b[43m \u001b[49m\u001b[43mnew_labels\u001b[49m\u001b[43m)\u001b[49m\n\u001b[1;32m    226\u001b[0m     \u001b[38;5;28mself\u001b[39m\u001b[38;5;241m.\u001b[39maxes[axis] \u001b[38;5;241m=\u001b[39m new_labels\n",
      "File \u001b[0;32m~/opt/anaconda3/envs/STESTS/lib/python3.11/site-packages/pandas/core/internals/base.py:70\u001b[0m, in \u001b[0;36mDataManager._validate_set_axis\u001b[0;34m(self, axis, new_labels)\u001b[0m\n\u001b[1;32m     67\u001b[0m     \u001b[38;5;28;01mpass\u001b[39;00m\n\u001b[1;32m     69\u001b[0m \u001b[38;5;28;01melif\u001b[39;00m new_len \u001b[38;5;241m!=\u001b[39m old_len:\n\u001b[0;32m---> 70\u001b[0m     \u001b[38;5;28;01mraise\u001b[39;00m \u001b[38;5;167;01mValueError\u001b[39;00m(\n\u001b[1;32m     71\u001b[0m         \u001b[38;5;124mf\u001b[39m\u001b[38;5;124m\"\u001b[39m\u001b[38;5;124mLength mismatch: Expected axis has \u001b[39m\u001b[38;5;132;01m{\u001b[39;00mold_len\u001b[38;5;132;01m}\u001b[39;00m\u001b[38;5;124m elements, new \u001b[39m\u001b[38;5;124m\"\u001b[39m\n\u001b[1;32m     72\u001b[0m         \u001b[38;5;124mf\u001b[39m\u001b[38;5;124m\"\u001b[39m\u001b[38;5;124mvalues have \u001b[39m\u001b[38;5;132;01m{\u001b[39;00mnew_len\u001b[38;5;132;01m}\u001b[39;00m\u001b[38;5;124m elements\u001b[39m\u001b[38;5;124m\"\u001b[39m\n\u001b[1;32m     73\u001b[0m     )\n",
      "\u001b[0;31mValueError\u001b[0m: Length mismatch: Expected axis has 8 elements, new values have 11 elements"
     ]
    }
   ],
   "source": [
    "# Convert lists of series to DataFrames\n",
    "mean_prices_df = pd.concat(mean_prices_dfs).reset_index(drop=True)\n",
    "std_prices_df = pd.concat(std_prices_dfs).reset_index(drop=True)\n",
    "mean_prices_df.index = ratios\n",
    "std_prices_df.index = ratios"
   ]
  },
  {
   "cell_type": "code",
   "execution_count": null,
   "id": "53494bbb",
   "metadata": {},
   "outputs": [],
   "source": [
    "mean_prices_df"
   ]
  },
  {
   "cell_type": "code",
   "execution_count": null,
   "id": "ff419a49",
   "metadata": {},
   "outputs": [],
   "source": [
    "std_prices_df"
   ]
  },
  {
   "cell_type": "code",
   "execution_count": null,
   "id": "3f2f7e2f",
   "metadata": {},
   "outputs": [],
   "source": [
    "# Assuming mean_prices_df and std_prices_df are already defined\n",
    "# Selecting the columns for Regions 1, 2, and 3\n",
    "regions = [0, 1, 2]\n",
    "mean_prices = mean_prices_df.iloc[:, regions]\n",
    "std_prices = std_prices_df.iloc[:, regions]\n",
    "\n",
    "# Preparing ISR values from the index\n",
    "isr_values = mean_prices.index\n",
    "\n",
    "# New colors and error bar theme\n",
    "new_colors = ['#0072B2', '#D55E00', '#CC79A7']  # Updated color palette\n",
    "new_labels = ['Region 1 - 17MW', 'Region 2 - 3666MW', 'Region 3 - 1015MW']\n",
    "line_styles = ['-', '--', '-.']  # Different line styles for visual distinction\n",
    "marker_styles = ['o', 's', 'd']  # Different marker styles for each region\n",
    "plt.figure(figsize=(10, 8))\n",
    "\n",
    "for region, color, label, line_style, marker_style in zip(regions, new_colors, new_labels, line_styles, marker_styles):\n",
    "    plt.errorbar(isr_values, mean_prices.iloc[:, region], yerr=std_prices.iloc[:, region], \n",
    "                 label=label, color=color, fmt=line_style + marker_style, capsize=5, elinewidth=2, capthick=2, markeredgewidth=2)\n",
    "\n",
    "plt.title('CAISO Real-Time Price Variability by Region and ISR', fontsize=20)\n",
    "plt.xlabel('Intelligent Storage Ratio (ISR)', fontsize=20)\n",
    "plt.ylabel('Mean Price ($/MWh)', fontsize=20)\n",
    "plt.ylim([0, 200])\n",
    "plt.legend(fontsize=20, loc = 'upper right')\n",
    "plt.grid(True, which='both', linestyle='--', linewidth=0.5)\n",
    "\n",
    "# Setting tick parameters for both axes\n",
    "plt.xticks(fontsize=20)\n",
    "plt.yticks(fontsize=20)\n",
    "\n",
    "plt.tight_layout()\n",
    "\n",
    "# Save the plot to a file suitable for inclusion in your paper\n",
    "# plt.savefig('/mnt/data/caiso_price_variability.png', dpi=300)\n",
    "\n",
    "# Show the plot\n",
    "plt.show()\n"
   ]
  },
  {
   "cell_type": "markdown",
   "id": "953ddbe8",
   "metadata": {},
   "source": [
    "### Total System Cost & Avg SOC"
   ]
  },
  {
   "cell_type": "code",
   "execution_count": null,
   "id": "745363d2",
   "metadata": {},
   "outputs": [],
   "source": [
    "case_template = 'Strategic/Exp/2022/UC25ED1_Strategic_true_FORB_true_ratio{}_Seg1_BAW0_Fuel2.0_NLC2.0_Error0.25_ESPeakBidAdjustment1.0_ESPeakBid100.0NegativeRenew_1.0-2.0-2.0-2.0-2.0'\n",
    "ratios = [round(i * 0.1, 1) for i in range(11)]\n",
    "total_system_costs = []\n",
    "# Loop over ratios from 0.0 to 1.0 (assuming increment by 0.1)\n",
    "for ratio in ratios:\n",
    "    case = case_template.format(ratio, ratio)\n",
    "    try:\n",
    "        # Read the CSV file for the current case\n",
    "        cost = pd.read_csv(f'output/{case}/EDcost.csv', header=None)\n",
    "        SOC = pd.read_csv(f'output/{case}/EDSOCini.csv', header=None)\n",
    "    except FileNotFoundError:\n",
    "        print(f\"File for case {case} not found.\")\n",
    "        # Optionally, append a NaN or some indicator of missing data\n",
    "        total_system_costs.append({\n",
    "                'System Cost': float('nan'),\n",
    "                'Average SoC': float('nan')\n",
    "        })\n",
    "        continue\n",
    "\n",
    "    # Sum the total cost and normalize\n",
    "    total_cost_normalized = cost.sum().values[0] / (10**10)\n",
    "    if (ratio == 0.0) | (ratio == 1.0):\n",
    "        avg_soc = SOC.iloc[:, -6:].sum().sum()/(19573.6*288*364)*100\n",
    "    else:\n",
    "        avg_soc = SOC.iloc[:, -12:].sum().sum()/(19573.6*288*364)*100\n",
    "    total_system_costs.append({\n",
    "                'Total System Cost': total_cost_normalized,\n",
    "                'Average SoC': avg_soc\n",
    "        })\n",
    "\n",
    "# Convert the list to a DataFrame\n",
    "total_system_costs_df = pd.DataFrame(total_system_costs, columns=['Total System Cost','Average SoC'])\n",
    "\n",
    "# Adjust the index to represent ratios directly, if desired\n",
    "# total_system_costs_df.index = [str(round(i * 0.1, 1)) for i in range(11)]\n",
    "total_system_costs_df.index = ratios\n",
    "\n",
    "\n",
    "total_system_costs_df"
   ]
  },
  {
   "cell_type": "code",
   "execution_count": null,
   "id": "31b3dc9f",
   "metadata": {},
   "outputs": [],
   "source": [
    "case_template = 'Strategic/Exp/2022/UC25ED1_Strategic_true_FORB_true_ratio{}_Seg5_BAW0_Fuel2.0_NLC2.0_Error0.25_ESPeakBidAdjustment1.0_ESPeakBid100.0NegativeRenew_1.0-2.0-2.0-2.0-2.0'\n",
    "ratios = [round(i * 0.1, 1) for i in range(11)]\n",
    "total_system_costs = []\n",
    "# Loop over ratios from 0.0 to 1.0 (assuming increment by 0.1)\n",
    "for ratio in ratios:\n",
    "    case = case_template.format(ratio, ratio)\n",
    "    try:\n",
    "        # Read the CSV file for the current case\n",
    "        cost = pd.read_csv(f'output/{case}/EDcost.csv', header=None)\n",
    "        SOC = pd.read_csv(f'output/{case}/EDSOCini.csv', header=None)\n",
    "    except FileNotFoundError:\n",
    "        print(f\"File for case {case} not found.\")\n",
    "        # Optionally, append a NaN or some indicator of missing data\n",
    "        total_system_costs.append({\n",
    "                'System Cost': float('nan'),\n",
    "                'Average SoC': float('nan')\n",
    "        })\n",
    "        continue\n",
    "\n",
    "    # Sum the total cost and normalize\n",
    "    total_cost_normalized = cost.sum().values[0] / (10**10)\n",
    "    if (ratio == 0.0) | (ratio == 1.0):\n",
    "        avg_soc = SOC.iloc[:, -6:].sum().sum()/(19573.6*288*364)*100\n",
    "    else:\n",
    "        avg_soc = SOC.iloc[:, -12:].sum().sum()/(19573.6*288*364)*100\n",
    "    total_system_costs.append({\n",
    "                'Total System Cost': total_cost_normalized,\n",
    "                'Average SoC': avg_soc\n",
    "        })\n",
    "\n",
    "# Convert the list to a DataFrame\n",
    "total_system_costs_df2 = pd.DataFrame(total_system_costs, columns=['Total System Cost','Average SoC'])\n",
    "\n",
    "# Adjust the index to represent ratios directly, if desired\n",
    "# total_system_costs_df.index = [str(round(i * 0.1, 1)) for i in range(11)]\n",
    "total_system_costs_df2.index = ratios\n",
    "\n",
    "\n",
    "total_system_costs_df2"
   ]
  },
  {
   "cell_type": "code",
   "execution_count": null,
   "id": "4ddaab4c",
   "metadata": {
    "scrolled": false
   },
   "outputs": [],
   "source": [
    "# Calculate percentage reduction compared to 0.0 ISR\n",
    "initial_cost = total_system_costs_df['Total System Cost'].iloc[0]\n",
    "percentage_reduction = (total_system_costs_df['Total System Cost'] - initial_cost) / initial_cost * 100\n",
    "\n",
    "# Plotting\n",
    "fig, ax1 = plt.subplots(figsize=(8, 6))\n",
    "\n",
    "color = '#0072B2'\n",
    "ax1.set_xlabel('Intelligent Storage Ratio (ISR)', fontsize=12)\n",
    "ax1.set_ylabel('Total System Cost (Billion $)', color=color, fontsize=12)\n",
    "ax1.bar(ratios, total_system_costs_df['Total System Cost'], width=0.05, color=color, alpha=0.6, label='Percentage Reduction')\n",
    "ax1.tick_params(axis='y', labelcolor=color)\n",
    "ax1.grid(True, which='both', linestyle='--', linewidth=0.5)\n",
    "ax1.set_ylim([1.35,1.41])\n",
    "\n",
    "# Instantiate a second y-axis for average system BESS SoC\n",
    "ax2 = ax1.twinx() \n",
    "color = '#D55E00'\n",
    "ax2.set_ylabel('Average System BESS SoC (%)', color=color, fontsize=12)  \n",
    "ax2.plot(ratios, total_system_costs_df['Average SoC'], '-o', color=color, label='Total System Cost')\n",
    "ax2.tick_params(axis='y', labelcolor=color)\n",
    "ax2.set_ylim([40,65])\n",
    "\n",
    "\n",
    "# Instantiate a second y-axis for percentage reduction\n",
    "# ax2 = ax1.twinx() \n",
    "# color = '#D55E00'\n",
    "# ax2.set_ylabel('Percentage Reduction (%)', color=color, fontsize=12)  \n",
    "# ax2.bar(ratios, percentage_reduction, width=0.05, color=color, alpha=0.6, label='Percentage Reduction')\n",
    "# ax2.tick_params(axis='y', labelcolor=color)\n",
    "\n",
    "fig.tight_layout()  \n",
    "plt.title('Total System Cost and Percentage Reduction Across WECC vs ISR', fontsize=14)\n",
    "plt.show()"
   ]
  },
  {
   "cell_type": "code",
   "execution_count": null,
   "id": "a47e25d8",
   "metadata": {},
   "outputs": [],
   "source": [
    "# Calculate percentage reduction compared to 0.0 ISR\n",
    "initial_cost = total_system_costs_df2['Total System Cost'].iloc[0]\n",
    "percentage_reduction = (total_system_costs_df2['Total System Cost'] - initial_cost) / initial_cost * 100\n",
    "\n",
    "# Plotting\n",
    "fig, ax1 = plt.subplots(figsize=(8, 6))\n",
    "\n",
    "color = '#0072B2'\n",
    "ax1.set_xlabel('Intelligent Storage Ratio (ISR)', fontsize=12)\n",
    "ax1.set_ylabel('Total System Cost (Billion $)', color=color, fontsize=12)\n",
    "ax1.bar(ratios, total_system_costs_df['Total System Cost'], width=0.05, color=color, alpha=0.6, label='Percentage Reduction')\n",
    "ax1.tick_params(axis='y', labelcolor=color)\n",
    "ax1.grid(True, which='both', linestyle='--', linewidth=0.5)\n",
    "ax1.set_ylim([1.35,1.41])\n",
    "\n",
    "# Instantiate a second y-axis for average system BESS SoC\n",
    "ax2 = ax1.twinx() \n",
    "color = '#D55E00'\n",
    "ax2.set_ylabel('Average System BESS SoC (%)', color=color, fontsize=12)  \n",
    "ax2.plot(ratios, total_system_costs_df['Average SoC'], '-o', color=color, label='Total System Cost')\n",
    "ax2.tick_params(axis='y', labelcolor=color)\n",
    "ax2.set_ylim([40,65])\n",
    "\n",
    "\n",
    "# Instantiate a second y-axis for percentage reduction\n",
    "# ax2 = ax1.twinx() \n",
    "# color = '#D55E00'\n",
    "# ax2.set_ylabel('Percentage Reduction (%)', color=color, fontsize=12)  \n",
    "# ax2.bar(ratios, percentage_reduction, width=0.05, color=color, alpha=0.6, label='Percentage Reduction')\n",
    "# ax2.tick_params(axis='y', labelcolor=color)\n",
    "\n",
    "fig.tight_layout()  \n",
    "plt.title('Total System Cost and Percentage Reduction Across WECC vs ISR', fontsize=14)\n",
    "plt.show()"
   ]
  },
  {
   "cell_type": "code",
   "execution_count": null,
   "id": "4f323cb3",
   "metadata": {},
   "outputs": [],
   "source": [
    "# Define ratios (x-axis values)\n",
    "ratios = [round(i * 0.1, 1) for i in range(11)]\n",
    "\n",
    "# Assuming total_system_costs_df and total_system_costs_df2 are already defined\n",
    "# Calculate percentage reduction compared to 0.0 ISR\n",
    "initial_cost1 = total_system_costs_df['Total System Cost'].iloc[0]\n",
    "initial_cost2 = total_system_costs_df2['Total System Cost'].iloc[0]\n",
    "\n",
    "percentage_reduction1 = (total_system_costs_df['Total System Cost'] - initial_cost1) / initial_cost1 * 100\n",
    "percentage_reduction2 = (total_system_costs_df2['Total System Cost'] - initial_cost2) / initial_cost2 * 100\n",
    "\n",
    "# Define bar width and bar positions\n",
    "bar_width = 0.4\n",
    "bar_positions1 = np.arange(len(ratios))\n",
    "bar_positions2 = bar_positions1 + bar_width\n",
    "\n",
    "# Plotting\n",
    "fig, ax1 = plt.subplots(figsize=(12, 7))\n",
    "\n",
    "# Plot total system costs\n",
    "color1 = '#0072B2'\n",
    "color2 = '#009E73'\n",
    "ax1.set_xlabel('Intelligent Storage Ratio (ISR)', fontsize=20)\n",
    "ax1.set_ylabel('Total System Cost (Billion $)', fontsize=20)\n",
    "bar1 = ax1.bar(bar_positions1, total_system_costs_df['Total System Cost'], width=bar_width, color=color1, alpha=0.6, label='Total System Cost - SOC-Independent')\n",
    "bar2 = ax1.bar(bar_positions2, total_system_costs_df2['Total System Cost'], width=bar_width, color=color2, alpha=0.6, label='Total System Cost - SOC-Dependent')\n",
    "ax1.tick_params(axis='y', labelsize=20)\n",
    "ax1.tick_params(axis='x', labelsize=20)\n",
    "ax1.grid(True, which='both', linestyle='--', linewidth=0.5)\n",
    "ax1.set_ylim([1.38,1.41])\n",
    "\n",
    "# Instantiate a second y-axis for percentage reduction\n",
    "ax2 = ax1.twinx()\n",
    "ax2.set_ylabel('Average System BESS SoC (%)', fontsize=20)\n",
    "\n",
    "# Plot percentage reductions\n",
    "line1, = ax2.plot(bar_positions1 + bar_width / 2, total_system_costs_df['Average SoC'], '-o', color=color1, label='Average BESS SoC - SOC-Independent')\n",
    "line2, = ax2.plot(bar_positions1 + bar_width / 2, total_system_costs_df2['Average SoC'], '-s', color=color2, label='Average BESS SoC - SOC-Dependent')\n",
    "ax2.tick_params(axis='y', labelsize=20)\n",
    "ax2.set_ylim([40,65])\n",
    "\n",
    "# Set x-axis ticks to be in the middle of the grouped bars\n",
    "ax1.set_xticks(bar_positions1 + bar_width / 2)\n",
    "ax1.set_xticklabels(ratios, fontsize=20)\n",
    "\n",
    "# Combine legends from both axes\n",
    "lines = [line1, line2]\n",
    "bars = [bar1, bar2]\n",
    "ax1.legend(bars + lines, [bar.get_label() for bar in bars] + [line.get_label() for line in lines], loc='upper right', fontsize=20)\n",
    "\n",
    "fig.tight_layout()\n",
    "plt.title('Total System Cost and Average BESS SoC Across WECC vs ISR', fontsize=20)\n",
    "plt.show()"
   ]
  },
  {
   "cell_type": "markdown",
   "id": "e7b46d70",
   "metadata": {},
   "source": [
    "### Loss of Load"
   ]
  },
  {
   "cell_type": "code",
   "execution_count": null,
   "id": "1a39854c",
   "metadata": {},
   "outputs": [],
   "source": [
    "LL = pd.DataFrame(index=np.arange(0.0, 1.1, 0.1))"
   ]
  },
  {
   "cell_type": "code",
   "execution_count": null,
   "id": "7b08cbb8",
   "metadata": {},
   "outputs": [],
   "source": [
    "case_template = 'Strategic/Exp/2022/UC25ED1_Strategic_true_FORB_true_ratio{}_Seg5_BAW0_Fuel2.0_NLC2.0_Error0.25_ESPeakBidAdjustment1.0_ESPeakBid100.0NegativeRenew_1.0-2.0-2.0-2.0-2.0'\n",
    "ratios = [round(i * 0.1, 1) for i in range(11)]\n",
    "case_name = 'SOC-Dependent'"
   ]
  },
  {
   "cell_type": "code",
   "execution_count": null,
   "id": "16515ee0",
   "metadata": {},
   "outputs": [],
   "source": [
    "total_system_ll = []\n",
    "# Loop over ratios from 0.0 to 1.0 (assuming increment by 0.1)\n",
    "for ratio in ratios:\n",
    "    case = case_template.format(ratio, ratio)\n",
    "    try:\n",
    "        # Read the CSV file for the current case\n",
    "        ll = pd.read_csv(f'output/{case}/EDSlack.csv', header=None)\n",
    "    except FileNotFoundError:\n",
    "        print(f\"File for case {case} not found.\")\n",
    "        # Optionally, append a NaN or some indicator of missing data\n",
    "        total_system_ll.append(float('nan'))\n",
    "        continue\n",
    "\n",
    "    # Sum the total ll\n",
    "    total_ll = ll.sum().sum()\n",
    "    total_system_ll.append(total_ll)\n",
    "total_system_ll  "
   ]
  },
  {
   "cell_type": "code",
   "execution_count": null,
   "id": "c990a8f9",
   "metadata": {},
   "outputs": [],
   "source": [
    "LL[case_name] = total_system_ll\n",
    "LL"
   ]
  },
  {
   "cell_type": "code",
   "execution_count": null,
   "id": "916ed6ca",
   "metadata": {},
   "outputs": [],
   "source": [
    "case_names = LL.columns\n",
    "fig, ax = plt.subplots(figsize=(10, 6))\n",
    "x = np.arange(len(LL.index))  # the label locations\n",
    "width = 0.2  # the width of the bars\n",
    "fontsize = 14\n",
    "# Define colors for related cases\n",
    "colors = ['#1f77b4', '#ff7f0e', '#aec7e8', '#ffbb78']  # Dark and light shades of blue and orange\n",
    "\n",
    "for i, name in enumerate(case_names):\n",
    "    ax.bar(x + i*width - width*1.5, LL[name]/12, width, label=name, color=colors[i])\n",
    "\n",
    "# Add some text for labels, title and custom x-axis tick labels, etc.\n",
    "ax.set_xlabel('Intelligent Storage Ratio (ISR)', fontsize=fontsize)\n",
    "ax.set_ylabel('Total Loss of Load (MWh)', fontsize=fontsize)\n",
    "ax.set_title('Year-long Loss of Load by ISR and Case Scenario', fontsize=fontsize)\n",
    "ax.set_xticks(x)\n",
    "ax.set_xticklabels([f\"{label:.1f}\" for label in LL.index], fontsize=fontsize)\n",
    "ax.tick_params(axis='y', labelsize=fontsize)\n",
    "ax.legend(fontsize=fontsize, title_fontsize=fontsize)\n",
    "\n",
    "# Beautify the plot\n",
    "plt.grid(True, linestyle='--', linewidth=0.5, color='gray', alpha=0.5)\n",
    "plt.tight_layout()\n",
    "\n",
    "plt.show()"
   ]
  },
  {
   "cell_type": "markdown",
   "id": "3dec2295",
   "metadata": {},
   "source": [
    "### Storage Profit & Utilization (Aggregated ISR 0.1-0.9)"
   ]
  },
  {
   "cell_type": "code",
   "execution_count": null,
   "id": "abe98101",
   "metadata": {
    "scrolled": true
   },
   "outputs": [],
   "source": [
    "# case = 'Strategic/2022/UC25ED1_Strategic_true_ratio1.0_Seg1_BAW0_MC20.0_hetefalse'\n",
    "case_template = 'Strategic/Exp/2022/UC25ED1_Strategic_true_FORB_true_ratio{}_Seg5_BAW0_Fuel2.0_NLC2.0_Error0.25_ESPeakBidAdjustment1.0_ESPeakBid100.0NegativeRenew_1.0-2.0-2.0-2.0-2.0'\n",
    "ratios = [round(i * 0.1+0.1, 1) for i in range(10)]\n",
    "Region = 2\n",
    "\n",
    "# Initialize an empty list to store results\n",
    "results = []\n",
    "\n",
    "# Loop over ratios from 0.0 to 1.0 (assuming increment by 0.1)\n",
    "for ratio in ratios:\n",
    "    if (ratio <= 0.9) & (ratio >=0.1):\n",
    "        case = case_template.format(ratio)\n",
    "        try:\n",
    "            # Try to read the CSV file for the current case\n",
    "            ESD = pd.read_csv('output/'+case+'/EDESD.csv',header=None)\n",
    "            ESC = pd.read_csv('output/'+case+'/EDESC.csv',header=None)\n",
    "            price = pd.read_csv('output/'+case+'/EDprice.csv',header=None)\n",
    "            ESindex = pd.read_csv('output/'+case+'/Strategic/storage_to_index_map.csv')\n",
    "            ES = pd.read_csv('output/'+case+'/Strategic/ADDED_ES.csv')\n",
    "        except FileNotFoundError:\n",
    "            print(f\"File for case {case} not found.\")\n",
    "            continue\n",
    "\n",
    "        ESID = ESindex[ESindex['Region']==region]['StorageID']\n",
    "        i = region -1\n",
    "        AIRevenue = sum((ESD[ESID-1]-ESC[ESID-1]).iloc[:, 0]*price[i])/1000\n",
    "        BSRevenue = sum((ESD[ESID]-ESC[ESID]).iloc[:, 0]*price[i])/1000\n",
    "        AIProfit = AIRevenue - sum(Ts*c*ESD[ESID-1].iloc[:, 0])/1000\n",
    "        BSProfit = BSRevenue - sum(Ts*c*ESD[ESID].iloc[:, 0])/1000\n",
    "        AIUnitProfit = AIProfit/ES['EPD'][2*i]\n",
    "        BSUnitProfit = BSProfit/ES['EPD'][2*i+1]\n",
    "        AICycle = sum(ESD[ESID-1].iloc[:, 0])/eta*Ts/ES['ESOC'][2*i]\n",
    "        BSCycle = sum(ESD[ESID].iloc[:, 0])/eta*Ts/ES['ESOC'][2*i+1]\n",
    "        \n",
    "        # Append results to list\n",
    "        results.append({\n",
    "            'Ratio': ratio,\n",
    "            'AIRevenue': AIRevenue,\n",
    "            'BSRevenue': BSRevenue,\n",
    "            'AIProfit': AIProfit,\n",
    "            'BSProfit': BSProfit,\n",
    "            'AIUnitProfit': AIUnitProfit,\n",
    "            'BSUnitProfit': BSUnitProfit,\n",
    "            'AICycle': AICycle,\n",
    "            'BSCycle': BSCycle\n",
    "        })\n",
    "\n",
    "# Convert list of dictionaries to DataFrame\n",
    "results_df = pd.DataFrame(results)\n",
    "results_df\n",
    "#     AIRevenue = sum((ESD[35]-ESC[35])*price[0])/1000\n",
    "\n",
    "#     # Calculate stats and transpose\n",
    "#     pricestats = pd.concat([price.mean()*12, (price*12).std()], axis=1).T\n",
    "\n",
    "#     # Now, instead of appending Series objects, you create DataFrame slices for each and append them\n",
    "#     mean_prices_dfs.append(pricestats.iloc[[0]])\n",
    "#     std_prices_dfs.append(pricestats.iloc[[1]])\n",
    "\n",
    "# case = 'Strategic/Exp/2022/UC25ED1_Strategic_true_FORB_true_ratio0.1_Seg1_BAW0_Fuel2.0_NLC2.0_Error0.25_ESPeakBidAdjustment1.0_ESPeakBid100.0NegativeRenew_1.0-2.0-2.0-2.0-2.0'\n",
    "\n",
    "# ESD = pd.read_csv('output/'+case+'/EDESD.csv',header=None)\n",
    "# ESC = pd.read_csv('output/'+case+'/EDESC.csv',header=None)\n",
    "# price = pd.read_csv('output/'+case+'/EDprice.csv',header=None)\n",
    "# ESindex = pd.read_csv('output/'+case+'/Strategic/storage_to_index_map.csv')\n",
    "# ES = pd.read_csv('output/'+case+'/Strategic/ADDED_ES.csv')\n"
   ]
  },
  {
   "cell_type": "code",
   "execution_count": null,
   "id": "5d787e5f",
   "metadata": {},
   "outputs": [],
   "source": [
    "# Define a color palette\n",
    "colors = ['#2E8B57', '#6A5ACD', '#FFA07A', '#4682B4']\n",
    "\n",
    "# Plotting the results\n",
    "fig, ax = plt.subplots(figsize=(14, 8))\n",
    "\n",
    "# Set bar width\n",
    "bar_width = 0.2\n",
    "index = range(len(results_df))\n",
    "\n",
    "# Plotting each bar with improved visuals\n",
    "bar1 = ax.bar([i - bar_width*1.5 for i in index], results_df['AIRevenue'], bar_width, label='AIRevenue', color=colors[0])\n",
    "bar2 = ax.bar([i - bar_width*0.5 for i in index], results_df['AIProfit'], bar_width, label='AIProfit', color=colors[1])\n",
    "bar3 = ax.bar([i + bar_width*0.5 for i in index], results_df['BSRevenue'], bar_width, label='BSRevenue', color=colors[2])\n",
    "bar4 = ax.bar([i + bar_width*1.5 for i in index], results_df['BSProfit'], bar_width, label='BSProfit', color=colors[3])\n",
    "\n",
    "# Adding labels and title\n",
    "ax.set_xlabel('Ratio', fontsize=20)\n",
    "ax.set_ylabel('Value (in k$)', fontsize=20)\n",
    "ax.set_title('Revenue and Profit for Different ISR', fontsize=20)\n",
    "ax.set_xticks(index)\n",
    "ax.set_xticklabels(results_df['Ratio'], fontsize=20)\n",
    "ax.legend(fontsize=20)\n",
    "ax.tick_params(axis='y', labelsize=20)\n",
    "# Adding grid lines for better readability\n",
    "ax.grid(True, which='both', linestyle='--', linewidth=0.5)\n",
    "\n",
    "# Improving layout\n",
    "plt.tight_layout()\n",
    "\n",
    "# Display the plot\n",
    "plt.show()\n"
   ]
  },
  {
   "cell_type": "code",
   "execution_count": null,
   "id": "0c566b2b",
   "metadata": {},
   "outputs": [],
   "source": [
    "# Define a color palette\n",
    "colors = ['#FFA07A', '#4682B4', '#FFA07A', '#4682B4']\n",
    "\n",
    "# Plotting the results\n",
    "fig, ax1 = plt.subplots(figsize=(12, 8))\n",
    "\n",
    "# Set bar width\n",
    "bar_width = 0.4\n",
    "index = range(len(results_df))\n",
    "\n",
    "# Plotting bars for AIUnitProfit and BSUnitProfit\n",
    "bar1 = ax1.bar([i - bar_width/2 for i in index], results_df['AIUnitProfit'], bar_width, label='AIUnitProfit (k$/MW)', color=colors[0])\n",
    "bar2 = ax1.bar([i + bar_width/2 for i in index], results_df['BSUnitProfit'], bar_width, label='BSUnitProfit (k$/MW)', color=colors[1])\n",
    "\n",
    "# Adding labels and title for the primary y-axis\n",
    "ax1.set_xlabel('Ratio', fontsize=20)\n",
    "ax1.set_ylabel('Unit Profit (k$/MW)', fontsize=20)\n",
    "ax1.set_xticks(index)\n",
    "ax1.set_xticklabels(results_df['Ratio'], fontsize=20)\n",
    "ax1.tick_params(axis='y', labelsize=20)\n",
    "ax1.tick_params(axis='x', labelsize=20)\n",
    "\n",
    "# Adding a secondary y-axis for AICycle and BSCycle\n",
    "ax2 = ax1.twinx()\n",
    "ax2.plot(index, results_df['AICycle'], label='AICycle', color=colors[2], linestyle='-', marker='o', linewidth=2)\n",
    "ax2.plot(index, results_df['BSCycle'], label='BSCycle', color=colors[3], linestyle='-', marker='s', linewidth=2)\n",
    "ax2.set_ylabel('Cycle', fontsize=20)\n",
    "ax2.set_ylim(0, 400)\n",
    "ax2.tick_params(axis='y', labelsize=20)\n",
    "\n",
    "# Adding grid lines for better readability\n",
    "ax1.grid(True, which='both', linestyle='--', linewidth=0.5)\n",
    "\n",
    "# Combining legends\n",
    "bars_labels = [bar1, bar2]\n",
    "lines_labels = [plt.Line2D([0], [0], color=colors[2], linestyle='-', marker='o', linewidth=2, label='AICycle'),\n",
    "                plt.Line2D([0], [0], color=colors[3], linestyle='-', marker='s', linewidth=2, label='BSCycle')]\n",
    "\n",
    "combined_legend = bars_labels + lines_labels\n",
    "ax1.legend(handles=combined_legend, loc='upper right', fontsize=20)\n",
    "\n",
    "# Adding title\n",
    "plt.title('BESS Unit Profit and Cycle for Different ISRs', fontsize=20)\n",
    "\n",
    "# Improving layout\n",
    "plt.tight_layout()\n",
    "\n",
    "# Display the plot\n",
    "plt.show()"
   ]
  },
  {
   "cell_type": "code",
   "execution_count": null,
   "id": "a4c43738",
   "metadata": {},
   "outputs": [],
   "source": [
    "ESID"
   ]
  },
  {
   "cell_type": "code",
   "execution_count": null,
   "id": "b9e96cec",
   "metadata": {},
   "outputs": [],
   "source": [
    "ESD[ESID-1].max()*4"
   ]
  },
  {
   "cell_type": "code",
   "execution_count": null,
   "id": "c110b088",
   "metadata": {},
   "outputs": [],
   "source": [
    "ESC[ESID-1].max()*4"
   ]
  },
  {
   "cell_type": "code",
   "execution_count": null,
   "id": "ddd2fe63",
   "metadata": {},
   "outputs": [],
   "source": [
    "ES['ESOC'][2*i]"
   ]
  },
  {
   "cell_type": "code",
   "execution_count": null,
   "id": "a5a72488",
   "metadata": {
    "scrolled": true
   },
   "outputs": [],
   "source": [
    "i = 1\n",
    "region = i+1\n",
    "ESID = ESindex[ESindex['Region']==region]['StorageID']\n",
    "AIRevenue = sum((ESD[ESID-1]-ESC[ESID-1]).iloc[:, 0]*price[i])/1000\n",
    "BSRevenue = sum((ESD[ESID]-ESC[ESID]).iloc[:, 0]*price[i])/1000\n",
    "AIProfit = AIRevenue - sum(Ts*c*ESD[ESID-1].iloc[:, 0])/1000\n",
    "BSProfit = BSRevenue - sum(Ts*c*ESD[ESID].iloc[:, 0])/1000\n",
    "AIUnitProfit = AIProfit/ES['ESOC'][2*i]\n",
    "BSUnitProfit = BSProfit/ES['ESOC'][2*i+1]\n",
    "AICycle = sum(ESD[ESID-1].iloc[:, 0])/eta*Ts/ES['ESOC'][2*i]\n",
    "BSCycle = sum(ESD[ESID].iloc[:, 0])/eta*Ts/ES['ESOC'][2*i+1]\n",
    "print(AIRevenue,BSRevenue, AIProfit, BSProfit, AIUnitProfit, BSUnitProfit, AICycle, BSCycle)"
   ]
  },
  {
   "cell_type": "code",
   "execution_count": null,
   "id": "c7416f41",
   "metadata": {},
   "outputs": [],
   "source": [
    "data = [\n",
    "    ['S1', sum((ESD[35]-ESC[35])*price[0])/1000, sum((ESD[35]-ESC[35])*price[0] - Ts*c*ESD[35])/1000, sum((ESD[35]-ESC[35])*price[0] - Ts*c*ESD[35])/1000/ES['ESOC'][0], sum(ESD[35])/eta*Ts/ES['ESOC'][0]],\n",
    "    ['NS1', sum((ESD[36]-ESC[36])*price[0])/1000, sum((ESD[36]-ESC[36])*price[0] - Ts*c*ESD[36])/1000, sum((ESD[36]-ESC[36])*price[0] - Ts*c*ESD[36])/1000/ES['ESOC'][1], sum(ESD[36])/eta*Ts/ES['ESOC'][1]],\n",
    "    ['S2', sum((ESD[37]-ESC[37])*price[1])/1000, sum((ESD[37]-ESC[37])*price[1] - Ts*c*ESD[37])/1000, sum((ESD[37]-ESC[37])*price[1] - Ts*c*ESD[37])/1000/ES['ESOC'][2], sum(ESD[37])/eta*Ts/ES['ESOC'][2]],\n",
    "    ['NS2', sum((ESD[38]-ESC[38])*price[1])/1000, sum((ESD[38]-ESC[38])*price[1] - Ts*c*ESD[38])/1000, sum((ESD[38]-ESC[38])*price[1] - Ts*c*ESD[38])/1000/ES['ESOC'][3], sum(ESD[38])/eta*Ts/ES['ESOC'][3]],\n",
    "    ['S3', sum((ESD[39]-ESC[39])*price[2])/1000, sum((ESD[39]-ESC[39])*price[2] - Ts*c*ESD[39])/1000, sum((ESD[39]-ESC[39])*price[2] - Ts*c*ESD[39])/1000/ES['ESOC'][4], sum(ESD[39])/eta*Ts/ES['ESOC'][4]],\n",
    "    ['NS3', sum((ESD[40]-ESC[40])*price[2])/1000, sum((ESD[40]-ESC[40])*price[2] - Ts*c*ESD[40])/1000, sum((ESD[40]-ESC[40])*price[2] - Ts*c*ESD[40])/1000/ES['ESOC'][5], sum(ESD[40])/eta*Ts/ES['ESOC'][5]],\n",
    "    ['S4', sum((ESD[41]-ESC[41])*price[3])/1000, sum((ESD[41]-ESC[41])*price[3] - Ts*c*ESD[41])/1000, sum((ESD[41]-ESC[41])*price[3] - Ts*c*ESD[41])/1000/ES['ESOC'][6], sum(ESD[41])/eta*Ts/ES['ESOC'][6]],\n",
    "    ['NS4', sum((ESD[42]-ESC[42])*price[3])/1000, sum((ESD[42]-ESC[42])*price[3] - Ts*c*ESD[42])/1000, sum((ESD[42]-ESC[42])*price[3] - Ts*c*ESD[42])/1000/ES['ESOC'][7], sum(ESD[42])/eta*Ts/ES['ESOC'][7]],\n",
    "    ['S5', sum((ESD[43]-ESC[43])*price[4])/1000, sum((ESD[43]-ESC[43])*price[4] - Ts*c*ESD[43])/1000, sum((ESD[43]-ESC[43])*price[4] - Ts*c*ESD[43])/1000/ES['ESOC'][8], sum(ESD[43])/eta*Ts/ES['ESOC'][8]],\n",
    "    ['NS5', sum((ESD[44]-ESC[44])*price[4])/1000, sum((ESD[44]-ESC[44])*price[4] - Ts*c*ESD[44])/1000, sum((ESD[44]-ESC[44])*price[4] - Ts*c*ESD[44])/1000/ES['ESOC'][9], sum(ESD[44])/eta*Ts/ES['ESOC'][9]],\n",
    "    ['S6', sum((ESD[45]-ESC[45])*price[5])/1000, sum((ESD[45]-ESC[45])*price[5] - Ts*c*ESD[45])/1000, sum((ESD[45]-ESC[45])*price[5] - Ts*c*ESD[45])/1000/ES['ESOC'][10], sum(ESD[45])/eta*Ts/ES['ESOC'][10]],\n",
    "    ['NS6', sum((ESD[46]-ESC[46])*price[5])/1000, sum((ESD[46]-ESC[46])*price[5] - Ts*c*ESD[46])/1000, sum((ESD[45]-ESC[45])*price[5] - Ts*c*ESD[46])/1000/ES['ESOC'][11], sum(ESD[46])/eta*Ts/ES['ESOC'][11]],\n",
    "]\n",
    "column_names = ['', 'Revenue (k$)', 'Profit (k$)', 'Unit Profit (k$/MWh)', 'Cycle']\n",
    "df = pd.DataFrame(data, columns=column_names)\n",
    "df.T\n"
   ]
  },
  {
   "cell_type": "markdown",
   "id": "015b74e5",
   "metadata": {},
   "source": [
    "### Storage Profit & Utilization (Heterogeneous ISR 0.0/1.0)"
   ]
  },
  {
   "cell_type": "code",
   "execution_count": null,
   "id": "9391416d",
   "metadata": {},
   "outputs": [],
   "source": [
    "case = 'Strategic/Exp/2022/UC25ED1_Strategic_true_FORB_true_ratio0.0_Seg1_BAW0_Fuel2.0_NLC2.0_Error0.25_ESPeakBidAdjustment1.0_ESPeakBid100.0NegativeRenew_1.0-2.0-2.0-2.0-2.0'\n",
    "ESD = pd.read_csv('output/'+case+'/EDESD.csv',header=None)\n",
    "ESC = pd.read_csv('output/'+case+'/EDESC.csv',header=None)\n",
    "price = pd.read_csv('output/'+case+'/EDprice.csv',header=None)\n",
    "ESindex = pd.read_csv('output/'+case+'/Strategic/storage_to_index_map.csv')\n",
    "ES = pd.read_csv('2032 ADS PCM V2.4.1 Public Data/Processed Data/2022/Storage_C_4hr_5GW_Strategic_Agg.csv')"
   ]
  },
  {
   "cell_type": "code",
   "execution_count": null,
   "id": "fdfbc897",
   "metadata": {},
   "outputs": [],
   "source": [
    "i = 1\n",
    "region = i+1\n",
    "ESID = region+35\n",
    "AIRevenue = sum((ESD[ESID-1]-ESC[ESID-1])*price[i])/1000\n",
    "# BSRevenue = sum((ESD[ESID]-ESC[ESID]).iloc[:, 0]*price[i])/1000\n",
    "AIProfit = AIRevenue - sum(Ts*c*ESD[ESID-1])/1000\n",
    "# BSProfit = BSRevenue - sum(Ts*c*ESD[ESID].iloc[:, 0])/1000\n",
    "AIUnitProfit = AIProfit/ES['MaxCap(MWh)'][ESID-1]\n",
    "# BSUnitProfit = BSProfit/ES['ESOC'][2*i+1]\n",
    "AICycle = sum(ESD[ESID-1])/eta*Ts/ES['MaxCap(MWh)'][ESID-1]\n",
    "# BSCycle = sum(ESD[ESID].iloc[:, 0])/eta*Ts/ES['ESOC'][2*i+1]\n",
    "# print(AIRevenue,BSRevenue, AIProfit, BSProfit, AIUnitProfit, BSUnitProfit, AICycle, BSCycle)\n",
    "print(AIRevenue, AIProfit, AIUnitProfit, AICycle)"
   ]
  },
  {
   "cell_type": "code",
   "execution_count": null,
   "id": "41eb2f7c",
   "metadata": {},
   "outputs": [],
   "source": [
    "for ratio in ratios:\n",
    "    case = case_template.format(ratio)\n",
    "    try:\n",
    "        # Try to read the CSV file for the current case\n",
    "        ESInfo = pd.read_csv('output/'+case+'/Strategic/storage_to_index_map.csv')\n",
    "    except FileNotFoundError:\n",
    "        print(f\"File for case {case} not found.\")\n",
    "        continue"
   ]
  },
  {
   "cell_type": "code",
   "execution_count": null,
   "id": "34d68277",
   "metadata": {},
   "outputs": [],
   "source": [
    "ESD1 = pd.read_csv('output/Strategic/2022/UC25ED1_Strategic_true_ratio1.0_Seg1_BAW0_MC20.0_1/EDESD.csv',header=None)\n",
    "ESC1 = pd.read_csv('output/Strategic/2022/UC25ED1_Strategic_true_ratio1.0_Seg1_BAW0_MC20.0_1/EDESC.csv',header=None)\n",
    "price1 = pd.read_csv('output/Strategic/2022/UC25ED1_Strategic_true_ratio1.0_Seg1_BAW0_MC20.0_1/EDprice.csv',header=None)\n",
    "DAprice1 = pd.read_csv('output/Strategic/2022/UC25ED1_Strategic_true_ratio1.0_Seg1_BAW0_MC20.0_1/UCprice.csv',header=None)"
   ]
  },
  {
   "cell_type": "code",
   "execution_count": null,
   "id": "59ee03b5",
   "metadata": {},
   "outputs": [],
   "source": [
    "repeated_indices = np.repeat(DAprice1.index, 12)\n",
    "repeated_DAprice1 = DAprice1.loc[repeated_indices].reset_index(drop=True)"
   ]
  },
  {
   "cell_type": "code",
   "execution_count": null,
   "id": "555e0896",
   "metadata": {},
   "outputs": [],
   "source": [
    "plt.figure(figsize=(10, 6))  # Optional: Specifies the figure size\n",
    "plt.plot(range(2017), price1.loc[0:2016,0]*12, label='RT')  # Plot first column\n",
    "plt.plot(range(2017), repeated_DAprice1.loc[0:2016,0], label='DA', linestyle='--')  # Plot second column with a different style\n",
    "\n",
    "# Adding labels and title\n",
    "# plt.xlabel('Index')  # Adjust as per your requirement\n",
    "plt.ylabel('$/MWh')  # Adjust as per your requirement\n",
    "# plt.title('Line Plot of Two DataFrame Columns')\n",
    "plt.legend()\n",
    "\n",
    "# Show plot\n",
    "plt.show()"
   ]
  },
  {
   "cell_type": "code",
   "execution_count": null,
   "id": "b9b52488",
   "metadata": {},
   "outputs": [],
   "source": [
    "Zone2Price1 = price1[0]\n",
    "SD1 = ESD1[35]\n",
    "SC1 = ESC1[35]\n",
    "NSD1 = ESD1[36]\n",
    "NSC1 = ESC1[36]\n",
    "Zone2Price5 = price5[0]\n",
    "SD5 = ESD5[35]\n",
    "SC5 = ESC5[35]\n",
    "NSD5 = ESD5[36]\n",
    "NSC5 = ESC5[36]\n",
    "Zone2Price1mar = price1mar[0]\n",
    "SD1mar = ESD1mar[35]\n",
    "SC1mar = ESC1mar[35]\n",
    "NSD1mar = ESD1mar[36]\n",
    "NSC1mar = ESC1mar[36]\n",
    "Zone2Price5mar = price5mar[1]\n",
    "SD5mar = ESD5mar[35]\n",
    "SC5mar = ESC5mar[35]\n",
    "NSD5mar = ESD5mar[36]\n",
    "NSC5mar = ESC5mar[36]"
   ]
  },
  {
   "cell_type": "code",
   "execution_count": null,
   "id": "e9fe9bf1",
   "metadata": {},
   "outputs": [],
   "source": [
    "S1 = SD1-SC1\n",
    "NS1 = NSD1-NSC1\n",
    "S5 = SD5-SC5\n",
    "NS5 = NSD5-NSC5\n",
    "S1mar = SD1mar-SC1mar\n",
    "NS1mar = NSD1mar-NSC1mar\n",
    "S5mar = SD5mar-SC5mar\n",
    "NS5mar = NSD5mar-NSC5mar"
   ]
  },
  {
   "cell_type": "code",
   "execution_count": null,
   "id": "e24fe92f",
   "metadata": {},
   "outputs": [],
   "source": [
    "Revenue_S1 = sum(S1*Zone2Price1) \n",
    "Profit_S1 = sum(S1*Zone2Price1 - Ts*c*SD1)\n",
    "Cycle_S1 = sum(SD1)/eta*Ts/E\n",
    "Revenue_NS1 = sum(NS1*Zone2Price1)\n",
    "Profit_NS1 = sum(NS1*Zone2Price1 - Ts*c*NSD1)\n",
    "Cycle_NS1 = sum(NSD1)/eta*Ts/E\n"
   ]
  },
  {
   "cell_type": "code",
   "execution_count": null,
   "id": "d2b957c3",
   "metadata": {},
   "outputs": [],
   "source": [
    "Revenue_S5 = sum(S5*Zone2Price5) \n",
    "Profit_S5 = sum(S5*Zone2Price5 - Ts*c*SD5)\n",
    "Cycle_S5 = sum(SD5)/eta*Ts/E\n",
    "Revenue_NS5 = sum(NS5*Zone2Price5)\n",
    "Profit_NS5 = sum(NS5*Zone2Price5 - Ts*c*NSD5) \n",
    "Cycle_NS5 = sum(NSD5)/eta*Ts/E\n"
   ]
  },
  {
   "cell_type": "code",
   "execution_count": null,
   "id": "5431d51c",
   "metadata": {},
   "outputs": [],
   "source": [
    "Revenue_S1mar = sum(S1mar*Zone2Price1mar) \n",
    "Profit_S1mar = sum(S1mar*Zone2Price1mar - Ts*c*SD1mar)\n",
    "Cycle_S1mar = sum(SD1mar)/eta*Ts/E1\n",
    "Revenue_NS1mar = sum(NS1mar*Zone2Price1mar)\n",
    "Profit_NS1mar = sum(NS1mar*Zone2Price1mar - Ts*c*NSD1mar) \n",
    "Cycle_NS1mar = sum(NSD1mar)/eta*Ts/E2"
   ]
  },
  {
   "cell_type": "code",
   "execution_count": null,
   "id": "3340d760",
   "metadata": {},
   "outputs": [],
   "source": [
    "Revenue_S5mar = sum(S5mar*Zone2Price5mar) \n",
    "Profit_S5mar = sum(S5mar*Zone2Price5mar - Ts*c*SD5mar)\n",
    "Cycle_S5mar = sum(SD5mar)/eta*Ts/E1\n",
    "Revenue_NS5mar = sum(NS5mar*Zone2Price5mar)\n",
    "Profit_NS5mar = sum(NS5mar*Zone2Price5mar - Ts*c*NSD5mar) \n",
    "Cycle_NS5mar = sum(NSD5mar)/eta*Ts/E2"
   ]
  },
  {
   "cell_type": "code",
   "execution_count": null,
   "id": "f2463306",
   "metadata": {
    "scrolled": true
   },
   "outputs": [],
   "source": [
    "data = [\n",
    "    ['S-1Seg', Revenue_S1/1000, Profit_S1/1000, Profit_S1/1000/E, Cycle_S1, Profit_S1/1000/E/27.992],\n",
    "    ['NS-1Seg', Revenue_NS1/1000, Profit_NS1/1000, Profit_NS1/1000/E, Cycle_NS1, Profit_NS1/1000/E/27.992],\n",
    "    ['S-5Seg', Revenue_S5/1000, Profit_S5/1000, Profit_S5/1000/E, Cycle_S5, Profit_S5/1000/E/27.992],\n",
    "    ['NS-5Seg', Revenue_NS5/1000, Profit_NS5/1000, Profit_NS5/1000/E, Cycle_NS5, Profit_NS5/1000/E/27.992],\n",
    "    ['S-1Seg_mar', Revenue_S1mar/1000, Profit_S1mar/1000, Profit_S1mar/1000/E1, Cycle_S1mar, Profit_S1mar/1000/E1/27.992],\n",
    "    ['NS-1Seg_mar', Revenue_NS1mar/1000, Profit_NS1mar/1000, Profit_NS1mar/1000/E2, Cycle_NS1mar, Profit_NS1mar/1000/E2/27.992],\n",
    "    ['S-5Seg_mar', Revenue_S5mar/1000, Profit_S5mar/1000, Profit_S5mar/1000/E1, Cycle_S5mar, Profit_S5mar/1000/E1/27.992],\n",
    "    ['NS-5Seg_mar', Revenue_NS5mar/1000, Profit_NS5mar/1000, Profit_NS5mar/1000/E2, Cycle_NS5mar, Profit_NS5mar/1000/E2/27.992],\n",
    "]\n",
    "column_names = ['', 'Revenue (k$)', 'Profit (k$)', 'Unit Profit (k$/MWh)', 'Cycle', 'Profit Ratio']\n",
    "df = pd.DataFrame(data, columns=column_names)\n",
    "df\n"
   ]
  },
  {
   "cell_type": "code",
   "execution_count": null,
   "id": "d5d51804",
   "metadata": {},
   "outputs": [],
   "source": [
    "# Set the positions and width for the bars\n",
    "positions = range(len(df))\n",
    "width = 0.35\n",
    "\n",
    "# Plotting the bar chart\n",
    "fig, ax1 = plt.subplots()\n",
    "\n",
    "# Bars for Revenue and Profit\n",
    "revenue_bars = ax1.bar(positions, df['Revenue (k$)']/100, width, label='Revenue (k$)', color='blue')\n",
    "profit_bars = ax1.bar([p + width for p in positions], df['Profit (k$)']/100, width, label='Profit (k$)', color='orange')\n",
    "\n",
    "# Add the second y-axis for the Profit Ratio\n",
    "ax2 = ax1.twinx()\n",
    "profit_ratio_dots, = ax2.plot([p + width/2 for p in positions], df['Profit Ratio'], 'ro', label='Profit Ratio')\n",
    "\n",
    "# Set the ticks and ticklabels for the x-axis\n",
    "ax1.set_xticks([p + width/2 for p in positions])\n",
    "ax1.set_xticklabels(['S-1Seg', 'NS-1Seg', 'S-5Seg', 'NS-5Seg','S-1Seg', 'NS-1Seg', 'S-5Seg', 'NS-5Seg'])\n",
    "\n",
    "# Set the axis labels\n",
    "# ax1.set_xlabel('Segment')\n",
    "ax1.set_ylabel('Revenue/Profit (k$)')\n",
    "ax2.set_ylabel('Profit Ratio')\n",
    "\n",
    "# Set the title of the graph\n",
    "plt.title('Revenue, Profit and Profit Ratio (per MWh)')\n",
    "\n",
    "# Create a legend by first getting handles and labels for the first y-axis and then the second y-axis\n",
    "handles, labels = ax1.get_legend_handles_labels()\n",
    "handles2, labels2 = ax2.get_legend_handles_labels()\n",
    "ax1.legend(handles + [profit_ratio_dots], labels + labels2, loc='upper right')\n",
    "\n",
    "# Adjust layout to make room for the legend\n",
    "plt.tight_layout()\n",
    "\n",
    "# Show the plot\n",
    "plt.show()"
   ]
  },
  {
   "cell_type": "markdown",
   "id": "2dc067a1",
   "metadata": {},
   "source": [
    "## Generator Type"
   ]
  },
  {
   "cell_type": "code",
   "execution_count": null,
   "id": "a51a8e21-073a-4a3a-95c4-25184eb5263d",
   "metadata": {},
   "outputs": [],
   "source": [
    "Zone = 3"
   ]
  },
  {
   "cell_type": "code",
   "execution_count": null,
   "id": "b13e4f61",
   "metadata": {},
   "outputs": [],
   "source": [
    "ThermalGen = pd.read_csv('2032 ADS PCM V2.4.1 Public Data/Processed Data/2022/ThermalGen_Full_C.csv')"
   ]
  },
  {
   "cell_type": "code",
   "execution_count": null,
   "id": "5b6beeb5-2f88-4c6a-af12-0aafb4c2504d",
   "metadata": {},
   "outputs": [],
   "source": [
    "ThermalGen['SubType'].unique()"
   ]
  },
  {
   "cell_type": "code",
   "execution_count": null,
   "id": "b003c0ed-d1c6-4e6a-8814-7fc3fede92f0",
   "metadata": {},
   "outputs": [],
   "source": [
    "ThermalGen['Fuel Name'].unique()"
   ]
  },
  {
   "cell_type": "markdown",
   "id": "56e9d94c-d5ae-416a-9e19-9e78143bf75a",
   "metadata": {},
   "source": [
    "### Coal"
   ]
  },
  {
   "cell_type": "code",
   "execution_count": null,
   "id": "a7b1bfbc-50da-48da-86a0-be55d404e15f",
   "metadata": {},
   "outputs": [],
   "source": [
    "ThermalGen[(ThermalGen['Zone']==Zone)&((ThermalGen['SubType']=='ST-Coal'))]"
   ]
  },
  {
   "cell_type": "code",
   "execution_count": null,
   "id": "57452ef6-947c-49a9-bc6c-32ea387b6e91",
   "metadata": {},
   "outputs": [],
   "source": [
    "ThermalGen[(ThermalGen['Zone']==Zone)&((ThermalGen['SubType']=='ST-Coal'))]['Fuel Name'].unique()"
   ]
  },
  {
   "cell_type": "code",
   "execution_count": null,
   "id": "6c2a132b-e76a-4b19-96b7-43447bf3c776",
   "metadata": {},
   "outputs": [],
   "source": [
    "ThermalGen[(ThermalGen['Zone']==Zone)&((ThermalGen['SubType']=='ST-Coal'))]['IOMaxCap(MW)'].sum()/1000"
   ]
  },
  {
   "cell_type": "markdown",
   "id": "d902d169-99a3-4244-996c-61526b20abef",
   "metadata": {},
   "source": [
    "### ST"
   ]
  },
  {
   "cell_type": "code",
   "execution_count": null,
   "id": "1a226260-e6cd-4e4e-b4f2-ecfbca60f100",
   "metadata": {},
   "outputs": [],
   "source": [
    "ThermalGen[(ThermalGen['Zone']==Zone)&((ThermalGen['SubType']=='ST-NatGas')|(ThermalGen['SubType']=='ST-Other')|(ThermalGen['SubType']=='ST-WasteHeat'))]"
   ]
  },
  {
   "cell_type": "code",
   "execution_count": null,
   "id": "e5f219db-c528-413b-8ba7-37fa29b58c82",
   "metadata": {},
   "outputs": [],
   "source": [
    "ThermalGen[(ThermalGen['Zone']==Zone)&((ThermalGen['SubType']=='ST-NatGas')|(ThermalGen['SubType']=='ST-Other')|(ThermalGen['SubType']=='ST-WasteHeat'))]['IOMaxCap(MW)'].sum()/1000"
   ]
  },
  {
   "cell_type": "markdown",
   "id": "645d1cc1-4033-44cd-9870-5544221b8059",
   "metadata": {},
   "source": [
    "### CC"
   ]
  },
  {
   "cell_type": "code",
   "execution_count": null,
   "id": "13428e35-cdf6-4b78-9a22-aad0b05b62c5",
   "metadata": {},
   "outputs": [],
   "source": [
    "ThermalGen[(ThermalGen['Zone']==Zone)&((ThermalGen['SubType']=='CCWhole-NatGas-SingleShaft')|(ThermalGen['SubType']=='CCWhole-NatGas-Aero')|(ThermalGen['SubType']=='CCWhole-NatGas-Industrial')|(ThermalGen['SubType']=='CCPart-Steam'))]"
   ]
  },
  {
   "cell_type": "code",
   "execution_count": null,
   "id": "9a1e60f4-df82-4194-8c31-114ce01f7fcc",
   "metadata": {},
   "outputs": [],
   "source": [
    "ThermalGen[(ThermalGen['Zone']==Zone)&((ThermalGen['SubType']=='CCWhole-NatGas-SingleShaft')|(ThermalGen['SubType']=='CCWhole-NatGas-Aero')|(ThermalGen['SubType']=='CCWhole-NatGas-Industrial')|(ThermalGen['SubType']=='CCPart-Steam'))]['IOMaxCap(MW)'].sum()/1000"
   ]
  },
  {
   "cell_type": "markdown",
   "id": "af8dee0d-821d-4ce5-b1ab-910976870f34",
   "metadata": {},
   "source": [
    "### CT"
   ]
  },
  {
   "cell_type": "code",
   "execution_count": null,
   "id": "5788eca1-05bf-4feb-811e-772009ccb6c7",
   "metadata": {},
   "outputs": [],
   "source": [
    "ThermalGen[(ThermalGen['Zone']==Zone)&((ThermalGen['SubType']=='CT-NatGas-Aero')|(ThermalGen['SubType']=='CT-NatGas-Industrial')|(ThermalGen['SubType']=='CT-OilDistillate')|(ThermalGen['SubType']=='CT-Aero')|(ThermalGen['SubType']=='CT-AB-Cogen'))]"
   ]
  },
  {
   "cell_type": "code",
   "execution_count": null,
   "id": "b2dd1b47-5f18-48af-95da-96811a304705",
   "metadata": {
    "scrolled": true
   },
   "outputs": [],
   "source": [
    "ThermalGen[(ThermalGen['Zone']==Zone)&((ThermalGen['SubType']=='CT-NatGas-Aero')|(ThermalGen['SubType']=='CT-NatGas-Industrial')|(ThermalGen['SubType']=='CT-OilDistillate')|(ThermalGen['SubType']=='CT-Aero')|(ThermalGen['SubType']=='CT-AB-Cogen'))]['IOMaxCap(MW)'].sum()/1000"
   ]
  },
  {
   "cell_type": "markdown",
   "id": "76550704-ff74-4711-98b2-3e803f452579",
   "metadata": {},
   "source": [
    "### Nuclear"
   ]
  },
  {
   "cell_type": "code",
   "execution_count": null,
   "id": "8561c320-f0fd-4a03-847a-7eeb32a9188a",
   "metadata": {},
   "outputs": [],
   "source": [
    "ThermalGen[(ThermalGen['Zone']==Zone)&((ThermalGen['SubType']=='ST-Nuclear'))]"
   ]
  },
  {
   "cell_type": "code",
   "execution_count": null,
   "id": "bd3ef2fc-b194-4d6a-b51a-65d71583b141",
   "metadata": {},
   "outputs": [],
   "source": [
    "ThermalGen[(ThermalGen['Zone']==Zone)&((ThermalGen['SubType']=='ST-Nuclear'))]['IOMaxCap(MW)'].sum()/1000"
   ]
  },
  {
   "cell_type": "markdown",
   "id": "44daa6e0-26ac-4fc2-869f-30dc26085097",
   "metadata": {},
   "source": [
    "### Geothermal"
   ]
  },
  {
   "cell_type": "code",
   "execution_count": null,
   "id": "eecd1b4d-a125-4f54-80b4-c2ac437c57ed",
   "metadata": {},
   "outputs": [],
   "source": [
    "ThermalGen[(ThermalGen['Zone']==Zone)&((ThermalGen['SubType']=='Geo-BinaryCycle')|(ThermalGen['SubType']=='Geo-DoubleFlash'))]"
   ]
  },
  {
   "cell_type": "code",
   "execution_count": null,
   "id": "c9563cc9-48f4-4505-abe5-8e21ba85ae15",
   "metadata": {},
   "outputs": [],
   "source": [
    "ThermalGen[(ThermalGen['Zone']==Zone)&((ThermalGen['SubType']=='Geo-BinaryCycle')|(ThermalGen['SubType']=='Geo-DoubleFlash'))]['IOMaxCap(MW)'].sum()/1000"
   ]
  },
  {
   "cell_type": "markdown",
   "id": "7b45a8a6-c089-4b3f-bbbb-e847c0c059d3",
   "metadata": {},
   "source": [
    "## BIO & ICE"
   ]
  },
  {
   "cell_type": "code",
   "execution_count": null,
   "id": "d5ced21c-574e-4092-a625-4377de6a6059",
   "metadata": {},
   "outputs": [],
   "source": [
    "Zone = 6"
   ]
  },
  {
   "cell_type": "code",
   "execution_count": null,
   "id": "a8522199-0db6-4f8c-aa6e-e9b780b5599f",
   "metadata": {
    "scrolled": true
   },
   "outputs": [],
   "source": [
    "ThermalGen[(ThermalGen['Zone']==Zone)&((ThermalGen['SubType']=='Bio-ICE')|(ThermalGen['SubType']=='Bio-CT')|(ThermalGen['SubType']=='Bio-ST')|(ThermalGen['SubType']=='Bio-CC'))]"
   ]
  },
  {
   "cell_type": "code",
   "execution_count": null,
   "id": "d3a87dd2-ffb9-4187-8dbc-9513143925e7",
   "metadata": {
    "scrolled": true
   },
   "outputs": [],
   "source": [
    "ThermalGen[(ThermalGen['Zone']==Zone)&((ThermalGen['SubType']=='Bio-ICE')|(ThermalGen['SubType']=='Bio-CT')|(ThermalGen['SubType']=='Bio-ST')|(ThermalGen['SubType']=='Bio-CC'))]['Fuel Name'].unique()"
   ]
  },
  {
   "cell_type": "code",
   "execution_count": null,
   "id": "c4690524-b1a7-4c35-b165-61f5feaf3238",
   "metadata": {},
   "outputs": [],
   "source": [
    "ThermalGen[(ThermalGen['Zone']==Zone)&((ThermalGen['SubType']=='Bio-ICE')|(ThermalGen['SubType']=='Bio-CT')|(ThermalGen['SubType']=='Bio-ST')|(ThermalGen['SubType']=='Bio-CC'))]['IOMaxCap(MW)'].sum()/1000"
   ]
  },
  {
   "cell_type": "code",
   "execution_count": null,
   "id": "21003754-f1b4-4410-a1ac-b63268c60a0e",
   "metadata": {
    "scrolled": true
   },
   "outputs": [],
   "source": [
    "ThermalGen[(ThermalGen['Zone']==Zone)&((ThermalGen['SubType']=='ICE-NatGas')|(ThermalGen['SubType']=='ICE-OilDistillate'))]"
   ]
  },
  {
   "cell_type": "code",
   "execution_count": null,
   "id": "eb1611f0-80ba-436f-acf9-8121d94ab05d",
   "metadata": {},
   "outputs": [],
   "source": [
    "ThermalGen[(ThermalGen['Zone']==Zone)&((ThermalGen['SubType']=='ICE-NatGas')|(ThermalGen['SubType']=='ICE-OilDistillate'))]['Fuel Name'].unique()"
   ]
  },
  {
   "cell_type": "code",
   "execution_count": null,
   "id": "e86d4d5c-6706-488f-8743-613eab99297d",
   "metadata": {},
   "outputs": [],
   "source": [
    "ThermalGen[(ThermalGen['Zone']==Zone)&((ThermalGen['SubType']=='ICE-NatGas')|(ThermalGen['SubType']=='ICE-OilDistillate'))]['IOMaxCap(MW)'].sum()/1000"
   ]
  },
  {
   "cell_type": "markdown",
   "id": "02982306-4a50-459d-8ba1-5bf8c6fb2afe",
   "metadata": {},
   "source": [
    "### Renewables"
   ]
  },
  {
   "cell_type": "code",
   "execution_count": null,
   "id": "1219d0a3-860c-481e-b9b1-0e4bd982e9df",
   "metadata": {},
   "outputs": [],
   "source": [
    "HydroGen = pd.read_csv('2032 ADS PCM V2.4.1 Public Data/Processed Data/2022/HydroZoneCap_C.csv')"
   ]
  },
  {
   "cell_type": "code",
   "execution_count": null,
   "id": "207f7399-ffa6-4ca4-ad55-bdef4828c431",
   "metadata": {},
   "outputs": [],
   "source": [
    "HydroGen['MaxCap(MW)']/1000"
   ]
  },
  {
   "cell_type": "code",
   "execution_count": null,
   "id": "aca500a3-92a7-4af6-af12-ed437fe694f6",
   "metadata": {},
   "outputs": [],
   "source": [
    "SolarGen = pd.read_csv('2032 ADS PCM V2.4.1 Public Data/Processed Data/2022/Solar_C.csv')"
   ]
  },
  {
   "cell_type": "code",
   "execution_count": null,
   "id": "6ee47ac5-b269-46f4-92e9-4415d065098f",
   "metadata": {},
   "outputs": [],
   "source": [
    "SolarGen['SubType'].unique()"
   ]
  },
  {
   "cell_type": "code",
   "execution_count": null,
   "id": "fc598f36-f37b-4c03-b6b8-0e521c090521",
   "metadata": {},
   "outputs": [],
   "source": [
    "SolarGen[(SolarGen['Zone']==Zone)&(SolarGen['SubType']=='SolarThermal-CSP6')]['Capacity(MW)'].sum()/1000"
   ]
  },
  {
   "cell_type": "code",
   "execution_count": null,
   "id": "6eef4121-22b9-4e31-8822-ff035b69abfa",
   "metadata": {},
   "outputs": [],
   "source": [
    "SolarGen[(SolarGen['Zone']==Zone)&(SolarGen['SubType']!='SolarThermal-CSP6')]['Capacity(MW)'].sum()/1000"
   ]
  },
  {
   "cell_type": "code",
   "execution_count": null,
   "id": "3570d6e4-02ee-484c-b9d6-70246bdc2821",
   "metadata": {},
   "outputs": [],
   "source": [
    "WindGen = pd.read_csv('2032 ADS PCM V2.4.1 Public Data/Processed Data/2022/Wind_C.csv')"
   ]
  },
  {
   "cell_type": "code",
   "execution_count": null,
   "id": "5e656363-c8d7-48a7-92ff-125804e1c312",
   "metadata": {},
   "outputs": [],
   "source": [
    "WindGen[WindGen['Zone']==Zone]['Capacity(MW)'].sum()/1000"
   ]
  },
  {
   "cell_type": "markdown",
   "id": "ecf12778-b2dd-4ae7-ab52-6e66ce9126f0",
   "metadata": {},
   "source": [
    "### Storage"
   ]
  },
  {
   "cell_type": "code",
   "execution_count": null,
   "id": "aaef9fb0-62c9-44a3-bd43-9d0f2b634056",
   "metadata": {},
   "outputs": [],
   "source": [
    "Storage = pd.read_csv('2032 ADS PCM V2.4.1 Public Data/Processed Data/2022/Storage_C_4hr_5GW_Strategic.csv')"
   ]
  },
  {
   "cell_type": "code",
   "execution_count": null,
   "id": "51ec5746-1e4b-4b56-b83b-5551ce1d961f",
   "metadata": {},
   "outputs": [],
   "source": [
    "Storage['SubType'].unique()"
   ]
  },
  {
   "cell_type": "code",
   "execution_count": null,
   "id": "3add63cd-f263-4afc-86a4-d21c9bf8974a",
   "metadata": {},
   "outputs": [],
   "source": [
    "Storage[(Storage['Zone']==Zone)&((Storage['SubType']=='PS-Hydro')|(Storage['SubType']=='PS-HydroRPS'))]"
   ]
  },
  {
   "cell_type": "code",
   "execution_count": null,
   "id": "c213abe9-ae62-4764-9c47-b2563ddf8f51",
   "metadata": {},
   "outputs": [],
   "source": [
    "Storage[(Storage['Zone']==Zone)&((Storage['SubType']=='PS-Hydro')|(Storage['SubType']=='PS-HydroRPS'))]['MaxCap(MW)'].sum()/1000"
   ]
  },
  {
   "cell_type": "code",
   "execution_count": null,
   "id": "e70cf910-b372-43fd-9fe3-089ac08c9b97",
   "metadata": {},
   "outputs": [],
   "source": [
    "Storage[(Storage['Zone']==Zone)&((Storage['SubType']=='Battery Storage'))]"
   ]
  },
  {
   "cell_type": "code",
   "execution_count": null,
   "id": "1bcdd452-3a6c-4d93-906f-f277c09f091d",
   "metadata": {},
   "outputs": [],
   "source": [
    "Storage[(Storage['Zone']==Zone)&((Storage['SubType']=='Battery Storage'))]['MaxCap(MW)'].sum()/1000"
   ]
  },
  {
   "cell_type": "markdown",
   "id": "779553db",
   "metadata": {},
   "source": [
    "## Plot"
   ]
  },
  {
   "cell_type": "code",
   "execution_count": null,
   "id": "05390d04",
   "metadata": {},
   "outputs": [],
   "source": [
    "HistoryPrice = pd.read_csv('output/20220101-20221231 CAISO Real-time Price.csv')\n",
    "HistoryPrice = HistoryPrice.drop_duplicates(subset=['Date', 'hub'])\n",
    "Pivot_HistoryPrice = HistoryPrice.pivot(index='Date', columns='hub', values='price')\n",
    "\n",
    "case1 = 'Strategic/UC25ED1_Strategic_true_Seg1_Load1.0_Fuel1.2_Error0.25_ratio0.1_MIP0.1_DARTDP'\n",
    "RTPrice1 = pd.read_csv('output/'+case1+'/EDprice.csv',header=None)*12\n",
    "case5 = 'Strategic/UC25ED1_Strategic_true_Seg5_Load1.0_Fuel1.2_Error0.25_ratio0.1_MIP0.1_DARTDP'\n",
    "RTPrice5 = pd.read_csv('output/'+case5+'/EDprice.csv',header=None)*12\n",
    "case1mar = 'Strategic/UC25ED1_Strategic_true_Seg1_Load1.0_Fuel1.2_Error0.25_Margin_MIP0.1_NSDAB'\n",
    "RTPrice1mar = pd.read_csv('output/'+case1+'/EDprice.csv',header=None)*12\n",
    "case5mar = 'Strategic/UC25ED1_Strategic_true_Seg5_Load1.0_Fuel1.2_Error0.25_Margin_MIP0.1_NSDAB'\n",
    "RTPrice5mar = pd.read_csv('output/'+case5+'/EDprice.csv',header=None)*12\n",
    "case3 = 'DecUpdate/UC25ED1_Strategic_false_Seg1_Load1.0_Fuel1.2_Error0.25_5GWBES_1yr_ESBid_Emergen'\n",
    "RTPrice3 = pd.read_csv('output/'+case3+'/EDprice.csv',header=None)*12\n",
    "\n",
    "# Create a 2x4 grid of subplots\n",
    "# fig, axs = plt.subplots(2, 4, figsize=(16, 9))\n",
    "fig, axs = plt.subplots(1, 2, figsize=(10, 6))\n",
    "\n",
    "# Loop through each column and each subplot\n",
    "for idx, (col, ax) in enumerate(zip([0,1], axs.flatten())):\n",
    "    sorted_vals = np.sort(Pivot_HistoryPrice.iloc[:,col].values)[::-1]\n",
    "    sorted_vals1 = np.sort(RTPrice1[col].values)[::-1]\n",
    "    sorted_vals2 = np.sort(RTPrice5[col].values)[::-1]\n",
    "    sorted_vals1mar = np.sort(RTPrice1mar[col].values)[::-1]\n",
    "    sorted_vals2mar = np.sort(RTPrice5mar[col].values)[::-1]\n",
    "    sorted_vals3 = np.sort(RTPrice3[col].values)[::-1]\n",
    "    \n",
    "    # Calculate the \"reverse\" cumulative distribution\n",
    "    cdf = np.arange(1, len(sorted_vals) + 1) / float(len(sorted_vals))\n",
    "    cdf1 = np.arange(1, len(sorted_vals1) + 1) / float(len(sorted_vals1))\n",
    "    cdf2 = np.arange(1, len(sorted_vals2) + 1) / float(len(sorted_vals2))\n",
    "    cdf1mar = np.arange(1, len(sorted_vals1mar) + 1) / float(len(sorted_vals1mar))\n",
    "    cdf2mar = np.arange(1, len(sorted_vals2mar) + 1) / float(len(sorted_vals2mar))\n",
    "    cdf3 = np.arange(1, len(sorted_vals3) + 1) / float(len(sorted_vals3))\n",
    "\n",
    "    \n",
    "    # Plot the CDF\n",
    "    ax.plot(cdf,sorted_vals)\n",
    "    ax.plot(cdf1,sorted_vals1)\n",
    "    ax.plot(cdf2,sorted_vals2)\n",
    "#     ax.plot(cdf1mar,sorted_vals1mar, linestyle='--')\n",
    "#     ax.plot(cdf2mar,sorted_vals2mar, linestyle='--')\n",
    "    ax.plot(cdf3,sorted_vals3)\n",
    "\n",
    "    ax.set_xlim(0.00, 1)\n",
    "    ax.set_ylim(-50, 500)\n",
    "    ax.legend(['Historical','Seg1', 'Seg5', 'Base'],fontsize=20)\n",
    "    ax.set_title(f\"High Price CDF of Region {idx+1}\",fontsize=20)\n",
    "    ax.tick_params(axis='both', which='major', labelsize=20)\n",
    "    ax.set_ylabel(\"Real-time Price ($/MWh)\",fontsize=20)\n",
    "\n",
    "plt.tight_layout()\n",
    "plt.show()"
   ]
  },
  {
   "cell_type": "markdown",
   "id": "12a9e0ff",
   "metadata": {},
   "source": [
    "### FOR Tuning"
   ]
  },
  {
   "cell_type": "code",
   "execution_count": null,
   "id": "8808c752",
   "metadata": {},
   "outputs": [],
   "source": [
    "HistoryPrice = pd.read_csv('output/20220101-20221231 CAISO Real-time Price.csv')\n",
    "HistoryPrice = HistoryPrice.drop_duplicates(subset=['Date', 'hub'])\n",
    "Pivot_HistoryPrice = HistoryPrice.pivot(index='Date', columns='hub', values='price')\n",
    "\n",
    "case1 = 'Strategic/6Regions3+5/2022/UC25ED1_Strategic_true_ratio1.0_Seg1_BAW0_Fuel1.0_NLC1.0_Error0.25NegativeRenew_1.0-1.0-1.0-1.0-1.0'\n",
    "RTPrice1 = pd.read_csv('output/'+case1+'/EDprice.csv',header=None)*12\n",
    "case2 = 'Strategic/FOR/2022/UC25ED1_Strategic_true_FORB_true_ratio1.0_Seg1_BAW0_Fuel1.0_NLC1.0_Error0.25_ESPeakBidAdjustment1.0_ESPeakBid100.0NegativeRenew_1.0-1.0-1.0-1.0-1.0'\n",
    "RTPrice2 = pd.read_csv('output/'+case2+'/EDprice.csv',header=None)*12\n",
    "case3 = 'remote/FOR/2022/UC25ED1_Strategic_true_FORB_true_ratio1.0_Seg1_BAW0_Fuel1.0_NLC1.0_Error0.25_ESPeakBidAdjustment1.0_ESPeakBid100.0NegativeRenew_1.0-1.0-1.0-1.0-1.0test'\n",
    "RTPrice3 = pd.read_csv('output/'+case3+'/EDprice.csv',header=None)*12\n",
    "case4 = 'remote/FOR/2022/UC25ED1_Strategic_true_FORB_true_ratio1.0_Seg1_BAW0_Fuel2.0_NLC2.0_Error0.25_ESPeakBidAdjustment1.0_ESPeakBid100.0NegativeRenew_1.0-2.0-2.0-2.0-2.0test'\n",
    "RTPrice4 = pd.read_csv('output/'+case4+'/EDprice.csv',header=None)*12\n",
    "case5 = 'remote/FOR/2022/UC25ED1_Strategic_true_FORB_true_ratio1.0_Seg1_BAW0_Fuel2.0_NLC2.0_Error0.25_ESPeakBidAdjustment1.0_ESPeakBid100.0NegativeRenew_1.0-2.0-3.0-3.0-3.0test'\n",
    "RTPrice5 = pd.read_csv('output/'+case5+'/EDprice.csv',header=None)*12\n",
    "\n",
    "# Create a 2x4 grid of subplots\n",
    "# fig, axs = plt.subplots(2, 4, figsize=(16, 9))\n",
    "fig, axs = plt.subplots(1, 2, figsize=(10, 6))\n",
    "\n",
    "# Loop through each column and each subplot\n",
    "for idx, (col, ax) in enumerate(zip([0,1], axs.flatten())):\n",
    "    sorted_vals = np.sort(Pivot_HistoryPrice.iloc[:,col].values)[::-1]\n",
    "    sorted_vals1 = np.sort(RTPrice1[col].values)[::-1]\n",
    "    sorted_vals2 = np.sort(RTPrice2[col].values)[::-1]\n",
    "    sorted_vals3 = np.sort(RTPrice3[col].values)[::-1]\n",
    "    sorted_vals4 = np.sort(RTPrice4[col].values)[::-1]\n",
    "    sorted_vals5 = np.sort(RTPrice5[col].values)[::-1]\n",
    "\n",
    "    \n",
    "    # Calculate the \"reverse\" cumulative distribution\n",
    "    cdf = np.arange(1, len(sorted_vals) + 1) / float(len(sorted_vals))\n",
    "    cdf1 = np.arange(1, len(sorted_vals1) + 1) / float(len(sorted_vals1))\n",
    "    cdf2 = np.arange(1, len(sorted_vals2) + 1) / float(len(sorted_vals2))\n",
    "    cdf3 = np.arange(1, len(sorted_vals3) + 1) / float(len(sorted_vals3))\n",
    "    cdf4 = np.arange(1, len(sorted_vals4) + 1) / float(len(sorted_vals4))\n",
    "    cdf5 = np.arange(1, len(sorted_vals5) + 1) / float(len(sorted_vals5))\n",
    "    \n",
    "    # Plot the CDF\n",
    "    ax.plot(cdf,sorted_vals)\n",
    "    ax.plot(cdf1,sorted_vals1)\n",
    "    ax.plot(cdf2,sorted_vals2)\n",
    "    ax.plot(cdf3,sorted_vals3)\n",
    "    ax.plot(cdf4,sorted_vals4)\n",
    "    ax.plot(cdf5,sorted_vals5)\n",
    "\n",
    "    ax.set_xlim(0.0, 1.0)\n",
    "    ax.set_ylim(-60, 300)\n",
    "    ax.legend(['Historical', 'Base', 'Forced Outage', 'Forced Outage_R', 'N2F2-12222', 'N2F2-12333'],fontsize=20)\n",
    "    ax.set_title(f\"Price Duration Curve of Region {idx+1}\",fontsize=20)\n",
    "    ax.tick_params(axis='both', which='major', labelsize=20)\n",
    "    ax.set_ylabel(\"Real-time Price ($/MWh)\",fontsize=20)\n",
    "\n",
    "plt.tight_layout()\n",
    "plt.show()"
   ]
  },
  {
   "cell_type": "code",
   "execution_count": null,
   "id": "f85f6787",
   "metadata": {},
   "outputs": [],
   "source": [
    "HistoryPrice = pd.read_csv('output/20220101-20221231 CAISO Real-time Price.csv')\n",
    "HistoryPrice = HistoryPrice.drop_duplicates(subset=['Date', 'hub'])\n",
    "Pivot_HistoryPrice = HistoryPrice.pivot(index='Date', columns='hub', values='price')\n",
    "\n",
    "case1 = 'remote/FOR/2022/UC25ED1_Strategic_true_FORB_true_ratio1.0_Seg1_BAW0_Fuel2.0_NLC2.0_Error0.25_ESPeakBidAdjustment1.0_ESPeakBid100.0NegativeRenew_1.0-2.0-2.0-2.0-2.0test'\n",
    "RTPrice1 = pd.read_csv('output/'+case1+'/EDprice.csv',header=None)*12\n",
    "case2 = 'remote/FOR/2022/UC25ED1_Strategic_true_FORB_true_heto_false_ratio1.0_Seg1_BAW0_Fuel2.0_NLC2.0_Error0.25_ESPeakBidAdjustment1.0_ESPeakBid100.0NegativeRenew_1.0-2.0-2.0-2.0-2.0'\n",
    "RTPrice2 = pd.read_csv('output/'+case2+'/EDprice.csv',header=None)*12\n",
    "case3 = 'remote/FOR/2022/UC25ED1_Strategic_true_FORB_true_heto_false_ratio1.0_Seg1_BAW0_Fuel2.0_NLC2.0_Error0.5_ESPeakBidAdjustment1.0_ESPeakBid100.0NegativeRenew_1.0-2.0-2.0-2.0-2.0'\n",
    "RTPrice3 = pd.read_csv('output/'+case3+'/EDprice.csv',header=None)*12\n",
    "case4 = 'remote/FOR/2022/UC25ED1_Strategic_true_FORB_true_heto_false_ratio1.0_Seg1_BAW0_Fuel2.0_NLC2.0_Error0.75_ESPeakBidAdjustment1.0_ESPeakBid100.0NegativeRenew_1.0-2.0-2.0-2.0-2.0'\n",
    "RTPrice4 = pd.read_csv('output/'+case4+'/EDprice.csv',header=None)*12\n",
    "case5 = 'remote/FOR/2022/UC25ED1_Strategic_true_FORB_true_heto_false_ratio1.0_Seg1_BAW0_Fuel2.0_NLC2.0_Error1.0_ESPeakBidAdjustment1.0_ESPeakBid100.0NegativeRenew_1.0-2.0-2.0-2.0-2.0'\n",
    "RTPrice5 = pd.read_csv('output/'+case5+'/EDprice.csv',header=None)*12\n",
    "\n",
    "# Create a 2x4 grid of subplots\n",
    "# fig, axs = plt.subplots(2, 4, figsize=(16, 9))\n",
    "fig, axs = plt.subplots(1, 2, figsize=(10, 6))\n",
    "\n",
    "# Loop through each column and each subplot\n",
    "for idx, (col, ax) in enumerate(zip([0,1], axs.flatten())):\n",
    "    sorted_vals = np.sort(Pivot_HistoryPrice.iloc[:,col].values)[::-1]\n",
    "    sorted_vals1 = np.sort(RTPrice1[col].values)[::-1]\n",
    "    sorted_vals2 = np.sort(RTPrice2[col].values)[::-1]\n",
    "    sorted_vals3 = np.sort(RTPrice3[col].values)[::-1]\n",
    "    sorted_vals4 = np.sort(RTPrice4[col].values)[::-1]\n",
    "    sorted_vals5 = np.sort(RTPrice5[col].values)[::-1]\n",
    "\n",
    "    \n",
    "    # Calculate the \"reverse\" cumulative distribution\n",
    "    cdf = np.arange(1, len(sorted_vals) + 1) / float(len(sorted_vals))\n",
    "    cdf1 = np.arange(1, len(sorted_vals1) + 1) / float(len(sorted_vals1))\n",
    "    cdf2 = np.arange(1, len(sorted_vals2) + 1) / float(len(sorted_vals2))\n",
    "    cdf3 = np.arange(1, len(sorted_vals3) + 1) / float(len(sorted_vals3))\n",
    "    cdf4 = np.arange(1, len(sorted_vals4) + 1) / float(len(sorted_vals4))\n",
    "    cdf5 = np.arange(1, len(sorted_vals5) + 1) / float(len(sorted_vals5))\n",
    "    \n",
    "    # Plot the CDF\n",
    "    ax.plot(cdf,sorted_vals)\n",
    "    ax.plot(cdf1,sorted_vals1)\n",
    "    ax.plot(cdf2,sorted_vals2)\n",
    "    ax.plot(cdf3,sorted_vals3)\n",
    "    ax.plot(cdf4,sorted_vals4)\n",
    "    ax.plot(cdf5,sorted_vals5)\n",
    "\n",
    "    ax.set_xlim(0.0, 1.0)\n",
    "    ax.set_ylim(-60, 300)\n",
    "    ax.legend(['Historical', 'Base', 'E0.25', 'E0.5', 'E0.75', 'E1.0'],fontsize=20)\n",
    "    ax.set_title(f\"Price Duration Curve of Region {idx+1}\",fontsize=20)\n",
    "    ax.tick_params(axis='both', which='major', labelsize=20)\n",
    "    ax.set_ylabel(\"Real-time Price ($/MWh)\",fontsize=20)\n",
    "\n",
    "plt.tight_layout()\n",
    "plt.show()"
   ]
  },
  {
   "cell_type": "code",
   "execution_count": null,
   "id": "bcf5ddc5",
   "metadata": {},
   "outputs": [],
   "source": [
    "HistoryPrice = pd.read_csv('output/20220101-20221231 CAISO Real-time Price.csv')\n",
    "HistoryPrice = HistoryPrice.drop_duplicates(subset=['Date', 'hub'])\n",
    "Pivot_HistoryPrice = HistoryPrice.pivot(index='Date', columns='hub', values='price')\n",
    "\n",
    "case1 = 'remote/FOR/2022/UC25ED1_Strategic_true_FORB_true_ratio1.0_Seg1_BAW0_Fuel2.0_NLC2.0_Error0.25_ESPeakBidAdjustment1.0_ESPeakBid100.0NegativeRenew_1.0-2.0-2.0-2.0-2.0test'\n",
    "RTPrice1 = pd.read_csv('output/'+case1+'/EDprice.csv',header=None)*12\n",
    "case2 = 'remote/FOR/2022/UC25ED1_Strategic_true_FORB_true_heto_false_ratio1.0_Seg1_BAW0_Fuel2.0_NLC2.0_Error0.25_ESPeakBidAdjustment1.0_ESPeakBid100.0NegativeRenew_1.0-2.0-2.0-2.0-2.0'\n",
    "RTPrice2 = pd.read_csv('output/'+case2+'/EDprice.csv',header=None)*12\n",
    "case3 = 'remote/FOR/2022/UC25ED1_Strategic_true_FORB_true_heto_false_ratio1.0_Seg1_BAW0_Fuel1.9_NLC1.9_Error0.25_ESPeakBidAdjustment1.0_ESPeakBid100.0NegativeRenew_1.0-2.0-2.0-2.0-2.0'\n",
    "RTPrice3 = pd.read_csv('output/'+case3+'/EDprice.csv',header=None)*12\n",
    "case4 = 'remote/FOR/2022/UC25ED1_Strategic_true_FORB_true_heto_false_ratio1.0_Seg1_BAW0_Fuel1.8_NLC1.8_Error0.25_ESPeakBidAdjustment1.0_ESPeakBid100.0NegativeRenew_1.0-2.0-2.0-2.0-2.0'\n",
    "RTPrice4 = pd.read_csv('output/'+case4+'/EDprice.csv',header=None)*12\n",
    "case5 = 'remote/FOR/2022/UC25ED1_Strategic_true_FORB_true_heto_false_ratio1.0_Seg1_BAW0_Fuel2.0_NLC2.0_Error1.0_ESPeakBidAdjustment1.0_ESPeakBid100.0NegativeRenew_1.0-2.0-2.0-2.0-2.0'\n",
    "RTPrice5 = pd.read_csv('output/'+case5+'/EDprice.csv',header=None)*12\n",
    "\n",
    "# Create a 2x4 grid of subplots\n",
    "# fig, axs = plt.subplots(2, 4, figsize=(16, 9))\n",
    "fig, axs = plt.subplots(1, 2, figsize=(10, 6))\n",
    "\n",
    "# Loop through each column and each subplot\n",
    "for idx, (col, ax) in enumerate(zip([0,1], axs.flatten())):\n",
    "    sorted_vals = np.sort(Pivot_HistoryPrice.iloc[:,col].values)[::-1]\n",
    "    sorted_vals1 = np.sort(RTPrice1[col].values)[::-1]\n",
    "    sorted_vals2 = np.sort(RTPrice2[col].values)[::-1]\n",
    "    sorted_vals3 = np.sort(RTPrice3[col].values)[::-1]\n",
    "    sorted_vals4 = np.sort(RTPrice4[col].values)[::-1]\n",
    "    sorted_vals5 = np.sort(RTPrice5[col].values)[::-1]\n",
    "\n",
    "    \n",
    "    # Calculate the \"reverse\" cumulative distribution\n",
    "    cdf = np.arange(1, len(sorted_vals) + 1) / float(len(sorted_vals))\n",
    "    cdf1 = np.arange(1, len(sorted_vals1) + 1) / float(len(sorted_vals1))\n",
    "    cdf2 = np.arange(1, len(sorted_vals2) + 1) / float(len(sorted_vals2))\n",
    "    cdf3 = np.arange(1, len(sorted_vals3) + 1) / float(len(sorted_vals3))\n",
    "    cdf4 = np.arange(1, len(sorted_vals4) + 1) / float(len(sorted_vals4))\n",
    "    cdf5 = np.arange(1, len(sorted_vals5) + 1) / float(len(sorted_vals5))\n",
    "    \n",
    "    # Plot the CDF\n",
    "    ax.plot(cdf,sorted_vals)\n",
    "    ax.plot(cdf1,sorted_vals1)\n",
    "    ax.plot(cdf2,sorted_vals2)\n",
    "    ax.plot(cdf3,sorted_vals3)\n",
    "    ax.plot(cdf4,sorted_vals4)\n",
    "#     ax.plot(cdf5,sorted_vals5)\n",
    "\n",
    "    ax.set_xlim(0.0, 1.0)\n",
    "    ax.set_ylim(-60, 300)\n",
    "    ax.legend(['Historical', 'Base', '2', '1.9', '1.8', 'E1.0'],fontsize=20)\n",
    "    ax.set_title(f\"Price Duration Curve of Region {idx+1}\",fontsize=20)\n",
    "    ax.tick_params(axis='both', which='major', labelsize=20)\n",
    "    ax.set_ylabel(\"Real-time Price ($/MWh)\",fontsize=20)\n",
    "\n",
    "plt.tight_layout()\n",
    "plt.show()"
   ]
  },
  {
   "cell_type": "code",
   "execution_count": null,
   "id": "bf4e042a",
   "metadata": {},
   "outputs": [],
   "source": [
    "HistoryPrice = pd.read_csv('output/20220101-20221231 CAISO Real-time Price.csv')\n",
    "HistoryPrice = HistoryPrice.drop_duplicates(subset=['Date', 'hub'])\n",
    "Pivot_HistoryPrice = HistoryPrice.pivot(index='Date', columns='hub', values='price')\n",
    "\n",
    "case1 = 'remote/FOR/2022/UC25ED1_Strategic_true_FORB_true_heto_false_ratio1.0_Seg1_BAW0_Fuel2.0_NLC2.0_Error0.25_ESPeakBidAdjustment1.0_ESPeakBid100.0NegativeRenew_1.0-2.0-2.0-2.0-2.0'\n",
    "RTPrice1 = pd.read_csv('output/'+case1+'/EDprice.csv',header=None)*12\n",
    "case2 = 'remote/FOR/2022/UC25ED1_Strategic_false_FORB_true_heto_false_ratio1.0_Seg1_BAW0_Fuel2.0_NLC1.2_Error0.25_ESPeakBidAdjustment1.0_ESPeakBid100.0NegativeRenew_1.0-2.0-2.0-2.0-2.0'\n",
    "RTPrice2 = pd.read_csv('output/'+case2+'/EDprice.csv',header=None)*12\n",
    "case3 = 'remote/FOR/2022/UC25ED1_Strategic_false_FORB_true_heto_false_ratio1.0_Seg1_BAW0_Fuel2.0_NLC1.4_Error0.25_ESPeakBidAdjustment1.0_ESPeakBid100.0NegativeRenew_1.0-2.0-2.0-2.0-2.0'\n",
    "RTPrice3 = pd.read_csv('output/'+case3+'/EDprice.csv',header=None)*12\n",
    "case4 = 'remote/FOR/2022/UC25ED1_Strategic_false_FORB_true_heto_false_ratio1.0_Seg1_BAW0_Fuel2.0_NLC1.6_Error0.25_ESPeakBidAdjustment1.0_ESPeakBid100.0NegativeRenew_1.0-2.0-2.0-2.0-2.0'\n",
    "RTPrice4 = pd.read_csv('output/'+case4+'/EDprice.csv',header=None)*12\n",
    "case5 = 'remote/FOR/2022/UC25ED1_Strategic_true_FORB_true_heto_false_ratio1.0_Seg1_BAW0_Fuel2.0_NLC2.0_Error1.0_ESPeakBidAdjustment1.0_ESPeakBid100.0NegativeRenew_1.0-2.0-2.0-2.0-2.0'\n",
    "RTPrice5 = pd.read_csv('output/'+case5+'/EDprice.csv',header=None)*12\n",
    "\n",
    "# Create a 2x4 grid of subplots\n",
    "# fig, axs = plt.subplots(2, 4, figsize=(16, 9))\n",
    "fig, axs = plt.subplots(1, 2, figsize=(10, 6))\n",
    "\n",
    "# Loop through each column and each subplot\n",
    "for idx, (col, ax) in enumerate(zip([0,1], axs.flatten())):\n",
    "    sorted_vals = np.sort(Pivot_HistoryPrice.iloc[:,col].values)[::-1]\n",
    "    sorted_vals1 = np.sort(RTPrice1[col].values)[::-1]\n",
    "    sorted_vals2 = np.sort(RTPrice2[col].values)[::-1]\n",
    "    sorted_vals3 = np.sort(RTPrice3[col].values)[::-1]\n",
    "    sorted_vals4 = np.sort(RTPrice4[col].values)[::-1]\n",
    "    sorted_vals5 = np.sort(RTPrice5[col].values)[::-1]\n",
    "\n",
    "    \n",
    "    # Calculate the \"reverse\" cumulative distribution\n",
    "    cdf = np.arange(1, len(sorted_vals) + 1) / float(len(sorted_vals))\n",
    "    cdf1 = np.arange(1, len(sorted_vals1) + 1) / float(len(sorted_vals1))\n",
    "    cdf2 = np.arange(1, len(sorted_vals2) + 1) / float(len(sorted_vals2))\n",
    "    cdf3 = np.arange(1, len(sorted_vals3) + 1) / float(len(sorted_vals3))\n",
    "    cdf4 = np.arange(1, len(sorted_vals4) + 1) / float(len(sorted_vals4))\n",
    "    cdf5 = np.arange(1, len(sorted_vals5) + 1) / float(len(sorted_vals5))\n",
    "    \n",
    "    # Plot the CDF\n",
    "    ax.plot(cdf,sorted_vals)\n",
    "    ax.plot(cdf1,sorted_vals1)\n",
    "    ax.plot(cdf2,sorted_vals2)\n",
    "    ax.plot(cdf3,sorted_vals3)\n",
    "    ax.plot(cdf4,sorted_vals4)\n",
    "#     ax.plot(cdf5,sorted_vals5)\n",
    "\n",
    "    ax.set_xlim(0.0, 1.0)\n",
    "    ax.set_ylim(-60, 300)\n",
    "    ax.legend(['Historical', 'F2-N2', 'F2-N1.2', 'F2-N1.4', 'F2-N1.6'],fontsize=20)\n",
    "    ax.set_title(f\"Price Duration Curve of Region {idx+1}\",fontsize=20)\n",
    "    ax.tick_params(axis='both', which='major', labelsize=20)\n",
    "    ax.set_ylabel(\"Real-time Price ($/MWh)\",fontsize=20)\n",
    "\n",
    "plt.tight_layout()\n",
    "plt.show()"
   ]
  },
  {
   "cell_type": "code",
   "execution_count": null,
   "id": "711e367e",
   "metadata": {},
   "outputs": [],
   "source": [
    "HistoryPrice = pd.read_csv('output/20220101-20221231 CAISO Real-time Price.csv')\n",
    "HistoryPrice = HistoryPrice.drop_duplicates(subset=['Date', 'hub'])\n",
    "Pivot_HistoryPrice = HistoryPrice.pivot(index='Date', columns='hub', values='price')\n",
    "\n",
    "case1 = 'remote/FOR/2022/UC25ED1_Strategic_false_FORB_true_heto_false_ratio1.0_Seg1_BAW0_Fuel2.0_NLC1.2_Error0.25_ESPeakBidAdjustment1.0_ESPeakBid100.0NegativeRenew_1.0-2.0-2.0-2.0-2.0'\n",
    "RTPrice1 = pd.read_csv('output/'+case1+'/EDprice.csv',header=None)*12\n",
    "case2 = 'remote/FOR/2022/UC25ED1_Strategic_false_FORB_true_ratio1.0_Seg1_BAW0_Fuel2.0_NLC1.2_Error0.25_ESPeakBidAdjustment1.0_ESPeakBid100.0NegativeRenew_1.0-2.5-2.5-2.5-2.5'\n",
    "RTPrice2 = pd.read_csv('output/'+case2+'/EDprice.csv',header=None)*12\n",
    "case3 = 'remote/FOR/2022/UC25ED1_Strategic_false_FORB_true_ratio1.0_Seg1_BAW0_Fuel2.0_NLC1.2_Error0.25_ESPeakBidAdjustment1.0_ESPeakBid100.0NegativeRenew_1.0-2.0-2.0-2.0-3.0'\n",
    "RTPrice3 = pd.read_csv('output/'+case3+'/EDprice.csv',header=None)*12\n",
    "case4 = 'remote/FOR/2022/UC25ED1_Strategic_false_FORB_true_ratio1.0_Seg1_BAW0_Fuel2.0_NLC1.2_Error0.25_ESPeakBidAdjustment1.0_ESPeakBid100.0NegativeRenew_1.0-2.0-2.0-3.0-3.0'\n",
    "RTPrice4 = pd.read_csv('output/'+case4+'/EDprice.csv',header=None)*12\n",
    "case5 = 'remote/FOR/2022/UC25ED1_Strategic_false_FORB_true_ratio1.0_Seg1_BAW0_Fuel2.0_NLC1.2_Error0.25_ESPeakBidAdjustment1.0_ESPeakBid100.0NegativeRenew_1.0-2.0-3.0-4.0-4.0'\n",
    "RTPrice5 = pd.read_csv('output/'+case5+'/EDprice.csv',header=None)*12\n",
    "\n",
    "# Create a 2x4 grid of subplots\n",
    "# fig, axs = plt.subplots(2, 4, figsize=(16, 9))\n",
    "fig, axs = plt.subplots(1, 2, figsize=(10, 6))\n",
    "\n",
    "# Loop through each column and each subplot\n",
    "for idx, (col, ax) in enumerate(zip([0,1], axs.flatten())):\n",
    "    sorted_vals = np.sort(Pivot_HistoryPrice.iloc[:,col].values)[::-1]\n",
    "    sorted_vals1 = np.sort(RTPrice1[col].values)[::-1]\n",
    "    sorted_vals2 = np.sort(RTPrice2[col].values)[::-1]\n",
    "    sorted_vals3 = np.sort(RTPrice3[col].values)[::-1]\n",
    "    sorted_vals4 = np.sort(RTPrice4[col].values)[::-1]\n",
    "    sorted_vals5 = np.sort(RTPrice5[col].values)[::-1]\n",
    "\n",
    "    \n",
    "    # Calculate the \"reverse\" cumulative distribution\n",
    "    cdf = np.arange(1, len(sorted_vals) + 1) / float(len(sorted_vals))\n",
    "    cdf1 = np.arange(1, len(sorted_vals1) + 1) / float(len(sorted_vals1))\n",
    "    cdf2 = np.arange(1, len(sorted_vals2) + 1) / float(len(sorted_vals2))\n",
    "    cdf3 = np.arange(1, len(sorted_vals3) + 1) / float(len(sorted_vals3))\n",
    "    cdf4 = np.arange(1, len(sorted_vals4) + 1) / float(len(sorted_vals4))\n",
    "    cdf5 = np.arange(1, len(sorted_vals5) + 1) / float(len(sorted_vals5))\n",
    "    \n",
    "    # Plot the CDF\n",
    "    ax.plot(cdf,sorted_vals)\n",
    "    ax.plot(cdf1,sorted_vals1)\n",
    "#     ax.plot(cdf2,sorted_vals2)\n",
    "#     ax.plot(cdf3,sorted_vals3)\n",
    "#     ax.plot(cdf4,sorted_vals4)\n",
    "#     ax.plot(cdf5,sorted_vals5)\n",
    "\n",
    "    ax.set_xlim(0.0, 1.0)\n",
    "    ax.set_ylim(-60, 300)\n",
    "    ax.legend(['Historical', 'F2-N1.2', 'S12223', 'S12233', 'S12344'],fontsize=20)\n",
    "    ax.set_title(f\"Price Duration Curve of Region {idx+1}\",fontsize=20)\n",
    "    ax.tick_params(axis='both', which='major', labelsize=20)\n",
    "    ax.set_ylabel(\"Real-time Price ($/MWh)\",fontsize=20)\n",
    "\n",
    "plt.tight_layout()\n",
    "plt.show()"
   ]
  },
  {
   "cell_type": "code",
   "execution_count": null,
   "id": "4d40518c",
   "metadata": {},
   "outputs": [],
   "source": [
    "HistoryPrice = pd.read_csv('output/20220101-20221231 CAISO Real-time Price.csv')\n",
    "HistoryPrice = HistoryPrice.drop_duplicates(subset=['Date', 'hub'])\n",
    "Pivot_HistoryPrice = HistoryPrice.pivot(index='Date', columns='hub', values='price')\n",
    "\n",
    "case1 = 'remote/FOR/2022/UC25ED1_Strategic_false_FORB_true_heto_false_ratio1.0_Seg1_BAW0_Fuel2.0_NLC1.2_Error0.25_ESPeakBidAdjustment1.0_ESPeakBid100.0NegativeRenew_1.0-2.0-2.0-2.0-2.0'\n",
    "RTPrice1 = pd.read_csv('output/'+case1+'/EDprice.csv',header=None)*12\n",
    "case2 = 'Strategic/Exp/2022/UC25ED1_Strategic_true_FORB_true_ratio0.0_Seg1_BAW0_Fuel2.0_NLC2.0_Error0.25_ESPeakBidAdjustment1.0_ESPeakBid100.0NegativeRenew_1.0-2.0-2.0-2.0-2.0'\n",
    "RTPrice2 = pd.read_csv('output/'+case2+'/EDprice.csv',header=None)*12\n",
    "case3 = 'Strategic/Exp/2022/UC25ED1_Strategic_true_FORB_true_ratio0.3_Seg1_BAW0_Fuel2.0_NLC2.0_Error0.25_ESPeakBidAdjustment1.0_ESPeakBid100.0NegativeRenew_1.0-2.0-2.0-2.0-2.0'\n",
    "RTPrice3 = pd.read_csv('output/'+case3+'/EDprice.csv',header=None)*12\n",
    "case4 = 'Strategic/Exp/2022/UC25ED1_Strategic_true_FORB_true_ratio0.6_Seg1_BAW0_Fuel2.0_NLC2.0_Error0.25_ESPeakBidAdjustment1.0_ESPeakBid100.0NegativeRenew_1.0-2.0-2.0-2.0-2.0'\n",
    "RTPrice4 = pd.read_csv('output/'+case4+'/EDprice.csv',header=None)*12\n",
    "case5 = 'Strategic/Exp/2022/UC25ED1_Strategic_true_FORB_true_ratio1.0_Seg1_BAW0_Fuel2.0_NLC2.0_Error0.25_ESPeakBidAdjustment1.0_ESPeakBid100.0NegativeRenew_1.0-2.0-2.0-2.0-2.0'\n",
    "RTPrice5 = pd.read_csv('output/'+case5+'/EDprice.csv',header=None)*12\n",
    "\n",
    "# Create a 2x4 grid of subplots\n",
    "# fig, axs = plt.subplots(2, 4, figsize=(16, 9))\n",
    "fig, axs = plt.subplots(1, 2, figsize=(10, 6))\n",
    "\n",
    "# Loop through each column and each subplot\n",
    "for idx, (col, ax) in enumerate(zip([0,1], axs.flatten())):\n",
    "    sorted_vals = np.sort(Pivot_HistoryPrice.iloc[:,col].values)[::-1]\n",
    "    sorted_vals1 = np.sort(RTPrice1[col].values)[::-1]\n",
    "    sorted_vals2 = np.sort(RTPrice2[col].values)[::-1]\n",
    "    sorted_vals3 = np.sort(RTPrice3[col].values)[::-1]\n",
    "    sorted_vals4 = np.sort(RTPrice4[col].values)[::-1]\n",
    "    sorted_vals5 = np.sort(RTPrice5[col].values)[::-1]\n",
    "\n",
    "    \n",
    "    # Calculate the \"reverse\" cumulative distribution\n",
    "    cdf = np.arange(1, len(sorted_vals) + 1) / float(len(sorted_vals))\n",
    "    cdf1 = np.arange(1, len(sorted_vals1) + 1) / float(len(sorted_vals1))\n",
    "    cdf2 = np.arange(1, len(sorted_vals2) + 1) / float(len(sorted_vals2))\n",
    "    cdf3 = np.arange(1, len(sorted_vals3) + 1) / float(len(sorted_vals3))\n",
    "    cdf4 = np.arange(1, len(sorted_vals4) + 1) / float(len(sorted_vals4))\n",
    "    cdf5 = np.arange(1, len(sorted_vals5) + 1) / float(len(sorted_vals5))\n",
    "    \n",
    "    # Plot the CDF\n",
    "    ax.plot(cdf,sorted_vals)\n",
    "    ax.plot(cdf1,sorted_vals1)\n",
    "    ax.plot(cdf2,sorted_vals2)\n",
    "    ax.plot(cdf3,sorted_vals3)\n",
    "    ax.plot(cdf4,sorted_vals4)\n",
    "    ax.plot(cdf5,sorted_vals5)\n",
    "\n",
    "    ax.set_xlim(0.0, 1.0)\n",
    "    ax.set_ylim(-60, 300)\n",
    "    ax.legend(['Historical', 'DummyBids', 'ISR0.0', 'ISR0.3', 'ISR0.6', 'ISR1.0'],fontsize=20)\n",
    "    ax.set_title(f\"Price Duration Curve of Region {idx+1}\",fontsize=20)\n",
    "    ax.tick_params(axis='both', which='major', labelsize=20)\n",
    "    ax.set_ylabel(\"Real-time Price ($/MWh)\",fontsize=20)\n",
    "\n",
    "plt.tight_layout()\n",
    "plt.show()"
   ]
  },
  {
   "cell_type": "code",
   "execution_count": null,
   "id": "e8ea3391",
   "metadata": {},
   "outputs": [],
   "source": [
    "HistoryPrice = pd.read_csv('output/20220101-20221231 CAISO Real-time Price.csv')\n",
    "HistoryPrice = HistoryPrice.drop_duplicates(subset=['Date', 'hub'])\n",
    "Pivot_HistoryPrice = HistoryPrice.pivot(index='Date', columns='hub', values='price')\n",
    "\n",
    "case1 = 'remote/FOR/2022/UC25ED1_Strategic_false_FORB_true_heto_false_ratio1.0_Seg1_BAW0_Fuel2.0_NLC1.2_Error0.25_ESPeakBidAdjustment1.0_ESPeakBid100.0NegativeRenew_1.0-2.0-2.0-2.0-2.0'\n",
    "RTPrice1 = pd.read_csv('output/'+case1+'/EDprice.csv',header=None)*12\n",
    "case2 = 'Strategic/PriceCap/2022ED1_Strategic_false_FORB_true_ratio1.0_Seg1_BAW0_Fuel2.0_NLC1.2_Error0.25NegativeRenew_1.0-2.0-2.0-2.0-2.0'\n",
    "RTPrice2 = pd.read_csv('output/'+case2+'/EDprice.csv',header=None)*12\n",
    "case3 = 'Strategic/PriceCap1200/2022/UC25ED1_Strategic_false_FORB_true_ratio1.0_Seg1_BAW0_Fuel2.0_NLC2.0_Error0.25_ESPeakBidAdjustment1.0_ESPeakBid100.0NegativeRenew_1.0-2.0-2.0-2.0-2.0'\n",
    "RTPrice3 = pd.read_csv('output/'+case3+'/EDprice.csv',header=None)*12\n",
    "# case4 = 'Strategic/PriceCap/2022ED1_Strategic_false_FORB_true_ratio1.0_Seg1_BAW0_Fuel2.0_NLC1.2_Error0.25NegativeRenew_1.0-2.0-2.0-2.0-2.0'\n",
    "# RTPrice4 = pd.read_csv('output/'+case4+'/EDprice.csv',header=None)*12\n",
    "# case5 = 'Strategic/Exp/2022/UC25ED1_Strategic_true_FORB_true_ratio1.0_Seg5_BAW0_Fuel2.0_NLC2.0_Error0.25_ESPeakBidAdjustment1.0_ESPeakBid100.0NegativeRenew_1.0-2.0-2.0-2.0-2.0'\n",
    "# RTPrice5 = pd.read_csv('output/'+case5+'/EDprice.csv',header=None)*12\n",
    "\n",
    "# Create a 2x4 grid of subplots\n",
    "# fig, axs = plt.subplots(2, 4, figsize=(16, 9))\n",
    "fig, axs = plt.subplots(1, 2, figsize=(10, 6))\n",
    "\n",
    "# Loop through each column and each subplot\n",
    "for idx, (col, ax) in enumerate(zip([0,1], axs.flatten())):\n",
    "    sorted_vals = np.sort(Pivot_HistoryPrice.iloc[:,col].values)[::-1]\n",
    "    sorted_vals1 = np.sort(RTPrice1[col].values)[::-1]\n",
    "    sorted_vals2 = np.sort(RTPrice2[col].values)[::-1]\n",
    "    sorted_vals3 = np.sort(RTPrice3[col].values)[::-1]\n",
    "    sorted_vals4 = np.sort(RTPrice4[col].values)[::-1]\n",
    "    sorted_vals5 = np.sort(RTPrice5[col].values)[::-1]\n",
    "\n",
    "    \n",
    "    # Calculate the \"reverse\" cumulative distribution\n",
    "    cdf = np.arange(1, len(sorted_vals) + 1) / float(len(sorted_vals))\n",
    "    cdf1 = np.arange(1, len(sorted_vals1) + 1) / float(len(sorted_vals1))\n",
    "    cdf2 = np.arange(1, len(sorted_vals2) + 1) / float(len(sorted_vals2))\n",
    "    cdf3 = np.arange(1, len(sorted_vals3) + 1) / float(len(sorted_vals3))\n",
    "    cdf4 = np.arange(1, len(sorted_vals4) + 1) / float(len(sorted_vals4))\n",
    "    cdf5 = np.arange(1, len(sorted_vals5) + 1) / float(len(sorted_vals5))\n",
    "    \n",
    "    # Plot the CDF\n",
    "    ax.plot(cdf,sorted_vals)\n",
    "    ax.plot(cdf1,sorted_vals1)\n",
    "    ax.plot(cdf2,sorted_vals2)\n",
    "    ax.plot(cdf3,sorted_vals3)\n",
    "#     ax.plot(cdf4,sorted_vals4)\n",
    "#     ax.plot(cdf5,sorted_vals5)\n",
    "\n",
    "    ax.set_xlim(0.0, 0.005)\n",
    "    ax.set_ylim(-60, 2000)\n",
    "    ax.legend(['Historical', 'NLC1.2', 'NLC1.2PriceCap', 'NLC2.0', 'PriceCap1200', 'ISR1.0-Seg5'],fontsize=20)\n",
    "    ax.set_title(f\"Price Duration Curve of Region {idx+1}\",fontsize=20)\n",
    "    ax.tick_params(axis='both', which='major', labelsize=20)\n",
    "    ax.set_ylabel(\"Real-time Price ($/MWh)\",fontsize=20)\n",
    "\n",
    "plt.tight_layout()\n",
    "plt.show()"
   ]
  },
  {
   "cell_type": "markdown",
   "id": "e7295b83",
   "metadata": {},
   "source": [
    "### Forecast Error"
   ]
  },
  {
   "cell_type": "code",
   "execution_count": null,
   "id": "ff8e78a1",
   "metadata": {},
   "outputs": [],
   "source": [
    "HistoryPrice = pd.read_csv('output/20220101-20221231 CAISO Real-time Price.csv')\n",
    "HistoryPrice = HistoryPrice.drop_duplicates(subset=['Date', 'hub'])\n",
    "Pivot_HistoryPrice = HistoryPrice.pivot(index='Date', columns='hub', values='price')\n",
    "\n",
    "case1 = 'Strategic/6Regions3+5/2022/UC25ED1_Strategic_true_ratio1.0_Seg1_BAW0_Fuel1.0_NLC1.0_Error0.25NegativeRenew_1.0-1.0-1.0-1.0-1.0'\n",
    "RTPrice1 = pd.read_csv('output/'+case1+'/EDprice.csv',header=None)*12\n",
    "case2 = 'Strategic/FOR/2022/UC25ED1_Strategic_true_FORB_true_ratio1.0_Seg1_BAW0_Fuel1.0_NLC1.0_Error0.25_ESPeakBidAdjustment1.0_ESPeakBid100.0NegativeRenew_1.0-1.0-1.0-1.0-1.0'\n",
    "RTPrice2 = pd.read_csv('output/'+case2+'/EDprice.csv',header=None)*12\n",
    "case3 = 'Strategic/FOR/2022/UC25ED1_Strategic_true_FORB_true_ratio1.0_Seg1_BAW0_Fuel1.0_NLC1.0_Error0.25_ESPeakBidAdjustment1.0_ESPeakBid100.0NegativeRenew_1.0-1.0-1.0-1.0-1.0testnoUTChange'\n",
    "RTPrice3 = pd.read_csv('output/'+case3+'/EDprice.csv',header=None)*12\n",
    "case4 = 'Strategic/6Regions3+5/2022/UC25ED1_Strategic_true_ratio1.0_Seg1_BAW0_Fuel1.0_NLC2.0_Error1.0NegativeRenew_1.0-2.0-3.0-3.0-3.0'\n",
    "RTPrice4 = pd.read_csv('output/'+case4+'/EDprice.csv',header=None)*12\n",
    "case5 = 'Strategic/6Regions3+5/2022/UC25ED1_Strategic_true_ratio1.0_Seg1_BAW0_Fuel1.0_NLC2.0_Error0.25NegativeRenew_1.0-2.0-3.0-3.0-3.0'\n",
    "RTPrice5 = pd.read_csv('output/'+case5+'/EDprice.csv',header=None)*12\n",
    "\n",
    "# Create a 2x4 grid of subplots\n",
    "# fig, axs = plt.subplots(2, 4, figsize=(16, 9))\n",
    "fig, axs = plt.subplots(1, 2, figsize=(10, 6))\n",
    "\n",
    "# Loop through each column and each subplot\n",
    "for idx, (col, ax) in enumerate(zip([0,1], axs.flatten())):\n",
    "    sorted_vals = np.sort(Pivot_HistoryPrice.iloc[:,col].values)[::-1]\n",
    "    sorted_vals1 = np.sort(RTPrice1[col].values)[::-1]\n",
    "    sorted_vals2 = np.sort(RTPrice2[col].values)[::-1]\n",
    "    sorted_vals3 = np.sort(RTPrice3[col].values)[::-1]\n",
    "    sorted_vals4 = np.sort(RTPrice4[col].values)[::-1]\n",
    "    sorted_vals5 = np.sort(RTPrice5[col].values)[::-1]\n",
    "\n",
    "    \n",
    "    # Calculate the \"reverse\" cumulative distribution\n",
    "    cdf = np.arange(1, len(sorted_vals) + 1) / float(len(sorted_vals))\n",
    "    cdf1 = np.arange(1, len(sorted_vals1) + 1) / float(len(sorted_vals1))\n",
    "    cdf2 = np.arange(1, len(sorted_vals2) + 1) / float(len(sorted_vals2))\n",
    "    cdf3 = np.arange(1, len(sorted_vals3) + 1) / float(len(sorted_vals3))\n",
    "    cdf4 = np.arange(1, len(sorted_vals4) + 1) / float(len(sorted_vals4))\n",
    "    cdf5 = np.arange(1, len(sorted_vals5) + 1) / float(len(sorted_vals5))\n",
    "    \n",
    "    # Plot the CDF\n",
    "    ax.plot(cdf,sorted_vals)\n",
    "    ax.plot(cdf1,sorted_vals1)\n",
    "    ax.plot(cdf2,sorted_vals2)\n",
    "#     ax.plot(cdf3,sorted_vals3)\n",
    "#     ax.plot(cdf4,sorted_vals4)\n",
    "#     ax.plot(cdf5,sorted_vals5)\n",
    "\n",
    "    ax.set_xlim(0.0, 1.0)\n",
    "    ax.set_ylim(-60, 300)\n",
    "    ax.legend(['Historical', 'Base', 'Forced Outage.', 'E0.75', 'E1.0'],fontsize=20)\n",
    "    ax.set_title(f\"Price Duration Curve of Region {idx+1}\",fontsize=20)\n",
    "    ax.tick_params(axis='both', which='major', labelsize=20)\n",
    "    ax.set_ylabel(\"Real-time Price ($/MWh)\",fontsize=20)\n",
    "\n",
    "plt.tight_layout()\n",
    "plt.show()"
   ]
  },
  {
   "cell_type": "markdown",
   "id": "cfe51a34",
   "metadata": {},
   "source": [
    "### Segment Cost"
   ]
  },
  {
   "cell_type": "code",
   "execution_count": null,
   "id": "9b583f9d",
   "metadata": {},
   "outputs": [],
   "source": [
    "HistoryPrice = pd.read_csv('output/20220101-20221231 CAISO Real-time Price.csv')\n",
    "HistoryPrice = HistoryPrice.drop_duplicates(subset=['Date', 'hub'])\n",
    "Pivot_HistoryPrice = HistoryPrice.pivot(index='Date', columns='hub', values='price')\n",
    "\n",
    "case1 = 'Strategic/6Regions3+5/2022/UC25ED1_Strategic_true_ratio1.0_Seg1_BAW0_Fuel1.0_NLC2.0_Error0.25NegativeRenew_1.0-2.0-2.0-2.0-2.0'\n",
    "RTPrice1 = pd.read_csv('output/'+case1+'/EDprice.csv',header=None)*12\n",
    "case2 = 'Strategic/6Regions3+5/2022/UC25ED1_Strategic_true_ratio1.0_Seg1_BAW0_Fuel1.0_NLC2.0_Error0.25NegativeRenew_1.0-2.0-3.0-3.0-3.0'\n",
    "RTPrice2 = pd.read_csv('output/'+case2+'/EDprice.csv',header=None)*12\n",
    "case3 = 'Strategic/6Regions3+5/2022/UC25ED1_Strategic_true_ratio1.0_Seg1_BAW0_Fuel1.0_NLC2.0_Error0.25NegativeRenew_1.0-2.0-3.0-4.0-4.0'\n",
    "RTPrice3 = pd.read_csv('output/'+case3+'/EDprice.csv',header=None)*12\n",
    "case4 = 'Strategic/6Regions3+5/2022/UC25ED1_Strategic_true_ratio1.0_Seg1_BAW0_Fuel1.0_NLC2.0_Error0.25NegativeRenew_1.0-2.0-3.0-4.0-5.0'\n",
    "RTPrice4 = pd.read_csv('output/'+case4+'/EDprice.csv',header=None)*12\n",
    "case5 = 'Strategic/6Regions3+5/2022/UC25ED1_Strategic_true_ratio1.0_Seg1_BAW0_Fuel1.0_NLC2.0_Error0.25NegativeRenew_1.0-2.0-3.0-3.0-3.0'\n",
    "RTPrice5 = pd.read_csv('output/'+case5+'/EDprice.csv',header=None)*12\n",
    "\n",
    "# Create a 2x4 grid of subplots\n",
    "# fig, axs = plt.subplots(2, 4, figsize=(16, 9))\n",
    "fig, axs = plt.subplots(1, 2, figsize=(10, 6))\n",
    "\n",
    "# Loop through each column and each subplot\n",
    "for idx, (col, ax) in enumerate(zip([0,1], axs.flatten())):\n",
    "    sorted_vals = np.sort(Pivot_HistoryPrice.iloc[:,col].values)[::-1]\n",
    "    sorted_vals1 = np.sort(RTPrice1[col].values)[::-1]\n",
    "    sorted_vals2 = np.sort(RTPrice2[col].values)[::-1]\n",
    "    sorted_vals3 = np.sort(RTPrice3[col].values)[::-1]\n",
    "    sorted_vals4 = np.sort(RTPrice4[col].values)[::-1]\n",
    "    sorted_vals5 = np.sort(RTPrice5[col].values)[::-1]\n",
    "\n",
    "    \n",
    "    # Calculate the \"reverse\" cumulative distribution\n",
    "    cdf = np.arange(1, len(sorted_vals) + 1) / float(len(sorted_vals))\n",
    "    cdf1 = np.arange(1, len(sorted_vals1) + 1) / float(len(sorted_vals1))\n",
    "    cdf2 = np.arange(1, len(sorted_vals2) + 1) / float(len(sorted_vals2))\n",
    "    cdf3 = np.arange(1, len(sorted_vals3) + 1) / float(len(sorted_vals3))\n",
    "    cdf4 = np.arange(1, len(sorted_vals4) + 1) / float(len(sorted_vals4))\n",
    "    cdf5 = np.arange(1, len(sorted_vals5) + 1) / float(len(sorted_vals5))\n",
    "    \n",
    "    # Plot the CDF\n",
    "    ax.plot(cdf,sorted_vals)\n",
    "    ax.plot(cdf1,sorted_vals1)\n",
    "    ax.plot(cdf2,sorted_vals2)\n",
    "#     ax.plot(cdf3,sorted_vals3)\n",
    "#     ax.plot(cdf4,sorted_vals4)\n",
    "#     ax.plot(cdf5,sorted_vals5)\n",
    "\n",
    "    ax.set_xlim(0.0, 1.0)\n",
    "    ax.set_ylim(-60, 300)\n",
    "    ax.legend(['Historical', 'NLC2-12222', 'NLC2-12233', 'NLC2-12344', 'NLC2-12345'],fontsize=20)\n",
    "    ax.set_title(f\"Price Duration Curve of Region {idx+1}\",fontsize=20)\n",
    "    ax.tick_params(axis='both', which='major', labelsize=20)\n",
    "    ax.set_ylabel(\"Real-time Price ($/MWh)\",fontsize=20)\n",
    "\n",
    "plt.tight_layout()\n",
    "plt.show()"
   ]
  },
  {
   "cell_type": "markdown",
   "id": "7840b388",
   "metadata": {},
   "source": [
    "### ES Peak Bids"
   ]
  },
  {
   "cell_type": "code",
   "execution_count": null,
   "id": "f090f0d0",
   "metadata": {},
   "outputs": [],
   "source": [
    "HistoryPrice = pd.read_csv('output/20220101-20221231 CAISO Real-time Price.csv')\n",
    "HistoryPrice = HistoryPrice.drop_duplicates(subset=['Date', 'hub'])\n",
    "Pivot_HistoryPrice = HistoryPrice.pivot(index='Date', columns='hub', values='price')\n",
    "\n",
    "case1 = 'Strategic/6Regions3+5/2022/UC25ED1_Strategic_true_ratio1.0_Seg1_BAW0_Fuel1.0_NLC2.0_Error0.25NegativeRenew_1.0-2.0-2.0-2.0-2.0'\n",
    "RTPrice1 = pd.read_csv('output/'+case1+'/EDprice.csv',header=None)*12\n",
    "case2 = 'Strategic/6Regions3+5/2022/UC25ED1_Strategic_true_ratio1.0_Seg1_BAW0_Fuel1.0_NLC2.0_Error0.25_ESPeakBidAdjustment1.5_ESPeakBid100.0NegativeRenew_1.0-2.0-2.0-2.0-2.0'\n",
    "RTPrice2 = pd.read_csv('output/'+case2+'/EDprice.csv',header=None)*12\n",
    "case3 = 'Strategic/6Regions3+5/2022/UC25ED1_Strategic_true_ratio1.0_Seg1_BAW0_Fuel1.0_NLC2.0_Error0.25_ESPeakBidAdjustment2.0_ESPeakBid100.0NegativeRenew_1.0-2.0-2.0-2.0-2.0'\n",
    "RTPrice3 = pd.read_csv('output/'+case3+'/EDprice.csv',header=None)*12\n",
    "case4 = 'Strategic/6Regions3+5/2022/UC25ED1_Strategic_true_ratio1.0_Seg1_BAW0_Fuel1.0_NLC2.0_Error0.25_ESPeakBidAdjustment1.5_ESPeakBid100.0NegativeRenew_1.0-2.0-2.0-2.0-2.0_2'\n",
    "RTPrice4 = pd.read_csv('output/'+case4+'/EDprice.csv',header=None)*12\n",
    "case5 = 'Strategic/6Regions3+5/2022/UC25ED1_Strategic_true_ratio1.0_Seg1_BAW0_Fuel1.0_NLC2.0_Error0.25_ESPeakBidAdjustment2.0_ESPeakBid100.0NegativeRenew_1.0-2.0-2.0-2.0-2.0_2'\n",
    "RTPrice5 = pd.read_csv('output/'+case5+'/EDprice.csv',header=None)*12\n",
    "\n",
    "# Create a 2x4 grid of subplots\n",
    "# fig, axs = plt.subplots(2, 4, figsize=(16, 9))\n",
    "fig, axs = plt.subplots(1, 2, figsize=(10, 6))\n",
    "\n",
    "# Loop through each column and each subplot\n",
    "for idx, (col, ax) in enumerate(zip([0,1], axs.flatten())):\n",
    "    sorted_vals = np.sort(Pivot_HistoryPrice.iloc[:,col].values)[::-1]\n",
    "    sorted_vals1 = np.sort(RTPrice1[col].values)[::-1]\n",
    "    sorted_vals2 = np.sort(RTPrice2[col].values)[::-1]\n",
    "    sorted_vals3 = np.sort(RTPrice3[col].values)[::-1]\n",
    "    sorted_vals4 = np.sort(RTPrice4[col].values)[::-1]\n",
    "    sorted_vals5 = np.sort(RTPrice5[col].values)[::-1]\n",
    "\n",
    "    \n",
    "    # Calculate the \"reverse\" cumulative distribution\n",
    "    cdf = np.arange(1, len(sorted_vals) + 1) / float(len(sorted_vals))\n",
    "    cdf1 = np.arange(1, len(sorted_vals1) + 1) / float(len(sorted_vals1))\n",
    "    cdf2 = np.arange(1, len(sorted_vals2) + 1) / float(len(sorted_vals2))\n",
    "    cdf3 = np.arange(1, len(sorted_vals3) + 1) / float(len(sorted_vals3))\n",
    "    cdf4 = np.arange(1, len(sorted_vals4) + 1) / float(len(sorted_vals4))\n",
    "    cdf5 = np.arange(1, len(sorted_vals5) + 1) / float(len(sorted_vals5))\n",
    "    \n",
    "    # Plot the CDF\n",
    "    ax.plot(cdf,sorted_vals)\n",
    "    ax.plot(cdf1,sorted_vals1)\n",
    "    ax.plot(cdf2,sorted_vals2)\n",
    "    ax.plot(cdf3,sorted_vals3)\n",
    "    ax.plot(cdf4,sorted_vals4)\n",
    "    ax.plot(cdf5,sorted_vals5)\n",
    "\n",
    "    ax.set_xlim(0.0, 1,0)\n",
    "    ax.set_ylim(-60, 300)\n",
    "    ax.legend(['Historical', 'NLC2-12222', '100-1.5', '100-2.0', 'NUC-1.5','NUC-2'],fontsize=20)\n",
    "    ax.set_title(f\"Price Duration Curve of Region {idx+1}\",fontsize=20)\n",
    "    ax.tick_params(axis='both', which='major', labelsize=20)\n",
    "    ax.set_ylabel(\"Real-time Price ($/MWh)\",fontsize=20)\n",
    "\n",
    "plt.tight_layout()\n",
    "plt.show()"
   ]
  },
  {
   "cell_type": "code",
   "execution_count": null,
   "id": "10f38704",
   "metadata": {},
   "outputs": [],
   "source": [
    "ThermalGen = pd.read_csv('2032 ADS PCM V2.4.1 Public Data/Processed Data/2022/ThermalGen_C.csv')"
   ]
  },
  {
   "cell_type": "code",
   "execution_count": null,
   "id": "ffa08da5",
   "metadata": {},
   "outputs": [],
   "source": [
    "ThermalGen.iloc[:,4:9]"
   ]
  },
  {
   "cell_type": "code",
   "execution_count": null,
   "id": "c7e9ae45",
   "metadata": {},
   "outputs": [],
   "source": [
    "ThermalGen.iloc[:,4:9] != 0"
   ]
  },
  {
   "cell_type": "code",
   "execution_count": null,
   "id": "5eb45646",
   "metadata": {},
   "outputs": [],
   "source": [
    "quantiles = np.linspace(0, 1, 99)  # 100 quantile points from 0 to 1\n",
    "inverse_cdf_values = (ThermalGen.iloc[:,23]/ThermalGen.iloc[:,3]).quantile(quantiles)\n",
    "\n",
    "plt.figure(figsize=(8, 6))\n",
    "plt.plot(quantiles, inverse_cdf_values, marker='o', linestyle='-', color='b')\n",
    "plt.title('Inverse CDF of Thermal Generator No-Load Cost ($/MW)')\n",
    "plt.xlabel('Quantiles')\n",
    "plt.ylabel('Values')\n",
    "plt.ylim([0, 500])\n",
    "plt.grid(True)\n",
    "plt.show()"
   ]
  },
  {
   "cell_type": "code",
   "execution_count": null,
   "id": "110dadc3",
   "metadata": {},
   "outputs": [],
   "source": [
    "ThermalGen.iloc[:,3]"
   ]
  },
  {
   "cell_type": "code",
   "execution_count": null,
   "id": "38d62647",
   "metadata": {},
   "outputs": [],
   "source": [
    "# Function to calculate and plot inverse CDF\n",
    "def plot_inverse_cdf(df):\n",
    "    plt.figure(figsize=(10, 6))\n",
    "    for column in df.columns:\n",
    "        # Drop NaN values for plotting\n",
    "        data = df[column].dropna()\n",
    "        percentiles = np.linspace(0, 100, len(data))\n",
    "        plt.plot(percentiles, data, label=column)\n",
    "\n",
    "    plt.title('Old Inverse CDF of Thermal Gen Segment MC')\n",
    "    plt.xlabel('Percentile')\n",
    "    plt.ylabel('Values')\n",
    "    plt.ylim([0, 50000])\n",
    "    plt.legend(title='Column Names')\n",
    "    plt.grid(True)\n",
    "    plt.show()\n",
    "\n",
    "data = ThermalGen.iloc[:,24:29]\n",
    "data_masked = data.where(ThermalGen.iloc[:,4:9].to_numpy() != 0)\n",
    "data_masked_sorted = data_masked.apply(lambda col: col.dropna().sort_values().reset_index(drop=True), axis=0)\n",
    "\n",
    "\n",
    "# Calling the plot function\n",
    "plot_inverse_cdf(data_masked_sorted)"
   ]
  },
  {
   "cell_type": "code",
   "execution_count": null,
   "id": "9cafb444",
   "metadata": {},
   "outputs": [],
   "source": [
    "data = ThermalGen.iloc[:,21:26]\n",
    "data_masked = data.where(ThermalGen.iloc[:,4:9].to_numpy() != 0)\n",
    "data_masked_sorted = data_masked.apply(lambda col: col.dropna().sort_values().reset_index(drop=True), axis=0)\n",
    "\n",
    "\n",
    "# Calling the plot function\n",
    "plot_inverse_cdf(data_masked_sorted)"
   ]
  },
  {
   "cell_type": "code",
   "execution_count": null,
   "id": "01ba47c4",
   "metadata": {},
   "outputs": [],
   "source": [
    "HistoryPrice = pd.read_csv('output/20220101-20221231 CAISO Real-time Price.csv')\n",
    "HistoryPrice = HistoryPrice.drop_duplicates(subset=['Date', 'hub'])\n",
    "Pivot_HistoryPrice = HistoryPrice.pivot(index='Date', columns='hub', values='price')\n",
    "\n",
    "case1 = 'Strategic/MarginalCost/UC25ED1_Strategic_true_ratio1.0_Seg1_BAW0_MC10.0'\n",
    "RTPrice1 = pd.read_csv('output/'+case1+'/EDprice.csv',header=None)*12\n",
    "case2 = 'Strategic/MarginalCost/UC25ED1_Strategic_true_ratio1.0_Seg1_BAW0_MC20.0'\n",
    "RTPrice2 = pd.read_csv('output/'+case2+'/EDprice.csv',header=None)*12\n",
    "case3 = 'Strategic/MarginalCost/UC25ED1_Strategic_true_ratio1.0_Seg1_BAW0_MC30.0'\n",
    "RTPrice3 = pd.read_csv('output/'+case3+'/EDprice.csv',header=None)*12\n",
    "case4 = 'Strategic/MarginalCost/UC25ED1_Strategic_true_ratio1.0_Seg1_BAW0_MC40.0'\n",
    "RTPrice4 = pd.read_csv('output/'+case4+'/EDprice.csv',header=None)*12\n",
    "case5 = 'Strategic/MarginalCost/UC25ED1_Strategic_true_ratio1.0_Seg1_BAW0_MC50.0'\n",
    "RTPrice5 = pd.read_csv('output/'+case5+'/EDprice.csv',header=None)*12\n",
    "\n",
    "# Create a 2x4 grid of subplots\n",
    "# fig, axs = plt.subplots(2, 4, figsize=(16, 9))\n",
    "fig, axs = plt.subplots(1, 2, figsize=(10, 6))\n",
    "\n",
    "# Loop through each column and each subplot\n",
    "for idx, (col, ax) in enumerate(zip([0,1], axs.flatten())):\n",
    "    sorted_vals = np.sort(Pivot_HistoryPrice.iloc[:,col].values)[::-1]\n",
    "    sorted_vals1 = np.sort(RTPrice1[col].values)[::-1]\n",
    "    sorted_vals2 = np.sort(RTPrice2[col].values)[::-1]\n",
    "    sorted_vals3 = np.sort(RTPrice3[col].values)[::-1]\n",
    "    sorted_vals4 = np.sort(RTPrice4[col].values)[::-1]\n",
    "    sorted_vals5 = np.sort(RTPrice5[col].values)[::-1]\n",
    "\n",
    "    \n",
    "    # Calculate the \"reverse\" cumulative distribution\n",
    "    cdf = np.arange(1, len(sorted_vals) + 1) / float(len(sorted_vals))\n",
    "    cdf1 = np.arange(1, len(sorted_vals1) + 1) / float(len(sorted_vals1))\n",
    "    cdf2 = np.arange(1, len(sorted_vals2) + 1) / float(len(sorted_vals2))\n",
    "    cdf3 = np.arange(1, len(sorted_vals3) + 1) / float(len(sorted_vals3))\n",
    "    cdf4 = np.arange(1, len(sorted_vals4) + 1) / float(len(sorted_vals4))\n",
    "    cdf5 = np.arange(1, len(sorted_vals5) + 1) / float(len(sorted_vals5))\n",
    "    \n",
    "    # Plot the CDF\n",
    "    ax.plot(cdf,sorted_vals)\n",
    "    ax.plot(cdf1,sorted_vals1)\n",
    "    ax.plot(cdf2,sorted_vals2)\n",
    "    ax.plot(cdf3,sorted_vals3)\n",
    "    ax.plot(cdf4,sorted_vals4)\n",
    "    ax.plot(cdf5,sorted_vals5)\n",
    "\n",
    "    ax.set_xlim(0.7, 1.01)\n",
    "    ax.set_ylim(-50, 200)\n",
    "    ax.legend(['Historical','MC10', 'MC20', 'MC30', 'MC40', 'MC50'],fontsize=20)\n",
    "    ax.set_title(f\"Low Price CDF of Region {idx+1}\",fontsize=20)\n",
    "    ax.tick_params(axis='both', which='major', labelsize=20)\n",
    "    ax.set_ylabel(\"Real-time Price ($/MWh)\",fontsize=20)\n",
    "\n",
    "plt.tight_layout()\n",
    "plt.show()"
   ]
  },
  {
   "cell_type": "code",
   "execution_count": null,
   "id": "81ec19f2",
   "metadata": {},
   "outputs": [],
   "source": [
    "case1 = 'Strategic/6Regions3+5/2022/UC25ED1_Strategic_true_ratio0.0_Seg1_BAW0_Fuel1.0_NLC2.0_Error0.25NegativeRenew_1.0-2.0-3.0-3.0-3.0'\n",
    "RTPrice1 = pd.read_csv('output/'+case1+'/EDprice.csv',header=None)*12\n",
    "UCPrice1 = pd.read_csv('output/'+case1+'/UCprice.csv',header=None)\n",
    "# Repeat each element in the second dataframe's second column 12 times\n",
    "UCPrice1_repeated = UCPrice1[1].repeat(12).reset_index(drop=True)\n",
    "\n",
    "# Plotting the second columns of both dataframes\n",
    "plt.figure(figsize=(14, 7))\n",
    "\n",
    "plt.plot(RTPrice1[1], label='RT Price')\n",
    "plt.plot(UCPrice1_repeated, label='DA Price', color='orange')\n",
    "plt.xlim([0,2016])\n",
    "plt.ylabel('$/MW')\n",
    "\n",
    "plt.title('Region2 DA and RT price')\n",
    "plt.legend()\n",
    "plt.show()"
   ]
  },
  {
   "cell_type": "code",
   "execution_count": null,
   "id": "487e67a5",
   "metadata": {},
   "outputs": [],
   "source": [
    "HistoryPrice = pd.read_csv('output/20220101-20221231 CAISO Real-time Price.csv')\n",
    "HistoryPrice = HistoryPrice.drop_duplicates(subset=['Date', 'hub'])\n",
    "Pivot_HistoryPrice = HistoryPrice.pivot(index='Date', columns='hub', values='price')\n",
    "\n",
    "case1 = 'Strategic/UC25ED1_Strategic_true_Seg1_Load1.0_Fuel1.2_Error0.25_25MW_MIP0.1_NSDAB'\n",
    "RTPrice1 = pd.read_csv('output/'+case1+'/EDprice.csv',header=None)*12\n",
    "case5 = 'Strategic/UC25ED1_Strategic_true_Seg5_Load1.0_Fuel1.2_Error0.25_25MW_MIP0.1_NSDAB'\n",
    "RTPrice5 = pd.read_csv('output/'+case5+'/EDprice.csv',header=None)*12\n",
    "case1mar = 'Strategic/UC25ED1_Strategic_true_Seg1_Load1.0_Fuel1.2_Error0.25_Margin_MIP0.1_NSDAB'\n",
    "RTPrice1mar = pd.read_csv('output/'+case1+'/EDprice.csv',header=None)*12\n",
    "case5mar = 'Strategic/UC25ED1_Strategic_true_Seg5_Load1.0_Fuel1.2_Error0.25_Margin_MIP0.1_NSDAB'\n",
    "RTPrice5mar = pd.read_csv('output/'+case5+'/EDprice.csv',header=None)*12\n",
    "case3 = 'DecUpdate/UC25ED1_Strategic_false_Seg1_Load1.0_Fuel1.2_Error0.25_5GWBES_1yr_ESBid_Emergen'\n",
    "RTPrice3 = pd.read_csv('output/'+case3+'/EDprice.csv',header=None)*12\n",
    "\n",
    "# Create a 2x4 grid of subplots\n",
    "# fig, axs = plt.subplots(2, 4, figsize=(16, 9))\n",
    "fig, axs = plt.subplots(1, 2, figsize=(10, 6))\n",
    "\n",
    "# Loop through each column and each subplot\n",
    "for idx, (col, ax) in enumerate(zip([0,1], axs.flatten())):\n",
    "    sorted_vals = np.sort(Pivot_HistoryPrice.iloc[:,col].values)[::-1]\n",
    "    sorted_vals1 = np.sort(RTPrice1[col].values)[::-1]\n",
    "    sorted_vals2 = np.sort(RTPrice5[col].values)[::-1]\n",
    "    sorted_vals1mar = np.sort(RTPrice1mar[col].values)[::-1]\n",
    "    sorted_vals2mar = np.sort(RTPrice5mar[col].values)[::-1]\n",
    "    sorted_vals3 = np.sort(RTPrice3[col].values)[::-1]\n",
    "    \n",
    "    # Calculate the \"reverse\" cumulative distribution\n",
    "    cdf = np.arange(1, len(sorted_vals) + 1) / float(len(sorted_vals))\n",
    "    cdf1 = np.arange(1, len(sorted_vals1) + 1) / float(len(sorted_vals1))\n",
    "    cdf2 = np.arange(1, len(sorted_vals2) + 1) / float(len(sorted_vals2))\n",
    "    cdf1mar = np.arange(1, len(sorted_vals1mar) + 1) / float(len(sorted_vals1mar))\n",
    "    cdf2mar = np.arange(1, len(sorted_vals2mar) + 1) / float(len(sorted_vals2mar))\n",
    "    cdf3 = np.arange(1, len(sorted_vals3) + 1) / float(len(sorted_vals3))\n",
    "\n",
    "    \n",
    "    # Plot the CDF\n",
    "    ax.plot(cdf,sorted_vals)\n",
    "    ax.plot(cdf1,sorted_vals1)\n",
    "    ax.plot(cdf2,sorted_vals2)\n",
    "#     ax.plot(cdf1mar,sorted_vals1mar, linestyle='--')\n",
    "#     ax.plot(cdf2mar,sorted_vals2mar, linestyle='--')\n",
    "    ax.plot(cdf3,sorted_vals3)\n",
    "\n",
    "    ax.set_xlim(0.7, 0.9)\n",
    "    ax.set_ylim(10, 60)\n",
    "    ax.legend(['Historical', 'Seg1', 'Seg5', 'Base'],fontsize=20)\n",
    "    ax.set_title(f\"Low Price CDF of Region {idx+1}\",fontsize=20)\n",
    "    ax.tick_params(axis='both', which='major', labelsize=20)\n",
    "    ax.set_ylabel(\"Real-time Price ($/MWh)\",fontsize=20)\n",
    "\n",
    "plt.tight_layout()\n",
    "plt.show()"
   ]
  },
  {
   "cell_type": "code",
   "execution_count": null,
   "id": "53824e5d",
   "metadata": {},
   "outputs": [],
   "source": [
    "sorted_vals_S1 = np.sort(S1)[::-1]\n",
    "sorted_vals_S5 = np.sort(S5)[::-1]\n",
    "plt.plot(range(len(S1)), sorted_vals_S1, label='1Seg', color='blue', linewidth=2)\n",
    "plt.plot(range(len(S5)), sorted_vals_S5, label='5Seg', color='red', linewidth=2)\n",
    "plt.title('Power CDF')\n",
    "plt.legend()"
   ]
  },
  {
   "cell_type": "code",
   "execution_count": null,
   "id": "e3545662",
   "metadata": {},
   "outputs": [],
   "source": [
    "ESOC1 = pd.read_csv('output/Strategic/UC25ED1_Strategic_true_Seg1_Load1.0_Fuel1.2_Error0.25_test/EDSOCini.csv',header=None)\n",
    "ESOC5 = pd.read_csv('output/Strategic/UC25ED1_Strategic_true_Seg5_Load1.0_Fuel1.2_Error0.25_test/EDSOCini.csv',header=None)\n",
    "SOC1 = ESOC1[45]\n",
    "SOC5 = ESOC5[45]\n",
    "\n",
    "\n",
    "sorted_vals_SOC1 = np.sort(SOC1)[::-1]\n",
    "sorted_vals_SOC5 = np.sort(SOC5)[::-1]\n",
    "plt.plot(range(len(S1)), sorted_vals_SOC1, label='1Seg', color='blue', linewidth=2)\n",
    "plt.plot(range(len(S5)), sorted_vals_SOC5, label='5Seg', color='red', linewidth=2)\n",
    "plt.title('SOC CDF')\n",
    "plt.legend()"
   ]
  },
  {
   "cell_type": "code",
   "execution_count": null,
   "id": "80f2bb7d",
   "metadata": {},
   "outputs": [],
   "source": [
    "# ESOC = pd.read_csv('output/Strategic/UC25ED1_Strategic_true_Seg5_Load1.0_Fuel1.2_Error0.25_test/EDSOCini.csv',header=None)\n",
    "# plt.plot(range(len(ESOC)), ESOC[45], label='Series 1', color='blue', linewidth=2)\n"
   ]
  }
 ],
 "metadata": {
  "kernelspec": {
   "display_name": "Python 3 (ipykernel)",
   "language": "python",
   "name": "python3"
  },
  "language_info": {
   "codemirror_mode": {
    "name": "ipython",
    "version": 3
   },
   "file_extension": ".py",
   "mimetype": "text/x-python",
   "name": "python",
   "nbconvert_exporter": "python",
   "pygments_lexer": "ipython3",
   "version": "3.11.4"
  }
 },
 "nbformat": 4,
 "nbformat_minor": 5
}
