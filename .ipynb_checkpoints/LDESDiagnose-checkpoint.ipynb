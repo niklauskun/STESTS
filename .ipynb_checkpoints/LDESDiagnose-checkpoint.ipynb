{
 "cells": [
  {
   "cell_type": "code",
   "execution_count": 1,
   "id": "51b9ea43",
   "metadata": {},
   "outputs": [],
   "source": [
    "import pandas as pd\n",
    "import numpy as np\n",
    "import matplotlib.pyplot as plt"
   ]
  },
  {
   "cell_type": "code",
   "execution_count": null,
   "id": "0e16cfa6",
   "metadata": {},
   "outputs": [],
   "source": [
    "Ts = 1/12\n",
    "c = 20\n",
    "eta = 0.9\n",
    "\n",
    "case_template = 'Strategic/Cases/LDES/ED1_Strategic_true_FORB_true_ratio1.0_Seg1_BAW0_BSESCbid0.5_LDESRatio_{}-{}_LD'\n",
    "\n",
    "\n",
    "ratios = [0.5, 0.6, 0.7, 0.8, 0.9, 1.0]"
   ]
  }
 ],
 "metadata": {
  "kernelspec": {
   "display_name": "Python 3 (ipykernel)",
   "language": "python",
   "name": "python3"
  },
  "language_info": {
   "codemirror_mode": {
    "name": "ipython",
    "version": 3
   },
   "file_extension": ".py",
   "mimetype": "text/x-python",
   "name": "python",
   "nbconvert_exporter": "python",
   "pygments_lexer": "ipython3",
   "version": "3.11.4"
  }
 },
 "nbformat": 4,
 "nbformat_minor": 5
}
