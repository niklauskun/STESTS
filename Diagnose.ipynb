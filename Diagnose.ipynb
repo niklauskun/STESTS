{
 "cells": [
  {
   "cell_type": "code",
   "execution_count": 1,
   "id": "32711b55",
   "metadata": {},
   "outputs": [],
   "source": [
    "import pandas as pd\n",
    "import numpy as np\n",
    "import matplotlib.pyplot as plt\n"
   ]
  },
  {
   "cell_type": "markdown",
   "id": "6fe38fb3",
   "metadata": {},
   "source": [
    "### Storage Parameters"
   ]
  },
  {
   "cell_type": "code",
   "execution_count": 12,
   "id": "082e37e0",
   "metadata": {},
   "outputs": [],
   "source": [
    "Ts = 1/12\n",
    "c = 20\n",
    "eta = 0.9\n",
    "### For Intelligent Storage Ratio\n",
    "case_template = 'Strategic/2022/UC25ED1_Strategic_true_ratio{}_Seg1_BAW0_MC20.0_1test2'\n",
    "ratios = [round(i * 0.1, 1) for i in range(11)]\n",
    "\n",
    "### For random bidding model seletction\n",
    "# case_template = 'Strategic/EDH/UC25ED{}_Strategic_true_ratio1.0_Seg1_BAW0_MC20.0_1'\n",
    "# ratios = [1, 6, 13]\n",
    "\n",
    "### For Future Cases\n",
    "# case_template = 'Strategic/{}/UC25ED1_Strategic_true_ratio1.0_Seg1_BAW0_MC20.0_1'\n",
    "# ratios = [2022]\n",
    "\n",
    "# case = 'Strategic/MC20/Strategic/UC25ED1_Strategic_true_ratio0.3_Seg1_BAW0_MC20.0'\n",
    "# case = 'Strategic/UC25ED1_Strategic_true_Seg1_Load1.0_Fuel1.2_Error0.25_ratio1.0_MIP0.1_DARTDP_Hete'\n",
    "# case = 'Strategic/BidAhead/UC25ED1_Strategic_true_Seg1_Load1.0_Fuel1.2_Error0.25_ratio1.0_MIP0.1_DARTDP_BAW36'"
   ]
  },
  {
   "cell_type": "markdown",
   "id": "52c36b38",
   "metadata": {},
   "source": [
    "### Price Stats"
   ]
  },
  {
   "cell_type": "code",
   "execution_count": 13,
   "id": "d500f916",
   "metadata": {},
   "outputs": [],
   "source": [
    "# Initialize lists to hold DataFrames\n",
    "mean_prices_dfs = []\n",
    "std_prices_dfs = []"
   ]
  },
  {
   "cell_type": "code",
   "execution_count": 14,
   "id": "743caf0b",
   "metadata": {},
   "outputs": [],
   "source": [
    "# Loop over ratios from 0.0 to 1.0 (assuming increment by 0.1)\n",
    "for ratio in ratios:\n",
    "    case = case_template.format(ratio)\n",
    "    try:\n",
    "        # Try to read the CSV file for the current case\n",
    "        price = pd.read_csv('output/'+case+'/EDprice.csv', header=None)\n",
    "    except FileNotFoundError:\n",
    "        print(f\"File for case {case} not found.\")\n",
    "        continue\n",
    "\n",
    "    # Calculate stats and transpose\n",
    "    pricestats = pd.concat([price.mean()*12, (price*12).std()], axis=1).T\n",
    "\n",
    "    # Now, instead of appending Series objects, you create DataFrame slices for each and append them\n",
    "    mean_prices_dfs.append(pricestats.iloc[[0]])\n",
    "    std_prices_dfs.append(pricestats.iloc[[1]])"
   ]
  },
  {
   "cell_type": "code",
   "execution_count": 15,
   "id": "05ee5aac",
   "metadata": {},
   "outputs": [],
   "source": [
    "# Convert lists of series to DataFrames\n",
    "mean_prices_df = pd.concat(mean_prices_dfs).reset_index(drop=True)\n",
    "std_prices_df = pd.concat(std_prices_dfs).reset_index(drop=True)\n",
    "mean_prices_df.index = ratios\n",
    "std_prices_df.index = ratios"
   ]
  },
  {
   "cell_type": "code",
   "execution_count": 16,
   "id": "53494bbb",
   "metadata": {},
   "outputs": [
    {
     "data": {
      "text/html": [
       "<div>\n",
       "<style scoped>\n",
       "    .dataframe tbody tr th:only-of-type {\n",
       "        vertical-align: middle;\n",
       "    }\n",
       "\n",
       "    .dataframe tbody tr th {\n",
       "        vertical-align: top;\n",
       "    }\n",
       "\n",
       "    .dataframe thead th {\n",
       "        text-align: right;\n",
       "    }\n",
       "</style>\n",
       "<table border=\"1\" class=\"dataframe\">\n",
       "  <thead>\n",
       "    <tr style=\"text-align: right;\">\n",
       "      <th></th>\n",
       "      <th>0</th>\n",
       "      <th>1</th>\n",
       "      <th>2</th>\n",
       "      <th>3</th>\n",
       "      <th>4</th>\n",
       "      <th>5</th>\n",
       "    </tr>\n",
       "  </thead>\n",
       "  <tbody>\n",
       "    <tr>\n",
       "      <th>0.0</th>\n",
       "      <td>58.949697</td>\n",
       "      <td>82.533626</td>\n",
       "      <td>54.909117</td>\n",
       "      <td>29.778606</td>\n",
       "      <td>53.333267</td>\n",
       "      <td>57.425890</td>\n",
       "    </tr>\n",
       "    <tr>\n",
       "      <th>0.1</th>\n",
       "      <td>58.462341</td>\n",
       "      <td>81.191695</td>\n",
       "      <td>53.907070</td>\n",
       "      <td>29.495140</td>\n",
       "      <td>53.049425</td>\n",
       "      <td>56.377746</td>\n",
       "    </tr>\n",
       "    <tr>\n",
       "      <th>0.2</th>\n",
       "      <td>58.015346</td>\n",
       "      <td>79.551069</td>\n",
       "      <td>52.853378</td>\n",
       "      <td>29.240478</td>\n",
       "      <td>52.886689</td>\n",
       "      <td>55.527435</td>\n",
       "    </tr>\n",
       "    <tr>\n",
       "      <th>0.3</th>\n",
       "      <td>57.662172</td>\n",
       "      <td>78.167008</td>\n",
       "      <td>51.756263</td>\n",
       "      <td>29.312734</td>\n",
       "      <td>52.779017</td>\n",
       "      <td>54.729508</td>\n",
       "    </tr>\n",
       "    <tr>\n",
       "      <th>0.4</th>\n",
       "      <td>57.283574</td>\n",
       "      <td>76.766305</td>\n",
       "      <td>50.866051</td>\n",
       "      <td>29.126361</td>\n",
       "      <td>52.643830</td>\n",
       "      <td>53.820200</td>\n",
       "    </tr>\n",
       "    <tr>\n",
       "      <th>0.5</th>\n",
       "      <td>56.926697</td>\n",
       "      <td>75.371094</td>\n",
       "      <td>49.764570</td>\n",
       "      <td>28.835187</td>\n",
       "      <td>52.534228</td>\n",
       "      <td>52.911988</td>\n",
       "    </tr>\n",
       "    <tr>\n",
       "      <th>0.6</th>\n",
       "      <td>56.659543</td>\n",
       "      <td>74.388046</td>\n",
       "      <td>48.368892</td>\n",
       "      <td>28.762788</td>\n",
       "      <td>52.437562</td>\n",
       "      <td>51.691363</td>\n",
       "    </tr>\n",
       "    <tr>\n",
       "      <th>0.7</th>\n",
       "      <td>56.130600</td>\n",
       "      <td>73.251633</td>\n",
       "      <td>47.566674</td>\n",
       "      <td>28.512042</td>\n",
       "      <td>52.053286</td>\n",
       "      <td>50.939420</td>\n",
       "    </tr>\n",
       "    <tr>\n",
       "      <th>0.8</th>\n",
       "      <td>55.943308</td>\n",
       "      <td>72.707293</td>\n",
       "      <td>46.822387</td>\n",
       "      <td>28.398325</td>\n",
       "      <td>51.951024</td>\n",
       "      <td>50.271586</td>\n",
       "    </tr>\n",
       "    <tr>\n",
       "      <th>0.9</th>\n",
       "      <td>55.539116</td>\n",
       "      <td>72.187166</td>\n",
       "      <td>45.993104</td>\n",
       "      <td>28.242626</td>\n",
       "      <td>51.574441</td>\n",
       "      <td>49.433842</td>\n",
       "    </tr>\n",
       "    <tr>\n",
       "      <th>1.0</th>\n",
       "      <td>55.109917</td>\n",
       "      <td>70.070947</td>\n",
       "      <td>45.955568</td>\n",
       "      <td>28.077875</td>\n",
       "      <td>51.547001</td>\n",
       "      <td>49.145958</td>\n",
       "    </tr>\n",
       "  </tbody>\n",
       "</table>\n",
       "</div>"
      ],
      "text/plain": [
       "             0          1          2          3          4          5\n",
       "0.0  58.949697  82.533626  54.909117  29.778606  53.333267  57.425890\n",
       "0.1  58.462341  81.191695  53.907070  29.495140  53.049425  56.377746\n",
       "0.2  58.015346  79.551069  52.853378  29.240478  52.886689  55.527435\n",
       "0.3  57.662172  78.167008  51.756263  29.312734  52.779017  54.729508\n",
       "0.4  57.283574  76.766305  50.866051  29.126361  52.643830  53.820200\n",
       "0.5  56.926697  75.371094  49.764570  28.835187  52.534228  52.911988\n",
       "0.6  56.659543  74.388046  48.368892  28.762788  52.437562  51.691363\n",
       "0.7  56.130600  73.251633  47.566674  28.512042  52.053286  50.939420\n",
       "0.8  55.943308  72.707293  46.822387  28.398325  51.951024  50.271586\n",
       "0.9  55.539116  72.187166  45.993104  28.242626  51.574441  49.433842\n",
       "1.0  55.109917  70.070947  45.955568  28.077875  51.547001  49.145958"
      ]
     },
     "execution_count": 16,
     "metadata": {},
     "output_type": "execute_result"
    }
   ],
   "source": [
    "mean_prices_df"
   ]
  },
  {
   "cell_type": "code",
   "execution_count": 17,
   "id": "ff419a49",
   "metadata": {},
   "outputs": [
    {
     "data": {
      "text/html": [
       "<div>\n",
       "<style scoped>\n",
       "    .dataframe tbody tr th:only-of-type {\n",
       "        vertical-align: middle;\n",
       "    }\n",
       "\n",
       "    .dataframe tbody tr th {\n",
       "        vertical-align: top;\n",
       "    }\n",
       "\n",
       "    .dataframe thead th {\n",
       "        text-align: right;\n",
       "    }\n",
       "</style>\n",
       "<table border=\"1\" class=\"dataframe\">\n",
       "  <thead>\n",
       "    <tr style=\"text-align: right;\">\n",
       "      <th></th>\n",
       "      <th>0</th>\n",
       "      <th>1</th>\n",
       "      <th>2</th>\n",
       "      <th>3</th>\n",
       "      <th>4</th>\n",
       "      <th>5</th>\n",
       "    </tr>\n",
       "  </thead>\n",
       "  <tbody>\n",
       "    <tr>\n",
       "      <th>0.0</th>\n",
       "      <td>37.312899</td>\n",
       "      <td>101.998131</td>\n",
       "      <td>37.426478</td>\n",
       "      <td>39.080269</td>\n",
       "      <td>31.270415</td>\n",
       "      <td>40.418073</td>\n",
       "    </tr>\n",
       "    <tr>\n",
       "      <th>0.1</th>\n",
       "      <td>35.683350</td>\n",
       "      <td>87.642721</td>\n",
       "      <td>36.115717</td>\n",
       "      <td>38.625767</td>\n",
       "      <td>31.232142</td>\n",
       "      <td>38.195115</td>\n",
       "    </tr>\n",
       "    <tr>\n",
       "      <th>0.2</th>\n",
       "      <td>34.649236</td>\n",
       "      <td>79.149500</td>\n",
       "      <td>35.120006</td>\n",
       "      <td>38.218173</td>\n",
       "      <td>31.044430</td>\n",
       "      <td>36.698961</td>\n",
       "    </tr>\n",
       "    <tr>\n",
       "      <th>0.3</th>\n",
       "      <td>33.630750</td>\n",
       "      <td>67.449741</td>\n",
       "      <td>34.583466</td>\n",
       "      <td>37.964315</td>\n",
       "      <td>31.001464</td>\n",
       "      <td>35.679055</td>\n",
       "    </tr>\n",
       "    <tr>\n",
       "      <th>0.4</th>\n",
       "      <td>32.799510</td>\n",
       "      <td>57.099643</td>\n",
       "      <td>33.576734</td>\n",
       "      <td>37.444301</td>\n",
       "      <td>30.950117</td>\n",
       "      <td>34.114952</td>\n",
       "    </tr>\n",
       "    <tr>\n",
       "      <th>0.5</th>\n",
       "      <td>32.286718</td>\n",
       "      <td>53.055780</td>\n",
       "      <td>32.599439</td>\n",
       "      <td>37.072278</td>\n",
       "      <td>30.754119</td>\n",
       "      <td>33.031857</td>\n",
       "    </tr>\n",
       "    <tr>\n",
       "      <th>0.6</th>\n",
       "      <td>32.117554</td>\n",
       "      <td>51.206586</td>\n",
       "      <td>31.053064</td>\n",
       "      <td>36.925709</td>\n",
       "      <td>30.763025</td>\n",
       "      <td>31.625230</td>\n",
       "    </tr>\n",
       "    <tr>\n",
       "      <th>0.7</th>\n",
       "      <td>31.619107</td>\n",
       "      <td>49.783646</td>\n",
       "      <td>29.933602</td>\n",
       "      <td>36.464671</td>\n",
       "      <td>30.395668</td>\n",
       "      <td>30.601839</td>\n",
       "    </tr>\n",
       "    <tr>\n",
       "      <th>0.8</th>\n",
       "      <td>31.444492</td>\n",
       "      <td>49.599925</td>\n",
       "      <td>28.993291</td>\n",
       "      <td>36.322845</td>\n",
       "      <td>30.250052</td>\n",
       "      <td>29.747706</td>\n",
       "    </tr>\n",
       "    <tr>\n",
       "      <th>0.9</th>\n",
       "      <td>31.120627</td>\n",
       "      <td>50.158833</td>\n",
       "      <td>28.399453</td>\n",
       "      <td>36.032819</td>\n",
       "      <td>29.858440</td>\n",
       "      <td>29.138680</td>\n",
       "    </tr>\n",
       "    <tr>\n",
       "      <th>1.0</th>\n",
       "      <td>30.970576</td>\n",
       "      <td>47.456208</td>\n",
       "      <td>28.367560</td>\n",
       "      <td>35.986270</td>\n",
       "      <td>29.726737</td>\n",
       "      <td>28.997036</td>\n",
       "    </tr>\n",
       "  </tbody>\n",
       "</table>\n",
       "</div>"
      ],
      "text/plain": [
       "             0           1          2          3          4          5\n",
       "0.0  37.312899  101.998131  37.426478  39.080269  31.270415  40.418073\n",
       "0.1  35.683350   87.642721  36.115717  38.625767  31.232142  38.195115\n",
       "0.2  34.649236   79.149500  35.120006  38.218173  31.044430  36.698961\n",
       "0.3  33.630750   67.449741  34.583466  37.964315  31.001464  35.679055\n",
       "0.4  32.799510   57.099643  33.576734  37.444301  30.950117  34.114952\n",
       "0.5  32.286718   53.055780  32.599439  37.072278  30.754119  33.031857\n",
       "0.6  32.117554   51.206586  31.053064  36.925709  30.763025  31.625230\n",
       "0.7  31.619107   49.783646  29.933602  36.464671  30.395668  30.601839\n",
       "0.8  31.444492   49.599925  28.993291  36.322845  30.250052  29.747706\n",
       "0.9  31.120627   50.158833  28.399453  36.032819  29.858440  29.138680\n",
       "1.0  30.970576   47.456208  28.367560  35.986270  29.726737  28.997036"
      ]
     },
     "execution_count": 17,
     "metadata": {},
     "output_type": "execute_result"
    }
   ],
   "source": [
    "std_prices_df"
   ]
  },
  {
   "cell_type": "code",
   "execution_count": 18,
   "id": "3f2f7e2f",
   "metadata": {},
   "outputs": [
    {
     "data": {
      "image/png": "[encoded data removed]",
      "text/plain": [
       "<Figure size 800x600 with 1 Axes>"
      ]
     },
     "metadata": {},
     "output_type": "display_data"
    }
   ],
   "source": [
    "# Selecting the columns for Regions 1, 2, and 3\n",
    "regions = [0, 1, 2]\n",
    "mean_prices = mean_prices_df.iloc[:, regions]\n",
    "std_prices = std_prices_df.iloc[:, regions]\n",
    "\n",
    "# Preparing ISR values from the index\n",
    "isr_values = mean_prices.index\n",
    "\n",
    "# New colors and error bar theme\n",
    "new_colors = ['#0072B2', '#D55E00', '#CC79A7']  # Updated color palette\n",
    "new_labels = ['Region 1', 'Region 2', 'Region 3']\n",
    "line_styles = ['-', '--', '-.']  # Different line styles for visual distinction\n",
    "marker_styles = ['o', 's', 'd']  # Different marker styles for each region\n",
    "plt.figure(figsize=(8, 6))\n",
    "\n",
    "\n",
    "for region, color, label, line_style, marker_style in zip(regions, new_colors, new_labels, line_styles, marker_styles):\n",
    "    plt.errorbar(isr_values, mean_prices.iloc[:, region], yerr=std_prices.iloc[:, region], \n",
    "                 label=label, color=color, fmt=line_style + marker_style, capsize=5, elinewidth=2, capthick=2, markeredgewidth=2)\n",
    "\n",
    "plt.title('CAISO Real-Time Price Variability by Region and ISR')\n",
    "plt.xlabel('Intelligent Storage Ratio (ISR)')\n",
    "plt.ylabel('Mean Price ($/MWh)')\n",
    "plt.ylim([-20,190])\n",
    "plt.legend()\n",
    "plt.grid(True, which='both', linestyle='--', linewidth=0.5)\n",
    "plt.tight_layout()\n",
    "\n",
    "\n",
    "# Save the plot to a file suitable for inclusion in your paper\n",
    "# plt.savefig('/mnt/data/caiso_price_variability.png', dpi=300)\n",
    "\n",
    "# Show the plot\n",
    "plt.show()\n"
   ]
  },
  {
   "cell_type": "markdown",
   "id": "953ddbe8",
   "metadata": {},
   "source": [
    "### Total System Cost"
   ]
  },
  {
   "cell_type": "code",
   "execution_count": 19,
   "id": "745363d2",
   "metadata": {},
   "outputs": [
    {
     "data": {
      "text/html": [
       "<div>\n",
       "<style scoped>\n",
       "    .dataframe tbody tr th:only-of-type {\n",
       "        vertical-align: middle;\n",
       "    }\n",
       "\n",
       "    .dataframe tbody tr th {\n",
       "        vertical-align: top;\n",
       "    }\n",
       "\n",
       "    .dataframe thead th {\n",
       "        text-align: right;\n",
       "    }\n",
       "</style>\n",
       "<table border=\"1\" class=\"dataframe\">\n",
       "  <thead>\n",
       "    <tr style=\"text-align: right;\">\n",
       "      <th></th>\n",
       "      <th>Total System Cost</th>\n",
       "    </tr>\n",
       "  </thead>\n",
       "  <tbody>\n",
       "    <tr>\n",
       "      <th>0.0</th>\n",
       "      <td>1.933402</td>\n",
       "    </tr>\n",
       "    <tr>\n",
       "      <th>0.1</th>\n",
       "      <td>1.933147</td>\n",
       "    </tr>\n",
       "    <tr>\n",
       "      <th>0.2</th>\n",
       "      <td>1.932750</td>\n",
       "    </tr>\n",
       "    <tr>\n",
       "      <th>0.3</th>\n",
       "      <td>1.932182</td>\n",
       "    </tr>\n",
       "    <tr>\n",
       "      <th>0.4</th>\n",
       "      <td>1.931798</td>\n",
       "    </tr>\n",
       "    <tr>\n",
       "      <th>0.5</th>\n",
       "      <td>1.931249</td>\n",
       "    </tr>\n",
       "    <tr>\n",
       "      <th>0.6</th>\n",
       "      <td>1.930141</td>\n",
       "    </tr>\n",
       "    <tr>\n",
       "      <th>0.7</th>\n",
       "      <td>1.929267</td>\n",
       "    </tr>\n",
       "    <tr>\n",
       "      <th>0.8</th>\n",
       "      <td>1.928783</td>\n",
       "    </tr>\n",
       "    <tr>\n",
       "      <th>0.9</th>\n",
       "      <td>1.928254</td>\n",
       "    </tr>\n",
       "    <tr>\n",
       "      <th>1.0</th>\n",
       "      <td>1.928626</td>\n",
       "    </tr>\n",
       "  </tbody>\n",
       "</table>\n",
       "</div>"
      ],
      "text/plain": [
       "     Total System Cost\n",
       "0.0           1.933402\n",
       "0.1           1.933147\n",
       "0.2           1.932750\n",
       "0.3           1.932182\n",
       "0.4           1.931798\n",
       "0.5           1.931249\n",
       "0.6           1.930141\n",
       "0.7           1.929267\n",
       "0.8           1.928783\n",
       "0.9           1.928254\n",
       "1.0           1.928626"
      ]
     },
     "execution_count": 19,
     "metadata": {},
     "output_type": "execute_result"
    }
   ],
   "source": [
    "total_system_costs = []\n",
    "# Loop over ratios from 0.0 to 1.0 (assuming increment by 0.1)\n",
    "for ratio in ratios:\n",
    "    case = case_template.format(ratio, ratio)\n",
    "    try:\n",
    "        # Read the CSV file for the current case\n",
    "        cost = pd.read_csv(f'output/{case}/EDcost.csv', header=None)\n",
    "    except FileNotFoundError:\n",
    "        print(f\"File for case {case} not found.\")\n",
    "        # Optionally, append a NaN or some indicator of missing data\n",
    "        total_system_costs.append(float('nan'))\n",
    "        continue\n",
    "\n",
    "    # Sum the total cost and normalize\n",
    "    total_cost_normalized = cost.sum().values[0] / (10**10)\n",
    "    total_system_costs.append(total_cost_normalized)\n",
    "\n",
    "# Convert the list to a DataFrame\n",
    "total_system_costs_df = pd.DataFrame(total_system_costs, columns=['Total System Cost'])\n",
    "\n",
    "# Adjust the index to represent ratios directly, if desired\n",
    "# total_system_costs_df.index = [str(round(i * 0.1, 1)) for i in range(11)]\n",
    "total_system_costs_df.index = ratios\n",
    "\n",
    "\n",
    "total_system_costs_df"
   ]
  },
  {
   "cell_type": "code",
   "execution_count": 20,
   "id": "4ddaab4c",
   "metadata": {},
   "outputs": [
    {
     "data": {
      "image/png": "[encoded data removed]",
      "text/plain": [
       "<Figure size 800x600 with 2 Axes>"
      ]
     },
     "metadata": {},
     "output_type": "display_data"
    }
   ],
   "source": [
    "# Calculate percentage reduction compared to 0.0 ISR\n",
    "initial_cost = total_system_costs_df['Total System Cost'].iloc[0]\n",
    "percentage_reduction = (total_system_costs_df['Total System Cost'] - initial_cost) / initial_cost * 100\n",
    "\n",
    "# Plotting\n",
    "fig, ax1 = plt.subplots(figsize=(8, 6))\n",
    "\n",
    "color = '#0072B2'\n",
    "ax1.set_xlabel('Intelligent Storage Ratio (ISR)', fontsize=12)\n",
    "ax1.set_ylabel('Total System Cost (Billion $)', color=color, fontsize=12)\n",
    "ax1.plot(ratios, total_system_costs_df['Total System Cost'], '-o', color=color, label='Total System Cost')\n",
    "ax1.tick_params(axis='y', labelcolor=color)\n",
    "ax1.grid(True, which='both', linestyle='--', linewidth=0.5)\n",
    "\n",
    "# Instantiate a second y-axis for percentage reduction\n",
    "ax2 = ax1.twinx() \n",
    "color = '#D55E00'\n",
    "ax2.set_ylabel('Percentage Reduction (%)', color=color, fontsize=12)  \n",
    "ax2.bar(ratios, percentage_reduction, width=0.05, color=color, alpha=0.6, label='Percentage Reduction')\n",
    "ax2.tick_params(axis='y', labelcolor=color)\n",
    "\n",
    "fig.tight_layout()  \n",
    "plt.title('Total System Cost and Percentage Reduction Across WECC vs ISR', fontsize=14)\n",
    "plt.show()\n"
   ]
  },
  {
   "cell_type": "markdown",
   "id": "3dec2295",
   "metadata": {},
   "source": [
    "### Storage Profit & Utilization (Aggregated ISR 0.1-0.9)"
   ]
  },
  {
   "cell_type": "code",
   "execution_count": 21,
   "id": "abe98101",
   "metadata": {},
   "outputs": [],
   "source": [
    "# case = 'Strategic/MC20/UC25ED1_Strategic_true_ratio0.9_Seg5_BAW0_MC20.0'\n",
    "case = 'Strategic/2022/UC25ED1_Strategic_true_ratio0.9_Seg1_BAW0_MC20.0_1test2'\n",
    "\n",
    "\n",
    "ESD = pd.read_csv('output/'+case+'/EDESD.csv',header=None)\n",
    "ESC = pd.read_csv('output/'+case+'/EDESC.csv',header=None)\n",
    "price = pd.read_csv('output/'+case+'/EDprice.csv',header=None)\n",
    "ES = pd.read_csv('output/'+case+'/Strategic/ADDED_ES.csv')"
   ]
  },
  {
   "cell_type": "code",
   "execution_count": 22,
   "id": "a5a72488",
   "metadata": {
    "scrolled": true
   },
   "outputs": [
    {
     "data": {
      "text/html": [
       "<div>\n",
       "<style scoped>\n",
       "    .dataframe tbody tr th:only-of-type {\n",
       "        vertical-align: middle;\n",
       "    }\n",
       "\n",
       "    .dataframe tbody tr th {\n",
       "        vertical-align: top;\n",
       "    }\n",
       "\n",
       "    .dataframe thead th {\n",
       "        text-align: right;\n",
       "    }\n",
       "</style>\n",
       "<table border=\"1\" class=\"dataframe\">\n",
       "  <thead>\n",
       "    <tr style=\"text-align: right;\">\n",
       "      <th></th>\n",
       "      <th>0</th>\n",
       "      <th>1</th>\n",
       "      <th>2</th>\n",
       "      <th>3</th>\n",
       "      <th>4</th>\n",
       "      <th>5</th>\n",
       "      <th>6</th>\n",
       "      <th>7</th>\n",
       "      <th>8</th>\n",
       "      <th>9</th>\n",
       "      <th>10</th>\n",
       "      <th>11</th>\n",
       "    </tr>\n",
       "  </thead>\n",
       "  <tbody>\n",
       "    <tr>\n",
       "      <th></th>\n",
       "      <td>S1</td>\n",
       "      <td>NS1</td>\n",
       "      <td>S2</td>\n",
       "      <td>NS2</td>\n",
       "      <td>S3</td>\n",
       "      <td>NS3</td>\n",
       "      <td>S4</td>\n",
       "      <td>NS4</td>\n",
       "      <td>S5</td>\n",
       "      <td>NS5</td>\n",
       "      <td>S6</td>\n",
       "      <td>NS6</td>\n",
       "    </tr>\n",
       "    <tr>\n",
       "      <th>Revenue (k$)</th>\n",
       "      <td>702.322447</td>\n",
       "      <td>41.304636</td>\n",
       "      <td>129175.981824</td>\n",
       "      <td>11322.976474</td>\n",
       "      <td>31133.772285</td>\n",
       "      <td>1104.066317</td>\n",
       "      <td>1254.378996</td>\n",
       "      <td>50.565576</td>\n",
       "      <td>95.649026</td>\n",
       "      <td>8.899022</td>\n",
       "      <td>5383.566472</td>\n",
       "      <td>145.957386</td>\n",
       "    </tr>\n",
       "    <tr>\n",
       "      <th>Profit (k$)</th>\n",
       "      <td>502.592251</td>\n",
       "      <td>25.920256</td>\n",
       "      <td>70410.06039</td>\n",
       "      <td>7444.530593</td>\n",
       "      <td>16947.175191</td>\n",
       "      <td>731.379554</td>\n",
       "      <td>909.027372</td>\n",
       "      <td>33.927799</td>\n",
       "      <td>70.448655</td>\n",
       "      <td>5.929359</td>\n",
       "      <td>3360.229063</td>\n",
       "      <td>94.542399</td>\n",
       "    </tr>\n",
       "    <tr>\n",
       "      <th>Unit Profit (k$/MWh)</th>\n",
       "      <td>8.397531</td>\n",
       "      <td>3.897783</td>\n",
       "      <td>5.335757</td>\n",
       "      <td>5.077397</td>\n",
       "      <td>4.636837</td>\n",
       "      <td>1.800984</td>\n",
       "      <td>8.859916</td>\n",
       "      <td>2.976123</td>\n",
       "      <td>7.827628</td>\n",
       "      <td>5.929359</td>\n",
       "      <td>5.656951</td>\n",
       "      <td>80.790174</td>\n",
       "    </tr>\n",
       "    <tr>\n",
       "      <th>Cycle</th>\n",
       "      <td>185.398864</td>\n",
       "      <td>128.524475</td>\n",
       "      <td>247.408353</td>\n",
       "      <td>146.956586</td>\n",
       "      <td>215.640451</td>\n",
       "      <td>50.984536</td>\n",
       "      <td>187.000013</td>\n",
       "      <td>81.080789</td>\n",
       "      <td>155.557848</td>\n",
       "      <td>164.981311</td>\n",
       "      <td>189.238441</td>\n",
       "      <td>43.278609</td>\n",
       "    </tr>\n",
       "  </tbody>\n",
       "</table>\n",
       "</div>"
      ],
      "text/plain": [
       "                              0           1              2             3   \\\n",
       "                              S1         NS1             S2           NS2   \n",
       "Revenue (k$)          702.322447   41.304636  129175.981824  11322.976474   \n",
       "Profit (k$)           502.592251   25.920256    70410.06039   7444.530593   \n",
       "Unit Profit (k$/MWh)    8.397531    3.897783       5.335757      5.077397   \n",
       "Cycle                 185.398864  128.524475     247.408353    146.956586   \n",
       "\n",
       "                                4            5            6          7   \\\n",
       "                                S3          NS3           S4        NS4   \n",
       "Revenue (k$)          31133.772285  1104.066317  1254.378996  50.565576   \n",
       "Profit (k$)           16947.175191   731.379554   909.027372  33.927799   \n",
       "Unit Profit (k$/MWh)      4.636837     1.800984     8.859916   2.976123   \n",
       "Cycle                   215.640451    50.984536   187.000013  81.080789   \n",
       "\n",
       "                              8           9            10          11  \n",
       "                              S5         NS5           S6         NS6  \n",
       "Revenue (k$)           95.649026    8.899022  5383.566472  145.957386  \n",
       "Profit (k$)            70.448655    5.929359  3360.229063   94.542399  \n",
       "Unit Profit (k$/MWh)    7.827628    5.929359     5.656951   80.790174  \n",
       "Cycle                 155.557848  164.981311   189.238441   43.278609  "
      ]
     },
     "execution_count": 22,
     "metadata": {},
     "output_type": "execute_result"
    }
   ],
   "source": [
    "data = [\n",
    "    ['S1', sum((ESD[35]-ESC[35])*price[0])/1000, sum((ESD[35]-ESC[35])*price[0] - Ts*c*ESD[35])/1000, sum((ESD[35]-ESC[35])*price[0] - Ts*c*ESD[35])/1000/ES['ESOC'][0], sum(ESD[35])/eta*Ts/ES['ESOC'][0]],\n",
    "    ['NS1', sum((ESD[36]-ESC[36])*price[0])/1000, sum((ESD[36]-ESC[36])*price[0] - Ts*c*ESD[36])/1000, sum((ESD[36]-ESC[36])*price[0] - Ts*c*ESD[36])/1000/ES['ESOC'][1], sum(ESD[36])/eta*Ts/ES['ESOC'][1]],\n",
    "    ['S2', sum((ESD[37]-ESC[37])*price[1])/1000, sum((ESD[37]-ESC[37])*price[1] - Ts*c*ESD[37])/1000, sum((ESD[37]-ESC[37])*price[1] - Ts*c*ESD[37])/1000/ES['ESOC'][2], sum(ESD[37])/eta*Ts/ES['ESOC'][2]],\n",
    "    ['NS2', sum((ESD[38]-ESC[38])*price[1])/1000, sum((ESD[38]-ESC[38])*price[1] - Ts*c*ESD[38])/1000, sum((ESD[38]-ESC[38])*price[1] - Ts*c*ESD[38])/1000/ES['ESOC'][3], sum(ESD[38])/eta*Ts/ES['ESOC'][3]],\n",
    "    ['S3', sum((ESD[39]-ESC[39])*price[2])/1000, sum((ESD[39]-ESC[39])*price[2] - Ts*c*ESD[39])/1000, sum((ESD[39]-ESC[39])*price[2] - Ts*c*ESD[39])/1000/ES['ESOC'][4], sum(ESD[39])/eta*Ts/ES['ESOC'][4]],\n",
    "    ['NS3', sum((ESD[40]-ESC[40])*price[2])/1000, sum((ESD[40]-ESC[40])*price[2] - Ts*c*ESD[40])/1000, sum((ESD[40]-ESC[40])*price[2] - Ts*c*ESD[40])/1000/ES['ESOC'][5], sum(ESD[40])/eta*Ts/ES['ESOC'][5]],\n",
    "    ['S4', sum((ESD[41]-ESC[41])*price[3])/1000, sum((ESD[41]-ESC[41])*price[3] - Ts*c*ESD[41])/1000, sum((ESD[41]-ESC[41])*price[3] - Ts*c*ESD[41])/1000/ES['ESOC'][6], sum(ESD[41])/eta*Ts/ES['ESOC'][6]],\n",
    "    ['NS4', sum((ESD[42]-ESC[42])*price[3])/1000, sum((ESD[42]-ESC[42])*price[3] - Ts*c*ESD[42])/1000, sum((ESD[42]-ESC[42])*price[3] - Ts*c*ESD[42])/1000/ES['ESOC'][7], sum(ESD[42])/eta*Ts/ES['ESOC'][7]],\n",
    "    ['S5', sum((ESD[43]-ESC[43])*price[4])/1000, sum((ESD[43]-ESC[43])*price[4] - Ts*c*ESD[43])/1000, sum((ESD[43]-ESC[43])*price[4] - Ts*c*ESD[43])/1000/ES['ESOC'][8], sum(ESD[43])/eta*Ts/ES['ESOC'][8]],\n",
    "    ['NS5', sum((ESD[44]-ESC[44])*price[4])/1000, sum((ESD[44]-ESC[44])*price[4] - Ts*c*ESD[44])/1000, sum((ESD[44]-ESC[44])*price[4] - Ts*c*ESD[44])/1000/ES['ESOC'][9], sum(ESD[44])/eta*Ts/ES['ESOC'][9]],\n",
    "    ['S6', sum((ESD[45]-ESC[45])*price[5])/1000, sum((ESD[45]-ESC[45])*price[5] - Ts*c*ESD[45])/1000, sum((ESD[45]-ESC[45])*price[5] - Ts*c*ESD[45])/1000/ES['ESOC'][10], sum(ESD[45])/eta*Ts/ES['ESOC'][10]],\n",
    "    ['NS6', sum((ESD[46]-ESC[46])*price[5])/1000, sum((ESD[46]-ESC[46])*price[5] - Ts*c*ESD[46])/1000, sum((ESD[45]-ESC[45])*price[5] - Ts*c*ESD[46])/1000/ES['ESOC'][11], sum(ESD[46])/eta*Ts/ES['ESOC'][11]],\n",
    "]\n",
    "column_names = ['', 'Revenue (k$)', 'Profit (k$)', 'Unit Profit (k$/MWh)', 'Cycle']\n",
    "df = pd.DataFrame(data, columns=column_names)\n",
    "df.T\n"
   ]
  },
  {
   "cell_type": "markdown",
   "id": "015b74e5",
   "metadata": {},
   "source": [
    "### Storage Profit & Utilization (Heterogeneous ISR 0.0/1.0)"
   ]
  },
  {
   "cell_type": "code",
   "execution_count": null,
   "id": "3e04324c",
   "metadata": {},
   "outputs": [],
   "source": [
    "case = 'Strategic/2022/UC25ED1_Strategic_true_ratio1.0_Seg1_BAW0_MC20.0_1test2'\n",
    "ESD = pd.read_csv('output/'+case+'/EDESD.csv',header=None)\n",
    "ESC = pd.read_csv('output/'+case+'/EDESC.csv',header=None)\n",
    "price = pd.read_csv('output/'+case+'/EDprice.csv',header=None)\n",
    "ESindex = pd.read_csv('output/'+case+'/Strategic/storage_to_index_map.csv')\n",
    "ES = pd.read_csv('2032 ADS PCM V2.4.1 Public Data/Processed Data/2022/Storage_C_4hr_5GW_Strategic_Agg.csv')"
   ]
  },
  {
   "cell_type": "code",
   "execution_count": 23,
   "id": "fdfbc897",
   "metadata": {},
   "outputs": [],
   "source": [
    "Ts = 1/12\n",
    "c = 20\n",
    "eta = 0.9\n",
    "case_template = 'Strategic/{}/UC25ED1_Strategic_true_ratio1.0_Seg1_BAW0_MC20.0_1test2'\n",
    "ratios = [2022]"
   ]
  },
  {
   "cell_type": "code",
   "execution_count": 24,
   "id": "41eb2f7c",
   "metadata": {},
   "outputs": [],
   "source": [
    "for ratio in ratios:\n",
    "    case = case_template.format(ratio)\n",
    "    try:\n",
    "        # Try to read the CSV file for the current case\n",
    "        ESInfo = pd.read_csv('output/'+case+'/Strategic/storage_to_index_map.csv')\n",
    "    except FileNotFoundError:\n",
    "        print(f\"File for case {case} not found.\")\n",
    "        continue"
   ]
  },
  {
   "cell_type": "code",
   "execution_count": 25,
   "id": "34d68277",
   "metadata": {},
   "outputs": [
    {
     "ename": "FileNotFoundError",
     "evalue": "[Errno 2] No such file or directory: 'output/Strategic/2022/UC25ED1_Strategic_true_ratio1.0_Seg1_BAW0_MC20.0_1/EDESD.csv'",
     "output_type": "error",
     "traceback": [
      "\u001b[0;31m---------------------------------------------------------------------------\u001b[0m",
      "\u001b[0;31mFileNotFoundError\u001b[0m                         Traceback (most recent call last)",
      "Cell \u001b[0;32mIn[25], line 1\u001b[0m\n\u001b[0;32m----> 1\u001b[0m ESD1 \u001b[38;5;241m=\u001b[39m \u001b[43mpd\u001b[49m\u001b[38;5;241;43m.\u001b[39;49m\u001b[43mread_csv\u001b[49m\u001b[43m(\u001b[49m\u001b[38;5;124;43m'\u001b[39;49m\u001b[38;5;124;43moutput/Strategic/2022/UC25ED1_Strategic_true_ratio1.0_Seg1_BAW0_MC20.0_1/EDESD.csv\u001b[39;49m\u001b[38;5;124;43m'\u001b[39;49m\u001b[43m,\u001b[49m\u001b[43mheader\u001b[49m\u001b[38;5;241;43m=\u001b[39;49m\u001b[38;5;28;43;01mNone\u001b[39;49;00m\u001b[43m)\u001b[49m\n\u001b[1;32m      2\u001b[0m ESC1 \u001b[38;5;241m=\u001b[39m pd\u001b[38;5;241m.\u001b[39mread_csv(\u001b[38;5;124m'\u001b[39m\u001b[38;5;124moutput/Strategic/2022/UC25ED1_Strategic_true_ratio1.0_Seg1_BAW0_MC20.0_1/EDESC.csv\u001b[39m\u001b[38;5;124m'\u001b[39m,header\u001b[38;5;241m=\u001b[39m\u001b[38;5;28;01mNone\u001b[39;00m)\n\u001b[1;32m      3\u001b[0m price1 \u001b[38;5;241m=\u001b[39m pd\u001b[38;5;241m.\u001b[39mread_csv(\u001b[38;5;124m'\u001b[39m\u001b[38;5;124moutput/Strategic/2022/UC25ED1_Strategic_true_ratio1.0_Seg1_BAW0_MC20.0_1/EDprice.csv\u001b[39m\u001b[38;5;124m'\u001b[39m,header\u001b[38;5;241m=\u001b[39m\u001b[38;5;28;01mNone\u001b[39;00m)\n",
      "File \u001b[0;32m~/opt/anaconda3/envs/STESTS/lib/python3.11/site-packages/pandas/io/parsers/readers.py:912\u001b[0m, in \u001b[0;36mread_csv\u001b[0;34m(filepath_or_buffer, sep, delimiter, header, names, index_col, usecols, dtype, engine, converters, true_values, false_values, skipinitialspace, skiprows, skipfooter, nrows, na_values, keep_default_na, na_filter, verbose, skip_blank_lines, parse_dates, infer_datetime_format, keep_date_col, date_parser, date_format, dayfirst, cache_dates, iterator, chunksize, compression, thousands, decimal, lineterminator, quotechar, quoting, doublequote, escapechar, comment, encoding, encoding_errors, dialect, on_bad_lines, delim_whitespace, low_memory, memory_map, float_precision, storage_options, dtype_backend)\u001b[0m\n\u001b[1;32m    899\u001b[0m kwds_defaults \u001b[38;5;241m=\u001b[39m _refine_defaults_read(\n\u001b[1;32m    900\u001b[0m     dialect,\n\u001b[1;32m    901\u001b[0m     delimiter,\n\u001b[0;32m   (...)\u001b[0m\n\u001b[1;32m    908\u001b[0m     dtype_backend\u001b[38;5;241m=\u001b[39mdtype_backend,\n\u001b[1;32m    909\u001b[0m )\n\u001b[1;32m    910\u001b[0m kwds\u001b[38;5;241m.\u001b[39mupdate(kwds_defaults)\n\u001b[0;32m--> 912\u001b[0m \u001b[38;5;28;01mreturn\u001b[39;00m \u001b[43m_read\u001b[49m\u001b[43m(\u001b[49m\u001b[43mfilepath_or_buffer\u001b[49m\u001b[43m,\u001b[49m\u001b[43m \u001b[49m\u001b[43mkwds\u001b[49m\u001b[43m)\u001b[49m\n",
      "File \u001b[0;32m~/opt/anaconda3/envs/STESTS/lib/python3.11/site-packages/pandas/io/parsers/readers.py:577\u001b[0m, in \u001b[0;36m_read\u001b[0;34m(filepath_or_buffer, kwds)\u001b[0m\n\u001b[1;32m    574\u001b[0m _validate_names(kwds\u001b[38;5;241m.\u001b[39mget(\u001b[38;5;124m\"\u001b[39m\u001b[38;5;124mnames\u001b[39m\u001b[38;5;124m\"\u001b[39m, \u001b[38;5;28;01mNone\u001b[39;00m))\n\u001b[1;32m    576\u001b[0m \u001b[38;5;66;03m# Create the parser.\u001b[39;00m\n\u001b[0;32m--> 577\u001b[0m parser \u001b[38;5;241m=\u001b[39m \u001b[43mTextFileReader\u001b[49m\u001b[43m(\u001b[49m\u001b[43mfilepath_or_buffer\u001b[49m\u001b[43m,\u001b[49m\u001b[43m \u001b[49m\u001b[38;5;241;43m*\u001b[39;49m\u001b[38;5;241;43m*\u001b[39;49m\u001b[43mkwds\u001b[49m\u001b[43m)\u001b[49m\n\u001b[1;32m    579\u001b[0m \u001b[38;5;28;01mif\u001b[39;00m chunksize \u001b[38;5;129;01mor\u001b[39;00m iterator:\n\u001b[1;32m    580\u001b[0m     \u001b[38;5;28;01mreturn\u001b[39;00m parser\n",
      "File \u001b[0;32m~/opt/anaconda3/envs/STESTS/lib/python3.11/site-packages/pandas/io/parsers/readers.py:1407\u001b[0m, in \u001b[0;36mTextFileReader.__init__\u001b[0;34m(self, f, engine, **kwds)\u001b[0m\n\u001b[1;32m   1404\u001b[0m     \u001b[38;5;28mself\u001b[39m\u001b[38;5;241m.\u001b[39moptions[\u001b[38;5;124m\"\u001b[39m\u001b[38;5;124mhas_index_names\u001b[39m\u001b[38;5;124m\"\u001b[39m] \u001b[38;5;241m=\u001b[39m kwds[\u001b[38;5;124m\"\u001b[39m\u001b[38;5;124mhas_index_names\u001b[39m\u001b[38;5;124m\"\u001b[39m]\n\u001b[1;32m   1406\u001b[0m \u001b[38;5;28mself\u001b[39m\u001b[38;5;241m.\u001b[39mhandles: IOHandles \u001b[38;5;241m|\u001b[39m \u001b[38;5;28;01mNone\u001b[39;00m \u001b[38;5;241m=\u001b[39m \u001b[38;5;28;01mNone\u001b[39;00m\n\u001b[0;32m-> 1407\u001b[0m \u001b[38;5;28mself\u001b[39m\u001b[38;5;241m.\u001b[39m_engine \u001b[38;5;241m=\u001b[39m \u001b[38;5;28;43mself\u001b[39;49m\u001b[38;5;241;43m.\u001b[39;49m\u001b[43m_make_engine\u001b[49m\u001b[43m(\u001b[49m\u001b[43mf\u001b[49m\u001b[43m,\u001b[49m\u001b[43m \u001b[49m\u001b[38;5;28;43mself\u001b[39;49m\u001b[38;5;241;43m.\u001b[39;49m\u001b[43mengine\u001b[49m\u001b[43m)\u001b[49m\n",
      "File \u001b[0;32m~/opt/anaconda3/envs/STESTS/lib/python3.11/site-packages/pandas/io/parsers/readers.py:1661\u001b[0m, in \u001b[0;36mTextFileReader._make_engine\u001b[0;34m(self, f, engine)\u001b[0m\n\u001b[1;32m   1659\u001b[0m     \u001b[38;5;28;01mif\u001b[39;00m \u001b[38;5;124m\"\u001b[39m\u001b[38;5;124mb\u001b[39m\u001b[38;5;124m\"\u001b[39m \u001b[38;5;129;01mnot\u001b[39;00m \u001b[38;5;129;01min\u001b[39;00m mode:\n\u001b[1;32m   1660\u001b[0m         mode \u001b[38;5;241m+\u001b[39m\u001b[38;5;241m=\u001b[39m \u001b[38;5;124m\"\u001b[39m\u001b[38;5;124mb\u001b[39m\u001b[38;5;124m\"\u001b[39m\n\u001b[0;32m-> 1661\u001b[0m \u001b[38;5;28mself\u001b[39m\u001b[38;5;241m.\u001b[39mhandles \u001b[38;5;241m=\u001b[39m \u001b[43mget_handle\u001b[49m\u001b[43m(\u001b[49m\n\u001b[1;32m   1662\u001b[0m \u001b[43m    \u001b[49m\u001b[43mf\u001b[49m\u001b[43m,\u001b[49m\n\u001b[1;32m   1663\u001b[0m \u001b[43m    \u001b[49m\u001b[43mmode\u001b[49m\u001b[43m,\u001b[49m\n\u001b[1;32m   1664\u001b[0m \u001b[43m    \u001b[49m\u001b[43mencoding\u001b[49m\u001b[38;5;241;43m=\u001b[39;49m\u001b[38;5;28;43mself\u001b[39;49m\u001b[38;5;241;43m.\u001b[39;49m\u001b[43moptions\u001b[49m\u001b[38;5;241;43m.\u001b[39;49m\u001b[43mget\u001b[49m\u001b[43m(\u001b[49m\u001b[38;5;124;43m\"\u001b[39;49m\u001b[38;5;124;43mencoding\u001b[39;49m\u001b[38;5;124;43m\"\u001b[39;49m\u001b[43m,\u001b[49m\u001b[43m \u001b[49m\u001b[38;5;28;43;01mNone\u001b[39;49;00m\u001b[43m)\u001b[49m\u001b[43m,\u001b[49m\n\u001b[1;32m   1665\u001b[0m \u001b[43m    \u001b[49m\u001b[43mcompression\u001b[49m\u001b[38;5;241;43m=\u001b[39;49m\u001b[38;5;28;43mself\u001b[39;49m\u001b[38;5;241;43m.\u001b[39;49m\u001b[43moptions\u001b[49m\u001b[38;5;241;43m.\u001b[39;49m\u001b[43mget\u001b[49m\u001b[43m(\u001b[49m\u001b[38;5;124;43m\"\u001b[39;49m\u001b[38;5;124;43mcompression\u001b[39;49m\u001b[38;5;124;43m\"\u001b[39;49m\u001b[43m,\u001b[49m\u001b[43m \u001b[49m\u001b[38;5;28;43;01mNone\u001b[39;49;00m\u001b[43m)\u001b[49m\u001b[43m,\u001b[49m\n\u001b[1;32m   1666\u001b[0m \u001b[43m    \u001b[49m\u001b[43mmemory_map\u001b[49m\u001b[38;5;241;43m=\u001b[39;49m\u001b[38;5;28;43mself\u001b[39;49m\u001b[38;5;241;43m.\u001b[39;49m\u001b[43moptions\u001b[49m\u001b[38;5;241;43m.\u001b[39;49m\u001b[43mget\u001b[49m\u001b[43m(\u001b[49m\u001b[38;5;124;43m\"\u001b[39;49m\u001b[38;5;124;43mmemory_map\u001b[39;49m\u001b[38;5;124;43m\"\u001b[39;49m\u001b[43m,\u001b[49m\u001b[43m \u001b[49m\u001b[38;5;28;43;01mFalse\u001b[39;49;00m\u001b[43m)\u001b[49m\u001b[43m,\u001b[49m\n\u001b[1;32m   1667\u001b[0m \u001b[43m    \u001b[49m\u001b[43mis_text\u001b[49m\u001b[38;5;241;43m=\u001b[39;49m\u001b[43mis_text\u001b[49m\u001b[43m,\u001b[49m\n\u001b[1;32m   1668\u001b[0m \u001b[43m    \u001b[49m\u001b[43merrors\u001b[49m\u001b[38;5;241;43m=\u001b[39;49m\u001b[38;5;28;43mself\u001b[39;49m\u001b[38;5;241;43m.\u001b[39;49m\u001b[43moptions\u001b[49m\u001b[38;5;241;43m.\u001b[39;49m\u001b[43mget\u001b[49m\u001b[43m(\u001b[49m\u001b[38;5;124;43m\"\u001b[39;49m\u001b[38;5;124;43mencoding_errors\u001b[39;49m\u001b[38;5;124;43m\"\u001b[39;49m\u001b[43m,\u001b[49m\u001b[43m \u001b[49m\u001b[38;5;124;43m\"\u001b[39;49m\u001b[38;5;124;43mstrict\u001b[39;49m\u001b[38;5;124;43m\"\u001b[39;49m\u001b[43m)\u001b[49m\u001b[43m,\u001b[49m\n\u001b[1;32m   1669\u001b[0m \u001b[43m    \u001b[49m\u001b[43mstorage_options\u001b[49m\u001b[38;5;241;43m=\u001b[39;49m\u001b[38;5;28;43mself\u001b[39;49m\u001b[38;5;241;43m.\u001b[39;49m\u001b[43moptions\u001b[49m\u001b[38;5;241;43m.\u001b[39;49m\u001b[43mget\u001b[49m\u001b[43m(\u001b[49m\u001b[38;5;124;43m\"\u001b[39;49m\u001b[38;5;124;43mstorage_options\u001b[39;49m\u001b[38;5;124;43m\"\u001b[39;49m\u001b[43m,\u001b[49m\u001b[43m \u001b[49m\u001b[38;5;28;43;01mNone\u001b[39;49;00m\u001b[43m)\u001b[49m\u001b[43m,\u001b[49m\n\u001b[1;32m   1670\u001b[0m \u001b[43m\u001b[49m\u001b[43m)\u001b[49m\n\u001b[1;32m   1671\u001b[0m \u001b[38;5;28;01massert\u001b[39;00m \u001b[38;5;28mself\u001b[39m\u001b[38;5;241m.\u001b[39mhandles \u001b[38;5;129;01mis\u001b[39;00m \u001b[38;5;129;01mnot\u001b[39;00m \u001b[38;5;28;01mNone\u001b[39;00m\n\u001b[1;32m   1672\u001b[0m f \u001b[38;5;241m=\u001b[39m \u001b[38;5;28mself\u001b[39m\u001b[38;5;241m.\u001b[39mhandles\u001b[38;5;241m.\u001b[39mhandle\n",
      "File \u001b[0;32m~/opt/anaconda3/envs/STESTS/lib/python3.11/site-packages/pandas/io/common.py:859\u001b[0m, in \u001b[0;36mget_handle\u001b[0;34m(path_or_buf, mode, encoding, compression, memory_map, is_text, errors, storage_options)\u001b[0m\n\u001b[1;32m    854\u001b[0m \u001b[38;5;28;01melif\u001b[39;00m \u001b[38;5;28misinstance\u001b[39m(handle, \u001b[38;5;28mstr\u001b[39m):\n\u001b[1;32m    855\u001b[0m     \u001b[38;5;66;03m# Check whether the filename is to be opened in binary mode.\u001b[39;00m\n\u001b[1;32m    856\u001b[0m     \u001b[38;5;66;03m# Binary mode does not support 'encoding' and 'newline'.\u001b[39;00m\n\u001b[1;32m    857\u001b[0m     \u001b[38;5;28;01mif\u001b[39;00m ioargs\u001b[38;5;241m.\u001b[39mencoding \u001b[38;5;129;01mand\u001b[39;00m \u001b[38;5;124m\"\u001b[39m\u001b[38;5;124mb\u001b[39m\u001b[38;5;124m\"\u001b[39m \u001b[38;5;129;01mnot\u001b[39;00m \u001b[38;5;129;01min\u001b[39;00m ioargs\u001b[38;5;241m.\u001b[39mmode:\n\u001b[1;32m    858\u001b[0m         \u001b[38;5;66;03m# Encoding\u001b[39;00m\n\u001b[0;32m--> 859\u001b[0m         handle \u001b[38;5;241m=\u001b[39m \u001b[38;5;28mopen\u001b[39m(\n\u001b[1;32m    860\u001b[0m             handle,\n\u001b[1;32m    861\u001b[0m             ioargs\u001b[38;5;241m.\u001b[39mmode,\n\u001b[1;32m    862\u001b[0m             encoding\u001b[38;5;241m=\u001b[39mioargs\u001b[38;5;241m.\u001b[39mencoding,\n\u001b[1;32m    863\u001b[0m             errors\u001b[38;5;241m=\u001b[39merrors,\n\u001b[1;32m    864\u001b[0m             newline\u001b[38;5;241m=\u001b[39m\u001b[38;5;124m\"\u001b[39m\u001b[38;5;124m\"\u001b[39m,\n\u001b[1;32m    865\u001b[0m         )\n\u001b[1;32m    866\u001b[0m     \u001b[38;5;28;01melse\u001b[39;00m:\n\u001b[1;32m    867\u001b[0m         \u001b[38;5;66;03m# Binary mode\u001b[39;00m\n\u001b[1;32m    868\u001b[0m         handle \u001b[38;5;241m=\u001b[39m \u001b[38;5;28mopen\u001b[39m(handle, ioargs\u001b[38;5;241m.\u001b[39mmode)\n",
      "\u001b[0;31mFileNotFoundError\u001b[0m: [Errno 2] No such file or directory: 'output/Strategic/2022/UC25ED1_Strategic_true_ratio1.0_Seg1_BAW0_MC20.0_1/EDESD.csv'"
     ]
    }
   ],
   "source": [
    "ESD1 = pd.read_csv('output/Strategic/2022/UC25ED1_Strategic_true_ratio1.0_Seg1_BAW0_MC20.0_1/EDESD.csv',header=None)\n",
    "ESC1 = pd.read_csv('output/Strategic/2022/UC25ED1_Strategic_true_ratio1.0_Seg1_BAW0_MC20.0_1/EDESC.csv',header=None)\n",
    "price1 = pd.read_csv('output/Strategic/2022/UC25ED1_Strategic_true_ratio1.0_Seg1_BAW0_MC20.0_1/EDprice.csv',header=None)\n",
    "DAprice1 = pd.read_csv('output/Strategic/2022/UC25ED1_Strategic_true_ratio1.0_Seg1_BAW0_MC20.0_1/UCprice.csv',header=None)"
   ]
  },
  {
   "cell_type": "code",
   "execution_count": null,
   "id": "59ee03b5",
   "metadata": {},
   "outputs": [],
   "source": [
    "repeated_indices = np.repeat(DAprice1.index, 12)\n",
    "repeated_DAprice1 = DAprice1.loc[repeated_indices].reset_index(drop=True)"
   ]
  },
  {
   "cell_type": "code",
   "execution_count": null,
   "id": "555e0896",
   "metadata": {},
   "outputs": [],
   "source": [
    "plt.figure(figsize=(10, 6))  # Optional: Specifies the figure size\n",
    "plt.plot(range(2017), price1.loc[0:2016,0]*12, label='RT')  # Plot first column\n",
    "plt.plot(range(2017), repeated_DAprice1.loc[0:2016,0], label='DA', linestyle='--')  # Plot second column with a different style\n",
    "\n",
    "# Adding labels and title\n",
    "# plt.xlabel('Index')  # Adjust as per your requirement\n",
    "plt.ylabel('$/MWh')  # Adjust as per your requirement\n",
    "# plt.title('Line Plot of Two DataFrame Columns')\n",
    "plt.legend()\n",
    "\n",
    "# Show plot\n",
    "plt.show()"
   ]
  },
  {
   "cell_type": "code",
   "execution_count": null,
   "id": "b9b52488",
   "metadata": {},
   "outputs": [],
   "source": [
    "Zone2Price1 = price1[0]\n",
    "SD1 = ESD1[35]\n",
    "SC1 = ESC1[35]\n",
    "NSD1 = ESD1[36]\n",
    "NSC1 = ESC1[36]\n",
    "Zone2Price5 = price5[0]\n",
    "SD5 = ESD5[35]\n",
    "SC5 = ESC5[35]\n",
    "NSD5 = ESD5[36]\n",
    "NSC5 = ESC5[36]\n",
    "Zone2Price1mar = price1mar[0]\n",
    "SD1mar = ESD1mar[35]\n",
    "SC1mar = ESC1mar[35]\n",
    "NSD1mar = ESD1mar[36]\n",
    "NSC1mar = ESC1mar[36]\n",
    "Zone2Price5mar = price5mar[1]\n",
    "SD5mar = ESD5mar[35]\n",
    "SC5mar = ESC5mar[35]\n",
    "NSD5mar = ESD5mar[36]\n",
    "NSC5mar = ESC5mar[36]"
   ]
  },
  {
   "cell_type": "code",
   "execution_count": null,
   "id": "e9fe9bf1",
   "metadata": {},
   "outputs": [],
   "source": [
    "S1 = SD1-SC1\n",
    "NS1 = NSD1-NSC1\n",
    "S5 = SD5-SC5\n",
    "NS5 = NSD5-NSC5\n",
    "S1mar = SD1mar-SC1mar\n",
    "NS1mar = NSD1mar-NSC1mar\n",
    "S5mar = SD5mar-SC5mar\n",
    "NS5mar = NSD5mar-NSC5mar"
   ]
  },
  {
   "cell_type": "code",
   "execution_count": null,
   "id": "e24fe92f",
   "metadata": {},
   "outputs": [],
   "source": [
    "Revenue_S1 = sum(S1*Zone2Price1) \n",
    "Profit_S1 = sum(S1*Zone2Price1 - Ts*c*SD1)\n",
    "Cycle_S1 = sum(SD1)/eta*Ts/E\n",
    "Revenue_NS1 = sum(NS1*Zone2Price1)\n",
    "Profit_NS1 = sum(NS1*Zone2Price1 - Ts*c*NSD1)\n",
    "Cycle_NS1 = sum(NSD1)/eta*Ts/E\n"
   ]
  },
  {
   "cell_type": "code",
   "execution_count": null,
   "id": "d2b957c3",
   "metadata": {},
   "outputs": [],
   "source": [
    "Revenue_S5 = sum(S5*Zone2Price5) \n",
    "Profit_S5 = sum(S5*Zone2Price5 - Ts*c*SD5)\n",
    "Cycle_S5 = sum(SD5)/eta*Ts/E\n",
    "Revenue_NS5 = sum(NS5*Zone2Price5)\n",
    "Profit_NS5 = sum(NS5*Zone2Price5 - Ts*c*NSD5) \n",
    "Cycle_NS5 = sum(NSD5)/eta*Ts/E\n"
   ]
  },
  {
   "cell_type": "code",
   "execution_count": null,
   "id": "5431d51c",
   "metadata": {},
   "outputs": [],
   "source": [
    "Revenue_S1mar = sum(S1mar*Zone2Price1mar) \n",
    "Profit_S1mar = sum(S1mar*Zone2Price1mar - Ts*c*SD1mar)\n",
    "Cycle_S1mar = sum(SD1mar)/eta*Ts/E1\n",
    "Revenue_NS1mar = sum(NS1mar*Zone2Price1mar)\n",
    "Profit_NS1mar = sum(NS1mar*Zone2Price1mar - Ts*c*NSD1mar) \n",
    "Cycle_NS1mar = sum(NSD1mar)/eta*Ts/E2"
   ]
  },
  {
   "cell_type": "code",
   "execution_count": null,
   "id": "3340d760",
   "metadata": {},
   "outputs": [],
   "source": [
    "Revenue_S5mar = sum(S5mar*Zone2Price5mar) \n",
    "Profit_S5mar = sum(S5mar*Zone2Price5mar - Ts*c*SD5mar)\n",
    "Cycle_S5mar = sum(SD5mar)/eta*Ts/E1\n",
    "Revenue_NS5mar = sum(NS5mar*Zone2Price5mar)\n",
    "Profit_NS5mar = sum(NS5mar*Zone2Price5mar - Ts*c*NSD5mar) \n",
    "Cycle_NS5mar = sum(NSD5mar)/eta*Ts/E2"
   ]
  },
  {
   "cell_type": "code",
   "execution_count": null,
   "id": "f2463306",
   "metadata": {
    "scrolled": true
   },
   "outputs": [],
   "source": [
    "data = [\n",
    "    ['S-1Seg', Revenue_S1/1000, Profit_S1/1000, Profit_S1/1000/E, Cycle_S1, Profit_S1/1000/E/27.992],\n",
    "    ['NS-1Seg', Revenue_NS1/1000, Profit_NS1/1000, Profit_NS1/1000/E, Cycle_NS1, Profit_NS1/1000/E/27.992],\n",
    "    ['S-5Seg', Revenue_S5/1000, Profit_S5/1000, Profit_S5/1000/E, Cycle_S5, Profit_S5/1000/E/27.992],\n",
    "    ['NS-5Seg', Revenue_NS5/1000, Profit_NS5/1000, Profit_NS5/1000/E, Cycle_NS5, Profit_NS5/1000/E/27.992],\n",
    "    ['S-1Seg_mar', Revenue_S1mar/1000, Profit_S1mar/1000, Profit_S1mar/1000/E1, Cycle_S1mar, Profit_S1mar/1000/E1/27.992],\n",
    "    ['NS-1Seg_mar', Revenue_NS1mar/1000, Profit_NS1mar/1000, Profit_NS1mar/1000/E2, Cycle_NS1mar, Profit_NS1mar/1000/E2/27.992],\n",
    "    ['S-5Seg_mar', Revenue_S5mar/1000, Profit_S5mar/1000, Profit_S5mar/1000/E1, Cycle_S5mar, Profit_S5mar/1000/E1/27.992],\n",
    "    ['NS-5Seg_mar', Revenue_NS5mar/1000, Profit_NS5mar/1000, Profit_NS5mar/1000/E2, Cycle_NS5mar, Profit_NS5mar/1000/E2/27.992],\n",
    "]\n",
    "column_names = ['', 'Revenue (k$)', 'Profit (k$)', 'Unit Profit (k$/MWh)', 'Cycle', 'Profit Ratio']\n",
    "df = pd.DataFrame(data, columns=column_names)\n",
    "df\n"
   ]
  },
  {
   "cell_type": "code",
   "execution_count": null,
   "id": "d5d51804",
   "metadata": {},
   "outputs": [],
   "source": [
    "# Set the positions and width for the bars\n",
    "positions = range(len(df))\n",
    "width = 0.35\n",
    "\n",
    "# Plotting the bar chart\n",
    "fig, ax1 = plt.subplots()\n",
    "\n",
    "# Bars for Revenue and Profit\n",
    "revenue_bars = ax1.bar(positions, df['Revenue (k$)']/100, width, label='Revenue (k$)', color='blue')\n",
    "profit_bars = ax1.bar([p + width for p in positions], df['Profit (k$)']/100, width, label='Profit (k$)', color='orange')\n",
    "\n",
    "# Add the second y-axis for the Profit Ratio\n",
    "ax2 = ax1.twinx()\n",
    "profit_ratio_dots, = ax2.plot([p + width/2 for p in positions], df['Profit Ratio'], 'ro', label='Profit Ratio')\n",
    "\n",
    "# Set the ticks and ticklabels for the x-axis\n",
    "ax1.set_xticks([p + width/2 for p in positions])\n",
    "ax1.set_xticklabels(['S-1Seg', 'NS-1Seg', 'S-5Seg', 'NS-5Seg','S-1Seg', 'NS-1Seg', 'S-5Seg', 'NS-5Seg'])\n",
    "\n",
    "# Set the axis labels\n",
    "# ax1.set_xlabel('Segment')\n",
    "ax1.set_ylabel('Revenue/Profit (k$)')\n",
    "ax2.set_ylabel('Profit Ratio')\n",
    "\n",
    "# Set the title of the graph\n",
    "plt.title('Revenue, Profit and Profit Ratio (per MWh)')\n",
    "\n",
    "# Create a legend by first getting handles and labels for the first y-axis and then the second y-axis\n",
    "handles, labels = ax1.get_legend_handles_labels()\n",
    "handles2, labels2 = ax2.get_legend_handles_labels()\n",
    "ax1.legend(handles + [profit_ratio_dots], labels + labels2, loc='upper right')\n",
    "\n",
    "# Adjust layout to make room for the legend\n",
    "plt.tight_layout()\n",
    "\n",
    "# Show the plot\n",
    "plt.show()"
   ]
  },
  {
   "cell_type": "markdown",
   "id": "2dc067a1",
   "metadata": {},
   "source": [
    "## Generator Type"
   ]
  },
  {
   "cell_type": "code",
   "execution_count": null,
   "id": "a51a8e21-073a-4a3a-95c4-25184eb5263d",
   "metadata": {},
   "outputs": [],
   "source": [
    "Zone = 3"
   ]
  },
  {
   "cell_type": "code",
   "execution_count": null,
   "id": "b13e4f61",
   "metadata": {},
   "outputs": [],
   "source": [
    "ThermalGen = pd.read_csv('2032 ADS PCM V2.4.1 Public Data/Processed Data/2022/ThermalGen_Full_C.csv')"
   ]
  },
  {
   "cell_type": "code",
   "execution_count": null,
   "id": "5b6beeb5-2f88-4c6a-af12-0aafb4c2504d",
   "metadata": {},
   "outputs": [],
   "source": [
    "ThermalGen['SubType'].unique()"
   ]
  },
  {
   "cell_type": "code",
   "execution_count": null,
   "id": "b003c0ed-d1c6-4e6a-8814-7fc3fede92f0",
   "metadata": {},
   "outputs": [],
   "source": [
    "ThermalGen['Fuel Name'].unique()"
   ]
  },
  {
   "cell_type": "markdown",
   "id": "56e9d94c-d5ae-416a-9e19-9e78143bf75a",
   "metadata": {},
   "source": [
    "### Coal"
   ]
  },
  {
   "cell_type": "code",
   "execution_count": null,
   "id": "a7b1bfbc-50da-48da-86a0-be55d404e15f",
   "metadata": {},
   "outputs": [],
   "source": [
    "ThermalGen[(ThermalGen['Zone']==Zone)&((ThermalGen['SubType']=='ST-Coal'))]"
   ]
  },
  {
   "cell_type": "code",
   "execution_count": null,
   "id": "57452ef6-947c-49a9-bc6c-32ea387b6e91",
   "metadata": {},
   "outputs": [],
   "source": [
    "ThermalGen[(ThermalGen['Zone']==Zone)&((ThermalGen['SubType']=='ST-Coal'))]['Fuel Name'].unique()"
   ]
  },
  {
   "cell_type": "code",
   "execution_count": null,
   "id": "6c2a132b-e76a-4b19-96b7-43447bf3c776",
   "metadata": {},
   "outputs": [],
   "source": [
    "ThermalGen[(ThermalGen['Zone']==Zone)&((ThermalGen['SubType']=='ST-Coal'))]['IOMaxCap(MW)'].sum()/1000"
   ]
  },
  {
   "cell_type": "markdown",
   "id": "d902d169-99a3-4244-996c-61526b20abef",
   "metadata": {},
   "source": [
    "### ST"
   ]
  },
  {
   "cell_type": "code",
   "execution_count": null,
   "id": "1a226260-e6cd-4e4e-b4f2-ecfbca60f100",
   "metadata": {},
   "outputs": [],
   "source": [
    "ThermalGen[(ThermalGen['Zone']==Zone)&((ThermalGen['SubType']=='ST-NatGas')|(ThermalGen['SubType']=='ST-Other')|(ThermalGen['SubType']=='ST-WasteHeat'))]"
   ]
  },
  {
   "cell_type": "code",
   "execution_count": null,
   "id": "e5f219db-c528-413b-8ba7-37fa29b58c82",
   "metadata": {},
   "outputs": [],
   "source": [
    "ThermalGen[(ThermalGen['Zone']==Zone)&((ThermalGen['SubType']=='ST-NatGas')|(ThermalGen['SubType']=='ST-Other')|(ThermalGen['SubType']=='ST-WasteHeat'))]['IOMaxCap(MW)'].sum()/1000"
   ]
  },
  {
   "cell_type": "markdown",
   "id": "645d1cc1-4033-44cd-9870-5544221b8059",
   "metadata": {},
   "source": [
    "### CC"
   ]
  },
  {
   "cell_type": "code",
   "execution_count": null,
   "id": "13428e35-cdf6-4b78-9a22-aad0b05b62c5",
   "metadata": {},
   "outputs": [],
   "source": [
    "ThermalGen[(ThermalGen['Zone']==Zone)&((ThermalGen['SubType']=='CCWhole-NatGas-SingleShaft')|(ThermalGen['SubType']=='CCWhole-NatGas-Aero')|(ThermalGen['SubType']=='CCWhole-NatGas-Industrial')|(ThermalGen['SubType']=='CCPart-Steam'))]"
   ]
  },
  {
   "cell_type": "code",
   "execution_count": null,
   "id": "9a1e60f4-df82-4194-8c31-114ce01f7fcc",
   "metadata": {},
   "outputs": [],
   "source": [
    "ThermalGen[(ThermalGen['Zone']==Zone)&((ThermalGen['SubType']=='CCWhole-NatGas-SingleShaft')|(ThermalGen['SubType']=='CCWhole-NatGas-Aero')|(ThermalGen['SubType']=='CCWhole-NatGas-Industrial')|(ThermalGen['SubType']=='CCPart-Steam'))]['IOMaxCap(MW)'].sum()/1000"
   ]
  },
  {
   "cell_type": "markdown",
   "id": "af8dee0d-821d-4ce5-b1ab-910976870f34",
   "metadata": {},
   "source": [
    "### CT"
   ]
  },
  {
   "cell_type": "code",
   "execution_count": null,
   "id": "5788eca1-05bf-4feb-811e-772009ccb6c7",
   "metadata": {},
   "outputs": [],
   "source": [
    "ThermalGen[(ThermalGen['Zone']==Zone)&((ThermalGen['SubType']=='CT-NatGas-Aero')|(ThermalGen['SubType']=='CT-NatGas-Industrial')|(ThermalGen['SubType']=='CT-OilDistillate')|(ThermalGen['SubType']=='CT-Aero')|(ThermalGen['SubType']=='CT-AB-Cogen'))]"
   ]
  },
  {
   "cell_type": "code",
   "execution_count": null,
   "id": "b2dd1b47-5f18-48af-95da-96811a304705",
   "metadata": {
    "scrolled": true
   },
   "outputs": [],
   "source": [
    "ThermalGen[(ThermalGen['Zone']==Zone)&((ThermalGen['SubType']=='CT-NatGas-Aero')|(ThermalGen['SubType']=='CT-NatGas-Industrial')|(ThermalGen['SubType']=='CT-OilDistillate')|(ThermalGen['SubType']=='CT-Aero')|(ThermalGen['SubType']=='CT-AB-Cogen'))]['IOMaxCap(MW)'].sum()/1000"
   ]
  },
  {
   "cell_type": "markdown",
   "id": "76550704-ff74-4711-98b2-3e803f452579",
   "metadata": {},
   "source": [
    "### Nuclear"
   ]
  },
  {
   "cell_type": "code",
   "execution_count": null,
   "id": "8561c320-f0fd-4a03-847a-7eeb32a9188a",
   "metadata": {},
   "outputs": [],
   "source": [
    "ThermalGen[(ThermalGen['Zone']==Zone)&((ThermalGen['SubType']=='ST-Nuclear'))]"
   ]
  },
  {
   "cell_type": "code",
   "execution_count": null,
   "id": "bd3ef2fc-b194-4d6a-b51a-65d71583b141",
   "metadata": {},
   "outputs": [],
   "source": [
    "ThermalGen[(ThermalGen['Zone']==Zone)&((ThermalGen['SubType']=='ST-Nuclear'))]['IOMaxCap(MW)'].sum()/1000"
   ]
  },
  {
   "cell_type": "markdown",
   "id": "44daa6e0-26ac-4fc2-869f-30dc26085097",
   "metadata": {},
   "source": [
    "### Geothermal"
   ]
  },
  {
   "cell_type": "code",
   "execution_count": null,
   "id": "eecd1b4d-a125-4f54-80b4-c2ac437c57ed",
   "metadata": {},
   "outputs": [],
   "source": [
    "ThermalGen[(ThermalGen['Zone']==Zone)&((ThermalGen['SubType']=='Geo-BinaryCycle')|(ThermalGen['SubType']=='Geo-DoubleFlash'))]"
   ]
  },
  {
   "cell_type": "code",
   "execution_count": null,
   "id": "c9563cc9-48f4-4505-abe5-8e21ba85ae15",
   "metadata": {},
   "outputs": [],
   "source": [
    "ThermalGen[(ThermalGen['Zone']==Zone)&((ThermalGen['SubType']=='Geo-BinaryCycle')|(ThermalGen['SubType']=='Geo-DoubleFlash'))]['IOMaxCap(MW)'].sum()/1000"
   ]
  },
  {
   "cell_type": "markdown",
   "id": "7b45a8a6-c089-4b3f-bbbb-e847c0c059d3",
   "metadata": {},
   "source": [
    "## BIO & ICE"
   ]
  },
  {
   "cell_type": "code",
   "execution_count": null,
   "id": "d5ced21c-574e-4092-a625-4377de6a6059",
   "metadata": {},
   "outputs": [],
   "source": [
    "Zone = 6"
   ]
  },
  {
   "cell_type": "code",
   "execution_count": null,
   "id": "a8522199-0db6-4f8c-aa6e-e9b780b5599f",
   "metadata": {
    "scrolled": true
   },
   "outputs": [],
   "source": [
    "ThermalGen[(ThermalGen['Zone']==Zone)&((ThermalGen['SubType']=='Bio-ICE')|(ThermalGen['SubType']=='Bio-CT')|(ThermalGen['SubType']=='Bio-ST')|(ThermalGen['SubType']=='Bio-CC'))]"
   ]
  },
  {
   "cell_type": "code",
   "execution_count": null,
   "id": "d3a87dd2-ffb9-4187-8dbc-9513143925e7",
   "metadata": {
    "scrolled": true
   },
   "outputs": [],
   "source": [
    "ThermalGen[(ThermalGen['Zone']==Zone)&((ThermalGen['SubType']=='Bio-ICE')|(ThermalGen['SubType']=='Bio-CT')|(ThermalGen['SubType']=='Bio-ST')|(ThermalGen['SubType']=='Bio-CC'))]['Fuel Name'].unique()"
   ]
  },
  {
   "cell_type": "code",
   "execution_count": null,
   "id": "c4690524-b1a7-4c35-b165-61f5feaf3238",
   "metadata": {},
   "outputs": [],
   "source": [
    "ThermalGen[(ThermalGen['Zone']==Zone)&((ThermalGen['SubType']=='Bio-ICE')|(ThermalGen['SubType']=='Bio-CT')|(ThermalGen['SubType']=='Bio-ST')|(ThermalGen['SubType']=='Bio-CC'))]['IOMaxCap(MW)'].sum()/1000"
   ]
  },
  {
   "cell_type": "code",
   "execution_count": null,
   "id": "21003754-f1b4-4410-a1ac-b63268c60a0e",
   "metadata": {
    "scrolled": true
   },
   "outputs": [],
   "source": [
    "ThermalGen[(ThermalGen['Zone']==Zone)&((ThermalGen['SubType']=='ICE-NatGas')|(ThermalGen['SubType']=='ICE-OilDistillate'))]"
   ]
  },
  {
   "cell_type": "code",
   "execution_count": null,
   "id": "eb1611f0-80ba-436f-acf9-8121d94ab05d",
   "metadata": {},
   "outputs": [],
   "source": [
    "ThermalGen[(ThermalGen['Zone']==Zone)&((ThermalGen['SubType']=='ICE-NatGas')|(ThermalGen['SubType']=='ICE-OilDistillate'))]['Fuel Name'].unique()"
   ]
  },
  {
   "cell_type": "code",
   "execution_count": null,
   "id": "e86d4d5c-6706-488f-8743-613eab99297d",
   "metadata": {},
   "outputs": [],
   "source": [
    "ThermalGen[(ThermalGen['Zone']==Zone)&((ThermalGen['SubType']=='ICE-NatGas')|(ThermalGen['SubType']=='ICE-OilDistillate'))]['IOMaxCap(MW)'].sum()/1000"
   ]
  },
  {
   "cell_type": "markdown",
   "id": "02982306-4a50-459d-8ba1-5bf8c6fb2afe",
   "metadata": {},
   "source": [
    "### Renewables"
   ]
  },
  {
   "cell_type": "code",
   "execution_count": null,
   "id": "1219d0a3-860c-481e-b9b1-0e4bd982e9df",
   "metadata": {},
   "outputs": [],
   "source": [
    "HydroGen = pd.read_csv('2032 ADS PCM V2.4.1 Public Data/Processed Data/2022/HydroZoneCap_C.csv')"
   ]
  },
  {
   "cell_type": "code",
   "execution_count": null,
   "id": "207f7399-ffa6-4ca4-ad55-bdef4828c431",
   "metadata": {},
   "outputs": [],
   "source": [
    "HydroGen['MaxCap(MW)']/1000"
   ]
  },
  {
   "cell_type": "code",
   "execution_count": null,
   "id": "aca500a3-92a7-4af6-af12-ed437fe694f6",
   "metadata": {},
   "outputs": [],
   "source": [
    "SolarGen = pd.read_csv('2032 ADS PCM V2.4.1 Public Data/Processed Data/2022/Solar_C.csv')"
   ]
  },
  {
   "cell_type": "code",
   "execution_count": null,
   "id": "6ee47ac5-b269-46f4-92e9-4415d065098f",
   "metadata": {},
   "outputs": [],
   "source": [
    "SolarGen['SubType'].unique()"
   ]
  },
  {
   "cell_type": "code",
   "execution_count": null,
   "id": "fc598f36-f37b-4c03-b6b8-0e521c090521",
   "metadata": {},
   "outputs": [],
   "source": [
    "SolarGen[(SolarGen['Zone']==Zone)&(SolarGen['SubType']=='SolarThermal-CSP6')]['Capacity(MW)'].sum()/1000"
   ]
  },
  {
   "cell_type": "code",
   "execution_count": null,
   "id": "6eef4121-22b9-4e31-8822-ff035b69abfa",
   "metadata": {},
   "outputs": [],
   "source": [
    "SolarGen[(SolarGen['Zone']==Zone)&(SolarGen['SubType']!='SolarThermal-CSP6')]['Capacity(MW)'].sum()/1000"
   ]
  },
  {
   "cell_type": "code",
   "execution_count": null,
   "id": "3570d6e4-02ee-484c-b9d6-70246bdc2821",
   "metadata": {},
   "outputs": [],
   "source": [
    "WindGen = pd.read_csv('2032 ADS PCM V2.4.1 Public Data/Processed Data/2022/Wind_C.csv')"
   ]
  },
  {
   "cell_type": "code",
   "execution_count": null,
   "id": "5e656363-c8d7-48a7-92ff-125804e1c312",
   "metadata": {},
   "outputs": [],
   "source": [
    "WindGen[WindGen['Zone']==Zone]['Capacity(MW)'].sum()/1000"
   ]
  },
  {
   "cell_type": "markdown",
   "id": "ecf12778-b2dd-4ae7-ab52-6e66ce9126f0",
   "metadata": {},
   "source": [
    "### Storage"
   ]
  },
  {
   "cell_type": "code",
   "execution_count": null,
   "id": "aaef9fb0-62c9-44a3-bd43-9d0f2b634056",
   "metadata": {},
   "outputs": [],
   "source": [
    "Storage = pd.read_csv('2032 ADS PCM V2.4.1 Public Data/Processed Data/2022/Storage_C_4hr_5GW_Strategic.csv')"
   ]
  },
  {
   "cell_type": "code",
   "execution_count": null,
   "id": "51ec5746-1e4b-4b56-b83b-5551ce1d961f",
   "metadata": {},
   "outputs": [],
   "source": [
    "Storage['SubType'].unique()"
   ]
  },
  {
   "cell_type": "code",
   "execution_count": null,
   "id": "3add63cd-f263-4afc-86a4-d21c9bf8974a",
   "metadata": {},
   "outputs": [],
   "source": [
    "Storage[(Storage['Zone']==Zone)&((Storage['SubType']=='PS-Hydro')|(Storage['SubType']=='PS-HydroRPS'))]"
   ]
  },
  {
   "cell_type": "code",
   "execution_count": null,
   "id": "c213abe9-ae62-4764-9c47-b2563ddf8f51",
   "metadata": {},
   "outputs": [],
   "source": [
    "Storage[(Storage['Zone']==Zone)&((Storage['SubType']=='PS-Hydro')|(Storage['SubType']=='PS-HydroRPS'))]['MaxCap(MW)'].sum()/1000"
   ]
  },
  {
   "cell_type": "code",
   "execution_count": null,
   "id": "e70cf910-b372-43fd-9fe3-089ac08c9b97",
   "metadata": {},
   "outputs": [],
   "source": [
    "Storage[(Storage['Zone']==Zone)&((Storage['SubType']=='Battery Storage'))]"
   ]
  },
  {
   "cell_type": "code",
   "execution_count": null,
   "id": "1bcdd452-3a6c-4d93-906f-f277c09f091d",
   "metadata": {},
   "outputs": [],
   "source": [
    "Storage[(Storage['Zone']==Zone)&((Storage['SubType']=='Battery Storage'))]['MaxCap(MW)'].sum()/1000"
   ]
  },
  {
   "cell_type": "markdown",
   "id": "779553db",
   "metadata": {},
   "source": [
    "## Plot"
   ]
  },
  {
   "cell_type": "code",
   "execution_count": null,
   "id": "05390d04",
   "metadata": {},
   "outputs": [],
   "source": [
    "HistoryPrice = pd.read_csv('output/20220101-20221231 CAISO Real-time Price.csv')\n",
    "HistoryPrice = HistoryPrice.drop_duplicates(subset=['Date', 'hub'])\n",
    "Pivot_HistoryPrice = HistoryPrice.pivot(index='Date', columns='hub', values='price')\n",
    "\n",
    "case1 = 'Strategic/UC25ED1_Strategic_true_Seg1_Load1.0_Fuel1.2_Error0.25_ratio0.1_MIP0.1_DARTDP'\n",
    "RTPrice1 = pd.read_csv('output/'+case1+'/EDprice.csv',header=None)*12\n",
    "case5 = 'Strategic/UC25ED1_Strategic_true_Seg5_Load1.0_Fuel1.2_Error0.25_ratio0.1_MIP0.1_DARTDP'\n",
    "RTPrice5 = pd.read_csv('output/'+case5+'/EDprice.csv',header=None)*12\n",
    "case1mar = 'Strategic/UC25ED1_Strategic_true_Seg1_Load1.0_Fuel1.2_Error0.25_Margin_MIP0.1_NSDAB'\n",
    "RTPrice1mar = pd.read_csv('output/'+case1+'/EDprice.csv',header=None)*12\n",
    "case5mar = 'Strategic/UC25ED1_Strategic_true_Seg5_Load1.0_Fuel1.2_Error0.25_Margin_MIP0.1_NSDAB'\n",
    "RTPrice5mar = pd.read_csv('output/'+case5+'/EDprice.csv',header=None)*12\n",
    "case3 = 'DecUpdate/UC25ED1_Strategic_false_Seg1_Load1.0_Fuel1.2_Error0.25_5GWBES_1yr_ESBid_Emergen'\n",
    "RTPrice3 = pd.read_csv('output/'+case3+'/EDprice.csv',header=None)*12\n",
    "\n",
    "# Create a 2x4 grid of subplots\n",
    "# fig, axs = plt.subplots(2, 4, figsize=(16, 9))\n",
    "fig, axs = plt.subplots(1, 2, figsize=(10, 6))\n",
    "\n",
    "# Loop through each column and each subplot\n",
    "for idx, (col, ax) in enumerate(zip([0,1], axs.flatten())):\n",
    "    sorted_vals = np.sort(Pivot_HistoryPrice.iloc[:,col].values)[::-1]\n",
    "    sorted_vals1 = np.sort(RTPrice1[col].values)[::-1]\n",
    "    sorted_vals2 = np.sort(RTPrice5[col].values)[::-1]\n",
    "    sorted_vals1mar = np.sort(RTPrice1mar[col].values)[::-1]\n",
    "    sorted_vals2mar = np.sort(RTPrice5mar[col].values)[::-1]\n",
    "    sorted_vals3 = np.sort(RTPrice3[col].values)[::-1]\n",
    "    \n",
    "    # Calculate the \"reverse\" cumulative distribution\n",
    "    cdf = np.arange(1, len(sorted_vals) + 1) / float(len(sorted_vals))\n",
    "    cdf1 = np.arange(1, len(sorted_vals1) + 1) / float(len(sorted_vals1))\n",
    "    cdf2 = np.arange(1, len(sorted_vals2) + 1) / float(len(sorted_vals2))\n",
    "    cdf1mar = np.arange(1, len(sorted_vals1mar) + 1) / float(len(sorted_vals1mar))\n",
    "    cdf2mar = np.arange(1, len(sorted_vals2mar) + 1) / float(len(sorted_vals2mar))\n",
    "    cdf3 = np.arange(1, len(sorted_vals3) + 1) / float(len(sorted_vals3))\n",
    "\n",
    "    \n",
    "    # Plot the CDF\n",
    "    ax.plot(cdf,sorted_vals)\n",
    "    ax.plot(cdf1,sorted_vals1)\n",
    "    ax.plot(cdf2,sorted_vals2)\n",
    "#     ax.plot(cdf1mar,sorted_vals1mar, linestyle='--')\n",
    "#     ax.plot(cdf2mar,sorted_vals2mar, linestyle='--')\n",
    "    ax.plot(cdf3,sorted_vals3)\n",
    "\n",
    "    ax.set_xlim(0.00, 1)\n",
    "    ax.set_ylim(-50, 500)\n",
    "    ax.legend(['Historical','Seg1', 'Seg5', 'Base'],fontsize=20)\n",
    "    ax.set_title(f\"High Price CDF of Region {idx+1}\",fontsize=20)\n",
    "    ax.tick_params(axis='both', which='major', labelsize=20)\n",
    "    ax.set_ylabel(\"Real-time Price ($/MWh)\",fontsize=20)\n",
    "\n",
    "plt.tight_layout()\n",
    "plt.show()"
   ]
  },
  {
   "cell_type": "code",
   "execution_count": 73,
   "id": "ff8e78a1",
   "metadata": {},
   "outputs": [
    {
     "data": {
      "image/png": "[encoded data removed]",
      "text/plain": [
       "<Figure size 1000x600 with 2 Axes>"
      ]
     },
     "metadata": {},
     "output_type": "display_data"
    }
   ],
   "source": [
    "HistoryPrice = pd.read_csv('output/20220101-20221231 CAISO Real-time Price.csv')\n",
    "HistoryPrice = HistoryPrice.drop_duplicates(subset=['Date', 'hub'])\n",
    "Pivot_HistoryPrice = HistoryPrice.pivot(index='Date', columns='hub', values='price')\n",
    "\n",
    "case1 = 'Strategic/6Regions/2022/UC25ED1_Strategic_true_ratio0.0_Seg1_BAW0_Fuel2.0_Error0.25NegativeRenew_1.0-1.0-2.0-2.0-2.0'\n",
    "RTPrice1 = pd.read_csv('output/'+case1+'/EDprice.csv',header=None)*12\n",
    "case2 = 'Strategic/6Regions/2022/UC25ED1_Strategic_true_ratio0.0_Seg1_BAW0_Fuel2.0_Error0.25NegativeRenew_1.0-2.0-2.0-2.0-2.0'\n",
    "RTPrice2 = pd.read_csv('output/'+case2+'/EDprice.csv',header=None)*12\n",
    "case3 = 'Strategic/6Regions/2022/UC25ED1_Strategic_true_ratio0.0_Seg1_BAW0_Fuel2.0_Error0.25NegativeRenew_2.0-2.0-2.0-2.0-2.0'\n",
    "RTPrice3 = pd.read_csv('output/'+case3+'/EDprice.csv',header=None)*12\n",
    "case4 = 'Strategic/6Regions/2022/UC25ED1_Strategic_true_ratio0.0_Seg1_BAW0_Fuel1.0_Error0.25NegativeRenew_1.0-1.0-2.0-2.0-2.0'\n",
    "RTPrice4 = pd.read_csv('output/'+case4+'/EDprice.csv',header=None)*12\n",
    "case5 = 'Strategic/6Regions/2022/UC25ED1_Strategic_true_ratio0.0_Seg1_BAW0_Fuel1.2_Error0.25NegativeRenew_Load1.0_0.5-1.0-1.5-2.0-2.5'\n",
    "RTPrice5 = pd.read_csv('output/'+case5+'/EDprice.csv',header=None)*12\n",
    "\n",
    "# Create a 2x4 grid of subplots\n",
    "# fig, axs = plt.subplots(2, 4, figsize=(16, 9))\n",
    "fig, axs = plt.subplots(1, 2, figsize=(10, 6))\n",
    "\n",
    "# Loop through each column and each subplot\n",
    "for idx, (col, ax) in enumerate(zip([0,1], axs.flatten())):\n",
    "    sorted_vals = np.sort(Pivot_HistoryPrice.iloc[:,col].values)[::-1]\n",
    "    sorted_vals1 = np.sort(RTPrice1[col].values)[::-1]\n",
    "    sorted_vals2 = np.sort(RTPrice2[col].values)[::-1]\n",
    "    sorted_vals3 = np.sort(RTPrice3[col].values)[::-1]\n",
    "    sorted_vals4 = np.sort(RTPrice4[col].values)[::-1]\n",
    "    sorted_vals5 = np.sort(RTPrice5[col].values)[::-1]\n",
    "\n",
    "    \n",
    "    # Calculate the \"reverse\" cumulative distribution\n",
    "    cdf = np.arange(1, len(sorted_vals) + 1) / float(len(sorted_vals))\n",
    "    cdf1 = np.arange(1, len(sorted_vals1) + 1) / float(len(sorted_vals1))\n",
    "    cdf2 = np.arange(1, len(sorted_vals2) + 1) / float(len(sorted_vals2))\n",
    "    cdf3 = np.arange(1, len(sorted_vals3) + 1) / float(len(sorted_vals3))\n",
    "    cdf4 = np.arange(1, len(sorted_vals4) + 1) / float(len(sorted_vals4))\n",
    "    cdf5 = np.arange(1, len(sorted_vals5) + 1) / float(len(sorted_vals5))\n",
    "    \n",
    "    # Plot the CDF\n",
    "    ax.plot(cdf,sorted_vals)\n",
    "    ax.plot(cdf1,sorted_vals1)\n",
    "    ax.plot(cdf2,sorted_vals2)\n",
    "    ax.plot(cdf3,sorted_vals3)\n",
    "#     ax.plot(cdf4,sorted_vals4)\n",
    "    ax.plot(cdf5,sorted_vals5)\n",
    "\n",
    "    ax.set_xlim(0.0, 1.0)\n",
    "    ax.set_ylim(-50, 220)\n",
    "    ax.legend(['Historical','3', '23', '123', 'Old', 'E0.25L1.1'],fontsize=20)\n",
    "    ax.set_title(f\"High Price CDF of Region {idx+1}\",fontsize=20)\n",
    "    ax.tick_params(axis='both', which='major', labelsize=20)\n",
    "    ax.set_ylabel(\"Real-time Price ($/MWh)\",fontsize=20)\n",
    "\n",
    "plt.tight_layout()\n",
    "plt.show()"
   ]
  },
  {
   "cell_type": "code",
   "execution_count": null,
   "id": "01ba47c4",
   "metadata": {},
   "outputs": [],
   "source": [
    "HistoryPrice = pd.read_csv('output/20220101-20221231 CAISO Real-time Price.csv')\n",
    "HistoryPrice = HistoryPrice.drop_duplicates(subset=['Date', 'hub'])\n",
    "Pivot_HistoryPrice = HistoryPrice.pivot(index='Date', columns='hub', values='price')\n",
    "\n",
    "case1 = 'Strategic/MarginalCost/UC25ED1_Strategic_true_ratio1.0_Seg1_BAW0_MC10.0'\n",
    "RTPrice1 = pd.read_csv('output/'+case1+'/EDprice.csv',header=None)*12\n",
    "case2 = 'Strategic/MarginalCost/UC25ED1_Strategic_true_ratio1.0_Seg1_BAW0_MC20.0'\n",
    "RTPrice2 = pd.read_csv('output/'+case2+'/EDprice.csv',header=None)*12\n",
    "case3 = 'Strategic/MarginalCost/UC25ED1_Strategic_true_ratio1.0_Seg1_BAW0_MC30.0'\n",
    "RTPrice3 = pd.read_csv('output/'+case3+'/EDprice.csv',header=None)*12\n",
    "case4 = 'Strategic/MarginalCost/UC25ED1_Strategic_true_ratio1.0_Seg1_BAW0_MC40.0'\n",
    "RTPrice4 = pd.read_csv('output/'+case4+'/EDprice.csv',header=None)*12\n",
    "case5 = 'Strategic/MarginalCost/UC25ED1_Strategic_true_ratio1.0_Seg1_BAW0_MC50.0'\n",
    "RTPrice5 = pd.read_csv('output/'+case5+'/EDprice.csv',header=None)*12\n",
    "\n",
    "# Create a 2x4 grid of subplots\n",
    "# fig, axs = plt.subplots(2, 4, figsize=(16, 9))\n",
    "fig, axs = plt.subplots(1, 2, figsize=(10, 6))\n",
    "\n",
    "# Loop through each column and each subplot\n",
    "for idx, (col, ax) in enumerate(zip([0,1], axs.flatten())):\n",
    "    sorted_vals = np.sort(Pivot_HistoryPrice.iloc[:,col].values)[::-1]\n",
    "    sorted_vals1 = np.sort(RTPrice1[col].values)[::-1]\n",
    "    sorted_vals2 = np.sort(RTPrice2[col].values)[::-1]\n",
    "    sorted_vals3 = np.sort(RTPrice3[col].values)[::-1]\n",
    "    sorted_vals4 = np.sort(RTPrice4[col].values)[::-1]\n",
    "    sorted_vals5 = np.sort(RTPrice5[col].values)[::-1]\n",
    "\n",
    "    \n",
    "    # Calculate the \"reverse\" cumulative distribution\n",
    "    cdf = np.arange(1, len(sorted_vals) + 1) / float(len(sorted_vals))\n",
    "    cdf1 = np.arange(1, len(sorted_vals1) + 1) / float(len(sorted_vals1))\n",
    "    cdf2 = np.arange(1, len(sorted_vals2) + 1) / float(len(sorted_vals2))\n",
    "    cdf3 = np.arange(1, len(sorted_vals3) + 1) / float(len(sorted_vals3))\n",
    "    cdf4 = np.arange(1, len(sorted_vals4) + 1) / float(len(sorted_vals4))\n",
    "    cdf5 = np.arange(1, len(sorted_vals5) + 1) / float(len(sorted_vals5))\n",
    "    \n",
    "    # Plot the CDF\n",
    "    ax.plot(cdf,sorted_vals)\n",
    "    ax.plot(cdf1,sorted_vals1)\n",
    "    ax.plot(cdf2,sorted_vals2)\n",
    "    ax.plot(cdf3,sorted_vals3)\n",
    "    ax.plot(cdf4,sorted_vals4)\n",
    "    ax.plot(cdf5,sorted_vals5)\n",
    "\n",
    "    ax.set_xlim(0.7, 1.01)\n",
    "    ax.set_ylim(-50, 200)\n",
    "    ax.legend(['Historical','MC10', 'MC20', 'MC30', 'MC40', 'MC50'],fontsize=20)\n",
    "    ax.set_title(f\"Low Price CDF of Region {idx+1}\",fontsize=20)\n",
    "    ax.tick_params(axis='both', which='major', labelsize=20)\n",
    "    ax.set_ylabel(\"Real-time Price ($/MWh)\",fontsize=20)\n",
    "\n",
    "plt.tight_layout()\n",
    "plt.show()"
   ]
  },
  {
   "cell_type": "code",
   "execution_count": null,
   "id": "487e67a5",
   "metadata": {},
   "outputs": [],
   "source": [
    "HistoryPrice = pd.read_csv('output/20220101-20221231 CAISO Real-time Price.csv')\n",
    "HistoryPrice = HistoryPrice.drop_duplicates(subset=['Date', 'hub'])\n",
    "Pivot_HistoryPrice = HistoryPrice.pivot(index='Date', columns='hub', values='price')\n",
    "\n",
    "case1 = 'Strategic/UC25ED1_Strategic_true_Seg1_Load1.0_Fuel1.2_Error0.25_25MW_MIP0.1_NSDAB'\n",
    "RTPrice1 = pd.read_csv('output/'+case1+'/EDprice.csv',header=None)*12\n",
    "case5 = 'Strategic/UC25ED1_Strategic_true_Seg5_Load1.0_Fuel1.2_Error0.25_25MW_MIP0.1_NSDAB'\n",
    "RTPrice5 = pd.read_csv('output/'+case5+'/EDprice.csv',header=None)*12\n",
    "case1mar = 'Strategic/UC25ED1_Strategic_true_Seg1_Load1.0_Fuel1.2_Error0.25_Margin_MIP0.1_NSDAB'\n",
    "RTPrice1mar = pd.read_csv('output/'+case1+'/EDprice.csv',header=None)*12\n",
    "case5mar = 'Strategic/UC25ED1_Strategic_true_Seg5_Load1.0_Fuel1.2_Error0.25_Margin_MIP0.1_NSDAB'\n",
    "RTPrice5mar = pd.read_csv('output/'+case5+'/EDprice.csv',header=None)*12\n",
    "case3 = 'DecUpdate/UC25ED1_Strategic_false_Seg1_Load1.0_Fuel1.2_Error0.25_5GWBES_1yr_ESBid_Emergen'\n",
    "RTPrice3 = pd.read_csv('output/'+case3+'/EDprice.csv',header=None)*12\n",
    "\n",
    "# Create a 2x4 grid of subplots\n",
    "# fig, axs = plt.subplots(2, 4, figsize=(16, 9))\n",
    "fig, axs = plt.subplots(1, 2, figsize=(10, 6))\n",
    "\n",
    "# Loop through each column and each subplot\n",
    "for idx, (col, ax) in enumerate(zip([0,1], axs.flatten())):\n",
    "    sorted_vals = np.sort(Pivot_HistoryPrice.iloc[:,col].values)[::-1]\n",
    "    sorted_vals1 = np.sort(RTPrice1[col].values)[::-1]\n",
    "    sorted_vals2 = np.sort(RTPrice5[col].values)[::-1]\n",
    "    sorted_vals1mar = np.sort(RTPrice1mar[col].values)[::-1]\n",
    "    sorted_vals2mar = np.sort(RTPrice5mar[col].values)[::-1]\n",
    "    sorted_vals3 = np.sort(RTPrice3[col].values)[::-1]\n",
    "    \n",
    "    # Calculate the \"reverse\" cumulative distribution\n",
    "    cdf = np.arange(1, len(sorted_vals) + 1) / float(len(sorted_vals))\n",
    "    cdf1 = np.arange(1, len(sorted_vals1) + 1) / float(len(sorted_vals1))\n",
    "    cdf2 = np.arange(1, len(sorted_vals2) + 1) / float(len(sorted_vals2))\n",
    "    cdf1mar = np.arange(1, len(sorted_vals1mar) + 1) / float(len(sorted_vals1mar))\n",
    "    cdf2mar = np.arange(1, len(sorted_vals2mar) + 1) / float(len(sorted_vals2mar))\n",
    "    cdf3 = np.arange(1, len(sorted_vals3) + 1) / float(len(sorted_vals3))\n",
    "\n",
    "    \n",
    "    # Plot the CDF\n",
    "    ax.plot(cdf,sorted_vals)\n",
    "    ax.plot(cdf1,sorted_vals1)\n",
    "    ax.plot(cdf2,sorted_vals2)\n",
    "#     ax.plot(cdf1mar,sorted_vals1mar, linestyle='--')\n",
    "#     ax.plot(cdf2mar,sorted_vals2mar, linestyle='--')\n",
    "    ax.plot(cdf3,sorted_vals3)\n",
    "\n",
    "    ax.set_xlim(0.7, 0.9)\n",
    "    ax.set_ylim(10, 60)\n",
    "    ax.legend(['Historical', 'Seg1', 'Seg5', 'Base'],fontsize=20)\n",
    "    ax.set_title(f\"Low Price CDF of Region {idx+1}\",fontsize=20)\n",
    "    ax.tick_params(axis='both', which='major', labelsize=20)\n",
    "    ax.set_ylabel(\"Real-time Price ($/MWh)\",fontsize=20)\n",
    "\n",
    "plt.tight_layout()\n",
    "plt.show()"
   ]
  },
  {
   "cell_type": "code",
   "execution_count": null,
   "id": "53824e5d",
   "metadata": {},
   "outputs": [],
   "source": [
    "sorted_vals_S1 = np.sort(S1)[::-1]\n",
    "sorted_vals_S5 = np.sort(S5)[::-1]\n",
    "plt.plot(range(len(S1)), sorted_vals_S1, label='1Seg', color='blue', linewidth=2)\n",
    "plt.plot(range(len(S5)), sorted_vals_S5, label='5Seg', color='red', linewidth=2)\n",
    "plt.title('Power CDF')\n",
    "plt.legend()"
   ]
  },
  {
   "cell_type": "code",
   "execution_count": null,
   "id": "e3545662",
   "metadata": {},
   "outputs": [],
   "source": [
    "ESOC1 = pd.read_csv('output/Strategic/UC25ED1_Strategic_true_Seg1_Load1.0_Fuel1.2_Error0.25_test/EDSOCini.csv',header=None)\n",
    "ESOC5 = pd.read_csv('output/Strategic/UC25ED1_Strategic_true_Seg5_Load1.0_Fuel1.2_Error0.25_test/EDSOCini.csv',header=None)\n",
    "SOC1 = ESOC1[45]\n",
    "SOC5 = ESOC5[45]\n",
    "\n",
    "\n",
    "sorted_vals_SOC1 = np.sort(SOC1)[::-1]\n",
    "sorted_vals_SOC5 = np.sort(SOC5)[::-1]\n",
    "plt.plot(range(len(S1)), sorted_vals_SOC1, label='1Seg', color='blue', linewidth=2)\n",
    "plt.plot(range(len(S5)), sorted_vals_SOC5, label='5Seg', color='red', linewidth=2)\n",
    "plt.title('SOC CDF')\n",
    "plt.legend()"
   ]
  },
  {
   "cell_type": "code",
   "execution_count": null,
   "id": "80f2bb7d",
   "metadata": {},
   "outputs": [],
   "source": [
    "# ESOC = pd.read_csv('output/Strategic/UC25ED1_Strategic_true_Seg5_Load1.0_Fuel1.2_Error0.25_test/EDSOCini.csv',header=None)\n",
    "# plt.plot(range(len(ESOC)), ESOC[45], label='Series 1', color='blue', linewidth=2)\n"
   ]
  }
 ],
 "metadata": {
  "kernelspec": {
   "display_name": "Python 3 (ipykernel)",
   "language": "python",
   "name": "python3"
  },
  "language_info": {
   "codemirror_mode": {
    "name": "ipython",
    "version": 3
   },
   "file_extension": ".py",
   "mimetype": "text/x-python",
   "name": "python",
   "nbconvert_exporter": "python",
   "pygments_lexer": "ipython3",
   "version": "3.11.4"
  }
 },
 "nbformat": 4,
 "nbformat_minor": 5
}
